{
  "cells": [
    {
      "cell_type": "code",
      "execution_count": null,
      "metadata": {
        "id": "HIu7B8uDL8WH"
      },
      "outputs": [],
      "source": [
        "import numpy as np\n",
        "import pandas as pd\n",
        "import seaborn as sns\n",
        "import matplotlib.pyplot as plt\n",
        "from sklearn.cluster import AgglomerativeClustering #Importing our clustering algorithm : Agglomerative\n"
      ]
    },
    {
      "cell_type": "code",
      "execution_count": null,
      "metadata": {
        "id": "Mrj5Y2T0L8WK"
      },
      "outputs": [],
      "source": [
        "data = pd.read_csv('CC GENERAL.csv', header='infer')\n",
        "data"
      ]
    },
    {
      "cell_type": "code",
      "execution_count": null,
      "metadata": {
        "id": "op9O5uBzL8WK"
      },
      "outputs": [],
      "source": [
        "print (\"\\nUnique values :  \\n\",data.nunique())"
      ]
    },
    {
      "cell_type": "code",
      "execution_count": null,
      "metadata": {
        "id": "-pEZKOenL8WL"
      },
      "outputs": [],
      "source": [
        "#cust_id may add unecessary noise to our data. Hence we need to drop it\n",
        "\n",
        "data.drop(columns=['CUST_ID'], inplace=True)"
      ]
    },
    {
      "cell_type": "code",
      "execution_count": null,
      "metadata": {
        "id": "4qcA2hDEL8WL"
      },
      "outputs": [],
      "source": [
        "data.info()"
      ]
    },
    {
      "cell_type": "code",
      "execution_count": null,
      "metadata": {
        "id": "K6qONKGsL8WM"
      },
      "outputs": [],
      "source": [
        "data.isnull().sum()"
      ]
    },
    {
      "cell_type": "code",
      "execution_count": null,
      "metadata": {
        "id": "9khw-4t_L8WM"
      },
      "outputs": [],
      "source": [
        "sns.displot(data.CREDIT_LIMIT)"
      ]
    },
    {
      "cell_type": "code",
      "execution_count": null,
      "metadata": {
        "id": "wFmDB8xDL8WM"
      },
      "outputs": [],
      "source": [
        "data.CREDIT_LIMIT.skew()"
      ]
    },
    {
      "cell_type": "code",
      "execution_count": null,
      "metadata": {
        "id": "RSAzvjNqL8WN"
      },
      "outputs": [],
      "source": [
        "sns.displot(data.MINIMUM_PAYMENTS)"
      ]
    },
    {
      "cell_type": "code",
      "execution_count": null,
      "metadata": {
        "id": "dQvI_-XcL8WN"
      },
      "outputs": [],
      "source": [
        "data.MINIMUM_PAYMENTS.skew()"
      ]
    },
    {
      "cell_type": "code",
      "execution_count": null,
      "metadata": {
        "id": "JyE43iXEL8WN"
      },
      "outputs": [],
      "source": [
        "from sklearn.preprocessing import normalize\n",
        "data_scaled = normalize(data)\n",
        "data_scaled = pd.DataFrame(data_scaled, columns=data.columns)\n",
        "data_scaled.head()"
      ]
    },
    {
      "cell_type": "code",
      "execution_count": null,
      "metadata": {
        "id": "KNzt4ZH1L8WO"
      },
      "outputs": [],
      "source": [
        "data[\"MINIMUM_PAYMENTS\"].fillna(data[\"MINIMUM_PAYMENTS\"].median(), inplace=True)\n",
        "data[\"CREDIT_LIMIT\"].fillna(data[\"CREDIT_LIMIT\"].median(), inplace=True)"
      ]
    },
    {
      "cell_type": "code",
      "execution_count": null,
      "metadata": {
        "id": "5Po5OcFZL8WO"
      },
      "outputs": [],
      "source": [
        "def plot_correlation_map( df ):\n",
        "\n",
        "    corr = df.corr()\n",
        "\n",
        "    s , ax = plt.subplots( figsize =( 12 , 10 ) )\n",
        "\n",
        "    cmap = sns.diverging_palette( 220 , 10 , as_cmap = True )\n",
        "\n",
        "    s = sns.heatmap(\n",
        "\n",
        "        corr, \n",
        "\n",
        "        cmap = cmap,\n",
        "\n",
        "        square=True, \n",
        "\n",
        "        cbar_kws={ 'shrink' : .9 }, \n",
        "\n",
        "        ax=ax, \n",
        "\n",
        "        annot = True, \n",
        "\n",
        "        annot_kws = { 'fontsize' : 12 }\n",
        "\n",
        "        )\n",
        "    \n",
        "plot_correlation_map( data )"
      ]
    },
    {
      "cell_type": "code",
      "execution_count": null,
      "metadata": {
        "id": "Fiba1w53L8WP"
      },
      "outputs": [],
      "source": [
        "model=AgglomerativeClustering(n_clusters=5, affinity='euclidean', linkage='complete')\n",
        "clust_labels=model.fit_predict(data.drop('CUST_ID', axis=1))  #Applying agglomerative algorithm with 5 clusters, using euclidean distance as a metric"
      ]
    },
    {
      "cell_type": "code",
      "execution_count": null,
      "metadata": {
        "id": "sV54_R8uL8WP"
      },
      "outputs": [],
      "source": [
        "agglomerative=pd.DataFrame(clust_labels)\n",
        "agglomerative"
      ]
    },
    {
      "cell_type": "code",
      "execution_count": null,
      "metadata": {
        "id": "CdIilFK3L8WP"
      },
      "outputs": [],
      "source": [
        "import matplotlib.pyplot as plt\n",
        "fig =plt.figure()\n",
        "ax = fig.add_subplot(111)\n",
        "scatter = ax.scatter (data ['PURCHASES'] , data [\"BALANCE_FREQUENCY\"] , c= agglomerative[0], s=50)\n",
        "ax.set_title(\"Agglomerative Clutering\")\n",
        "ax.set_xlabel(\"BALANCE\")\n",
        "ax.set_ylabel(\"BALANCE_FREQUENCY\")\n",
        "plt.colorbar(scatter)"
      ]
    }
  ],
  "metadata": {
    "kernelspec": {
      "display_name": "Python 3",
      "language": "python",
      "name": "python3"
    },
    "language_info": {
      "codemirror_mode": {
        "name": "ipython",
        "version": 3
      },
      "file_extension": ".py",
      "mimetype": "text/x-python",
      "name": "python",
      "nbconvert_exporter": "python",
      "pygments_lexer": "ipython3",
      "version": "3.8.5"
    },
    "colab": {
      "provenance": []
    }
  },
  "nbformat": 4,
  "nbformat_minor": 0
}