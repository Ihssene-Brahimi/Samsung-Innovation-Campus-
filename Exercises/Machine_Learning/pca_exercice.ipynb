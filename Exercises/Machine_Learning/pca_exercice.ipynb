{
 "cells": [
  {
   "cell_type": "markdown",
   "metadata": {},
   "source": [
    "### 1. Dimensional reduction with PCA:"
   ]
  },
  {
   "cell_type": "code",
   "execution_count": 51,
   "metadata": {
    "ExecuteTime": {
     "end_time": "2021-08-14T22:20:46.163252Z",
     "start_time": "2021-08-14T22:20:45.110780Z"
    }
   },
   "outputs": [],
   "source": [
    "import numpy as np\n",
    "import pandas as pd\n",
    "import matplotlib.pyplot as plt\n",
    "import seaborn as sns\n",
    "from sklearn.datasets import make_blobs\n",
    "from sklearn.decomposition import PCA, NMF\n",
    "import os\n",
    "%matplotlib inline\n",
    "import warnings\n",
    "\n",
    "warnings.filterwarnings(\"ignore\")"
   ]
  },
  {
   "cell_type": "markdown",
   "metadata": {},
   "source": [
    "in the following , we will see an application of PCA on image processing. "
   ]
  },
  {
   "cell_type": "code",
   "execution_count": 30,
   "metadata": {
    "ExecuteTime": {
     "end_time": "2021-08-14T21:48:16.697421Z",
     "start_time": "2021-08-14T21:48:16.685428Z"
    }
   },
   "outputs": [],
   "source": [
    "df = pd.read_csv('data_number_nine.csv', header='infer')"
   ]
  },
  {
   "cell_type": "code",
   "execution_count": 31,
   "metadata": {
    "ExecuteTime": {
     "end_time": "2021-08-14T21:48:16.978507Z",
     "start_time": "2021-08-14T21:48:16.968513Z"
    },
    "scrolled": true
   },
   "outputs": [
    {
     "data": {
      "text/plain": [
       "(23, 23)"
      ]
     },
     "execution_count": 31,
     "metadata": {},
     "output_type": "execute_result"
    }
   ],
   "source": [
    "df.shape"
   ]
  },
  {
   "cell_type": "code",
   "execution_count": 32,
   "metadata": {
    "ExecuteTime": {
     "end_time": "2021-08-14T21:48:17.257401Z",
     "start_time": "2021-08-14T21:48:17.220772Z"
    },
    "scrolled": true
   },
   "outputs": [
    {
     "data": {
      "text/html": [
       "<div>\n",
       "<style scoped>\n",
       "    .dataframe tbody tr th:only-of-type {\n",
       "        vertical-align: middle;\n",
       "    }\n",
       "\n",
       "    .dataframe tbody tr th {\n",
       "        vertical-align: top;\n",
       "    }\n",
       "\n",
       "    .dataframe thead th {\n",
       "        text-align: right;\n",
       "    }\n",
       "</style>\n",
       "<table border=\"1\" class=\"dataframe\">\n",
       "  <thead>\n",
       "    <tr style=\"text-align: right;\">\n",
       "      <th></th>\n",
       "      <th>X1</th>\n",
       "      <th>X2</th>\n",
       "      <th>X3</th>\n",
       "      <th>X4</th>\n",
       "      <th>X5</th>\n",
       "      <th>X6</th>\n",
       "      <th>X7</th>\n",
       "      <th>X8</th>\n",
       "      <th>X9</th>\n",
       "      <th>X10</th>\n",
       "      <th>...</th>\n",
       "      <th>X14</th>\n",
       "      <th>X15</th>\n",
       "      <th>X16</th>\n",
       "      <th>X17</th>\n",
       "      <th>X18</th>\n",
       "      <th>X19</th>\n",
       "      <th>X20</th>\n",
       "      <th>X21</th>\n",
       "      <th>X22</th>\n",
       "      <th>X23</th>\n",
       "    </tr>\n",
       "  </thead>\n",
       "  <tbody>\n",
       "    <tr>\n",
       "      <th>0</th>\n",
       "      <td>0.006</td>\n",
       "      <td>0.006</td>\n",
       "      <td>0.006</td>\n",
       "      <td>0.005</td>\n",
       "      <td>0.005</td>\n",
       "      <td>0.005</td>\n",
       "      <td>0.0050</td>\n",
       "      <td>0.005</td>\n",
       "      <td>0.0050</td>\n",
       "      <td>0.0050</td>\n",
       "      <td>...</td>\n",
       "      <td>0.0050</td>\n",
       "      <td>0.0050</td>\n",
       "      <td>0.0050</td>\n",
       "      <td>0.0050</td>\n",
       "      <td>0.0050</td>\n",
       "      <td>0.0050</td>\n",
       "      <td>0.0050</td>\n",
       "      <td>0.005</td>\n",
       "      <td>0.006</td>\n",
       "      <td>0.006</td>\n",
       "    </tr>\n",
       "    <tr>\n",
       "      <th>1</th>\n",
       "      <td>0.005</td>\n",
       "      <td>0.005</td>\n",
       "      <td>0.005</td>\n",
       "      <td>0.005</td>\n",
       "      <td>0.005</td>\n",
       "      <td>0.005</td>\n",
       "      <td>0.0050</td>\n",
       "      <td>0.005</td>\n",
       "      <td>0.0050</td>\n",
       "      <td>0.0050</td>\n",
       "      <td>...</td>\n",
       "      <td>0.0050</td>\n",
       "      <td>0.0050</td>\n",
       "      <td>0.0050</td>\n",
       "      <td>0.0050</td>\n",
       "      <td>0.0050</td>\n",
       "      <td>0.0050</td>\n",
       "      <td>0.0050</td>\n",
       "      <td>0.005</td>\n",
       "      <td>0.005</td>\n",
       "      <td>0.005</td>\n",
       "    </tr>\n",
       "    <tr>\n",
       "      <th>2</th>\n",
       "      <td>0.005</td>\n",
       "      <td>0.005</td>\n",
       "      <td>0.005</td>\n",
       "      <td>0.005</td>\n",
       "      <td>0.005</td>\n",
       "      <td>0.005</td>\n",
       "      <td>0.0050</td>\n",
       "      <td>0.005</td>\n",
       "      <td>0.0050</td>\n",
       "      <td>0.0050</td>\n",
       "      <td>...</td>\n",
       "      <td>0.7854</td>\n",
       "      <td>0.7776</td>\n",
       "      <td>0.3738</td>\n",
       "      <td>0.1486</td>\n",
       "      <td>0.0050</td>\n",
       "      <td>0.0050</td>\n",
       "      <td>0.0050</td>\n",
       "      <td>0.005</td>\n",
       "      <td>0.005</td>\n",
       "      <td>0.005</td>\n",
       "    </tr>\n",
       "    <tr>\n",
       "      <th>3</th>\n",
       "      <td>0.005</td>\n",
       "      <td>0.005</td>\n",
       "      <td>0.005</td>\n",
       "      <td>0.005</td>\n",
       "      <td>0.005</td>\n",
       "      <td>0.005</td>\n",
       "      <td>0.0050</td>\n",
       "      <td>0.005</td>\n",
       "      <td>0.1797</td>\n",
       "      <td>0.5951</td>\n",
       "      <td>...</td>\n",
       "      <td>0.9911</td>\n",
       "      <td>0.9911</td>\n",
       "      <td>0.9911</td>\n",
       "      <td>0.9756</td>\n",
       "      <td>0.8242</td>\n",
       "      <td>0.5912</td>\n",
       "      <td>0.0283</td>\n",
       "      <td>0.005</td>\n",
       "      <td>0.005</td>\n",
       "      <td>0.005</td>\n",
       "    </tr>\n",
       "    <tr>\n",
       "      <th>4</th>\n",
       "      <td>0.005</td>\n",
       "      <td>0.005</td>\n",
       "      <td>0.005</td>\n",
       "      <td>0.005</td>\n",
       "      <td>0.005</td>\n",
       "      <td>0.005</td>\n",
       "      <td>0.1836</td>\n",
       "      <td>0.599</td>\n",
       "      <td>0.9368</td>\n",
       "      <td>0.9911</td>\n",
       "      <td>...</td>\n",
       "      <td>0.5214</td>\n",
       "      <td>0.6099</td>\n",
       "      <td>0.7815</td>\n",
       "      <td>0.9911</td>\n",
       "      <td>0.8941</td>\n",
       "      <td>0.8785</td>\n",
       "      <td>0.4088</td>\n",
       "      <td>0.005</td>\n",
       "      <td>0.005</td>\n",
       "      <td>0.005</td>\n",
       "    </tr>\n",
       "  </tbody>\n",
       "</table>\n",
       "<p>5 rows × 23 columns</p>\n",
       "</div>"
      ],
      "text/plain": [
       "      X1     X2     X3     X4     X5     X6      X7     X8      X9     X10  \\\n",
       "0  0.006  0.006  0.006  0.005  0.005  0.005  0.0050  0.005  0.0050  0.0050   \n",
       "1  0.005  0.005  0.005  0.005  0.005  0.005  0.0050  0.005  0.0050  0.0050   \n",
       "2  0.005  0.005  0.005  0.005  0.005  0.005  0.0050  0.005  0.0050  0.0050   \n",
       "3  0.005  0.005  0.005  0.005  0.005  0.005  0.0050  0.005  0.1797  0.5951   \n",
       "4  0.005  0.005  0.005  0.005  0.005  0.005  0.1836  0.599  0.9368  0.9911   \n",
       "\n",
       "   ...     X14     X15     X16     X17     X18     X19     X20    X21    X22  \\\n",
       "0  ...  0.0050  0.0050  0.0050  0.0050  0.0050  0.0050  0.0050  0.005  0.006   \n",
       "1  ...  0.0050  0.0050  0.0050  0.0050  0.0050  0.0050  0.0050  0.005  0.005   \n",
       "2  ...  0.7854  0.7776  0.3738  0.1486  0.0050  0.0050  0.0050  0.005  0.005   \n",
       "3  ...  0.9911  0.9911  0.9911  0.9756  0.8242  0.5912  0.0283  0.005  0.005   \n",
       "4  ...  0.5214  0.6099  0.7815  0.9911  0.8941  0.8785  0.4088  0.005  0.005   \n",
       "\n",
       "     X23  \n",
       "0  0.006  \n",
       "1  0.005  \n",
       "2  0.005  \n",
       "3  0.005  \n",
       "4  0.005  \n",
       "\n",
       "[5 rows x 23 columns]"
      ]
     },
     "execution_count": 32,
     "metadata": {},
     "output_type": "execute_result"
    }
   ],
   "source": [
    "df.head(5)"
   ]
  },
  {
   "cell_type": "markdown",
   "metadata": {},
   "source": [
    "#### 1.2. Visualize the data:"
   ]
  },
  {
   "cell_type": "code",
   "execution_count": 33,
   "metadata": {
    "ExecuteTime": {
     "end_time": "2021-08-14T21:48:19.386761Z",
     "start_time": "2021-08-14T21:48:19.373750Z"
    }
   },
   "outputs": [],
   "source": [
    "# Define a suitable visualization function based on imshow().\n",
    "# Visualizes the whole dataset at once as pixel image.\n",
    "def ShowMe(X):\n",
    "    Y= 1.0 - X\n",
    "    plt.imshow(Y, cmap='gray')\n",
    "    plt.show()"
   ]
  },
  {
   "cell_type": "code",
   "execution_count": 34,
   "metadata": {
    "ExecuteTime": {
     "end_time": "2021-08-14T21:48:19.972742Z",
     "start_time": "2021-08-14T21:48:19.790518Z"
    }
   },
   "outputs": [
    {
     "data": {
      "image/png": "[encoded data removed]",
      "text/plain": [
       "<Figure size 432x288 with 1 Axes>"
      ]
     },
     "metadata": {
      "needs_background": "light"
     },
     "output_type": "display_data"
    }
   ],
   "source": [
    "X = np.array(df)\n",
    "ShowMe(X)"
   ]
  },
  {
   "cell_type": "markdown",
   "metadata": {},
   "source": [
    "#### 1.3. Visualize the reduced dimensional input by PCA:"
   ]
  },
  {
   "cell_type": "markdown",
   "metadata": {
    "ExecuteTime": {
     "end_time": "2021-08-14T22:06:29.474433Z",
     "start_time": "2021-08-14T22:06:29.459443Z"
    }
   },
   "source": [
    "complete the following function , use ``PCA`` from sklearn :\n",
    "- first transform the given X by setting the number of components ``n_components`` to nPC \n",
    "- then transform X using ``fit_transform`` \n",
    "- then return the inverse transform of value returned by the latter. (compressed version of X )"
   ]
  },
  {
   "cell_type": "code",
   "execution_count": 1,
   "metadata": {
    "ExecuteTime": {
     "end_time": "2021-08-14T22:36:00.884395Z",
     "start_time": "2021-08-14T22:36:00.881398Z"
    }
   },
   "outputs": [],
   "source": [
    "# Define a function that returns reduced dimensional input.\n",
    "def reducedInputPCA(X,nPC):\n",
    "    # Define a PCA object for a given number of target PCs. \n",
    "    # Get the transformed scores.\n",
    "    # Bring back the transformed scores to the original coordinate system.\n",
    "    return res"
   ]
  },
  {
   "cell_type": "code",
   "execution_count": 41,
   "metadata": {
    "ExecuteTime": {
     "end_time": "2021-08-14T22:10:00.303955Z",
     "start_time": "2021-08-14T22:09:59.547389Z"
    }
   },
   "outputs": [
    {
     "name": "stdout",
     "output_type": "stream",
     "text": [
      "N# of PCs = 23\n"
     ]
    },
    {
     "data": {
      "image/png": "[encoded data removed]",
      "text/plain": [
       "<Figure size 432x288 with 1 Axes>"
      ]
     },
     "metadata": {
      "needs_background": "light"
     },
     "output_type": "display_data"
    },
    {
     "name": "stdout",
     "output_type": "stream",
     "text": [
      "N# of PCs = 10\n"
     ]
    },
    {
     "data": {
      "image/png": "[encoded data removed]",
      "text/plain": [
       "<Figure size 432x288 with 1 Axes>"
      ]
     },
     "metadata": {
      "needs_background": "light"
     },
     "output_type": "display_data"
    },
    {
     "name": "stdout",
     "output_type": "stream",
     "text": [
      "N# of PCs = 5\n"
     ]
    },
    {
     "data": {
      "image/png": "[encoded data removed]",
      "text/plain": [
       "<Figure size 432x288 with 1 Axes>"
      ]
     },
     "metadata": {
      "needs_background": "light"
     },
     "output_type": "display_data"
    },
    {
     "name": "stdout",
     "output_type": "stream",
     "text": [
      "N# of PCs = 3\n"
     ]
    },
    {
     "data": {
      "image/png": "[encoded data removed]",
      "text/plain": [
       "<Figure size 432x288 with 1 Axes>"
      ]
     },
     "metadata": {
      "needs_background": "light"
     },
     "output_type": "display_data"
    },
    {
     "name": "stdout",
     "output_type": "stream",
     "text": [
      "N# of PCs = 1\n"
     ]
    },
    {
     "data": {
      "image/png": "[encoded data removed]",
      "text/plain": [
       "<Figure size 432x288 with 1 Axes>"
      ]
     },
     "metadata": {
      "needs_background": "light"
     },
     "output_type": "display_data"
    }
   ],
   "source": [
    "# Visualize the reduced dimensional input for different cases.\n",
    "# As we shrink the dimension, the image gets less clear.\n",
    "for nPC in [23, 10, 5, 3, 1]:\n",
    "    Z = reducedInputPCA(X,nPC)\n",
    "    print( \"N# of PCs = \" + str(nPC))\n",
    "    ShowMe(Z)"
   ]
  },
  {
   "cell_type": "markdown",
   "metadata": {},
   "source": [
    "#### 1.4. Analysis of the cumulative variance ratio (CVR):"
   ]
  },
  {
   "cell_type": "code",
   "execution_count": 42,
   "metadata": {
    "ExecuteTime": {
     "end_time": "2021-08-14T22:10:20.559385Z",
     "start_time": "2021-08-14T22:10:20.538379Z"
    }
   },
   "outputs": [
    {
     "data": {
      "text/plain": [
       "PCA(copy=True, iterated_power='auto', n_components=23, random_state=None,\n",
       "  svd_solver='auto', tol=0.0, whiten=False)"
      ]
     },
     "execution_count": 42,
     "metadata": {},
     "output_type": "execute_result"
    }
   ],
   "source": [
    "pca = PCA(n_components = 23)                          # Define a PCA object.\n",
    "pca.fit(X)                                            # Train with the data."
   ]
  },
  {
   "cell_type": "markdown",
   "metadata": {},
   "source": [
    "## visualization of the CVRs\n",
    "\n",
    "calcuate the cumulative sum using `np.cumsum` of the variance_ratio , you can get it using pca.explained_variance_ratio_\n",
    "\n"
   ]
  },
  {
   "cell_type": "code",
   "execution_count": 11,
   "metadata": {
    "ExecuteTime": {
     "end_time": "2021-08-14T15:46:36.608081Z",
     "start_time": "2021-08-14T15:46:36.356440Z"
    }
   },
   "outputs": [
    {
     "data": {
      "image/png": "[encoded data removed]",
      "text/plain": [
       "<Figure size 432x288 with 1 Axes>"
      ]
     },
     "metadata": {
      "needs_background": "light"
     },
     "output_type": "display_data"
    }
   ],
   "source": [
    "# Visualize the CVRs as a Barplot.\n",
    "CVRs =      # Calculate the CVRs.\n",
    "nPCs = np.arange(23)+1                                 # Define an array that corresponds to the number of PCs.\n",
    "plt.bar(nPCs,CVRs,color = 'green', alpha=0.7)  \n",
    "plt.title('Cumulative Variance Ratio')\n",
    "plt.show()"
   ]
  },
  {
   "cell_type": "markdown",
   "metadata": {},
   "source": [
    "conclude the appropriate PC numbers to preserve >= 99% of the variance"
   ]
  },
  {
   "cell_type": "code",
   "execution_count": 2,
   "metadata": {
    "ExecuteTime": {
     "end_time": "2021-08-14T22:37:34.479794Z",
     "start_time": "2021-08-14T22:37:34.474795Z"
    }
   },
   "outputs": [],
   "source": [
    "# your code here "
   ]
  },
  {
   "cell_type": "markdown",
   "metadata": {},
   "source": [
    "### 2. Dimensional reduction with NMF:"
   ]
  },
  {
   "cell_type": "markdown",
   "metadata": {},
   "source": [
    "NMF (Non-negative Matrix Factorization) is applicable for data matrix that contains only non-negative values.<br>\n",
    "Similar to PCA, we can do dimensional reduction and obtain reduced dimensional input using NMF. <br>\n",
    "We notice that we get a bit less 'noisy' images compared to the result of PCA.<br>\n",
    "More information at [Wikipedia](https://en.wikipedia.org/wiki/Non-negative_matrix_factorization)."
   ]
  },
  {
   "cell_type": "markdown",
   "metadata": {},
   "source": [
    "#### 2.1. Visualize the reduced dimensional input by NMF:"
   ]
  },
  {
   "cell_type": "code",
   "execution_count": 12,
   "metadata": {
    "ExecuteTime": {
     "end_time": "2021-08-14T19:08:24.127666Z",
     "start_time": "2021-08-14T19:08:23.825860Z"
    }
   },
   "outputs": [],
   "source": [
    "# Define a function that returns reduced dimensional input.\n",
    "def reducedInputNMF(X,n):\n",
    "    nmf = NMF(n_components=n, init='random', random_state=0)      # Define a NMF object for a given number of target components.\n",
    "    X_nmf = nmf.fit_transform(X)                                  # Get the transformed scores.        \n",
    "    return nmf.inverse_transform(X_nmf)                           # Bring back the transformed scores to the original coordinate system."
   ]
  },
  {
   "cell_type": "code",
   "execution_count": 13,
   "metadata": {
    "ExecuteTime": {
     "end_time": "2021-08-14T19:08:25.774996Z",
     "start_time": "2021-08-14T19:08:24.839565Z"
    }
   },
   "outputs": [
    {
     "name": "stdout",
     "output_type": "stream",
     "text": [
      "N# of Components = 23\n"
     ]
    },
    {
     "data": {
      "image/png": "[encoded data removed]",
      "text/plain": [
       "<Figure size 432x288 with 1 Axes>"
      ]
     },
     "metadata": {
      "needs_background": "light"
     },
     "output_type": "display_data"
    },
    {
     "name": "stdout",
     "output_type": "stream",
     "text": [
      "N# of Components = 10\n"
     ]
    },
    {
     "data": {
      "image/png": "[encoded data removed]",
      "text/plain": [
       "<Figure size 432x288 with 1 Axes>"
      ]
     },
     "metadata": {
      "needs_background": "light"
     },
     "output_type": "display_data"
    },
    {
     "name": "stdout",
     "output_type": "stream",
     "text": [
      "N# of Components = 5\n"
     ]
    },
    {
     "data": {
      "image/png": "[encoded data removed]",
      "text/plain": [
       "<Figure size 432x288 with 1 Axes>"
      ]
     },
     "metadata": {
      "needs_background": "light"
     },
     "output_type": "display_data"
    },
    {
     "name": "stdout",
     "output_type": "stream",
     "text": [
      "N# of Components = 3\n"
     ]
    },
    {
     "data": {
      "image/png": "[encoded data removed]",
      "text/plain": [
       "<Figure size 432x288 with 1 Axes>"
      ]
     },
     "metadata": {
      "needs_background": "light"
     },
     "output_type": "display_data"
    },
    {
     "name": "stdout",
     "output_type": "stream",
     "text": [
      "N# of Components = 1\n"
     ]
    },
    {
     "data": {
      "image/png": "[encoded data removed]",
      "text/plain": [
       "<Figure size 432x288 with 1 Axes>"
      ]
     },
     "metadata": {
      "needs_background": "light"
     },
     "output_type": "display_data"
    }
   ],
   "source": [
    "# Visualize the reduced dimensional input for different cases.\n",
    "# As we shrink the dimension, the image gets less clear.\n",
    "for n in [23, 10, 5, 3, 1]:\n",
    "    Z = reducedInputNMF(X,n)\n",
    "    print( \"N# of Components = \" + str(n))\n",
    "    ShowMe(Z)"
   ]
  },
  {
   "cell_type": "markdown",
   "metadata": {},
   "source": [
    "### 3. Optimized high dimensional visualiztion with PCA:"
   ]
  },
  {
   "cell_type": "markdown",
   "metadata": {},
   "source": [
    "#### 3.1. Simulate data:"
   ]
  },
  {
   "cell_type": "code",
   "execution_count": 49,
   "metadata": {
    "ExecuteTime": {
     "end_time": "2021-08-14T22:20:01.589300Z",
     "start_time": "2021-08-14T22:20:01.567311Z"
    }
   },
   "outputs": [
    {
     "data": {
      "text/plain": [
       "(150, 8)"
      ]
     },
     "execution_count": 49,
     "metadata": {},
     "output_type": "execute_result"
    }
   ],
   "source": [
    "# 3 clusters in 8 dimensional space.\n",
    "# Hard to visualize!\n",
    "X, label = make_blobs(n_samples=150, n_features=8, centers=3, cluster_std = 5, random_state=123)\n",
    "X.shape"
   ]
  },
  {
   "cell_type": "code",
   "execution_count": 50,
   "metadata": {
    "ExecuteTime": {
     "end_time": "2021-08-14T22:20:03.432527Z",
     "start_time": "2021-08-14T22:20:03.412536Z"
    }
   },
   "outputs": [],
   "source": [
    "# Define a custom color palette.\n",
    "myColors = {0:'red',1:'green',2:'blue'}  \n",
    "labelColors = pd.Series(label).apply(lambda x: myColors[x])"
   ]
  },
  {
   "cell_type": "markdown",
   "metadata": {},
   "source": [
    "plot a scatterplot of X1 and X2 , add hue using labelColors"
   ]
  },
  {
   "cell_type": "code",
   "execution_count": 52,
   "metadata": {
    "ExecuteTime": {
     "end_time": "2021-08-14T22:21:20.387596Z",
     "start_time": "2021-08-14T22:21:19.738584Z"
    }
   },
   "outputs": [
    {
     "data": {
      "image/png": "[encoded data removed]",
      "text/plain": [
       "<Figure size 432x288 with 1 Axes>"
      ]
     },
     "metadata": {
      "needs_background": "light"
     },
     "output_type": "display_data"
    }
   ],
   "source": [
    "# Visualize on the X1 vs X2 plane. X1 ==> column 0,  X2 ==> column 1.  \n",
    "# We can hardly tell the clusters apart! \n",
    "# The clusters largely overlap.\n",
    "plt.xlabel(\"X1\")\n",
    "plt.ylabel(\"X2\")\n",
    "plt.show()"
   ]
  },
  {
   "cell_type": "markdown",
   "metadata": {},
   "source": [
    "same as the above but with  X1 and X5 , add hue using labelColors"
   ]
  },
  {
   "cell_type": "code",
   "execution_count": null,
   "metadata": {
    "ExecuteTime": {
     "end_time": "2021-08-14T22:38:30.325154Z",
     "start_time": "2021-08-14T22:38:29.907914Z"
    }
   },
   "outputs": [],
   "source": [
    "# Visualize on the X1 vs X5 plane. X1 ==> column 0,  X5 ==> column 4.  \n",
    "# We can hardly tell the clusters apart!\n",
    "# The clusters largely overlap.\n",
    "plt.xlabel(\"X1\")\n",
    "plt.ylabel(\"X5\")\n",
    "plt.show()"
   ]
  },
  {
   "cell_type": "markdown",
   "metadata": {},
   "source": [
    "same as the above but with  X5 and X8 , add hue using labelColors"
   ]
  },
  {
   "cell_type": "code",
   "execution_count": null,
   "metadata": {
    "ExecuteTime": {
     "end_time": "2021-08-14T19:09:21.882687Z",
     "start_time": "2021-08-14T19:09:21.696746Z"
    }
   },
   "outputs": [],
   "source": [
    "# Visualize on the X5 vs X8 plane. X5 ==> column 4,  X8 ==> column 7.  \n",
    "# We can hardly tell the clusters apart!\n",
    "# The clusters largely overlap.\n",
    "plt.xlabel(\"X5\")\n",
    "plt.ylabel(\"X8\")\n",
    "plt.show()"
   ]
  },
  {
   "cell_type": "markdown",
   "metadata": {},
   "source": [
    "#### 3.2. Visualize on the plane defined by PC1 and PC2:"
   ]
  },
  {
   "cell_type": "markdown",
   "metadata": {},
   "source": [
    "let's apply dimentionality reduction on X  , use only two principal components "
   ]
  },
  {
   "cell_type": "code",
   "execution_count": 19,
   "metadata": {
    "ExecuteTime": {
     "end_time": "2021-08-14T19:09:28.033501Z",
     "start_time": "2021-08-14T19:09:27.938555Z"
    }
   },
   "outputs": [],
   "source": [
    "# Only 2 first PCs are needed. \n"
   ]
  },
  {
   "cell_type": "markdown",
   "metadata": {},
   "source": [
    "plot PC1 and PC2 , use the same labelcolors as hue , what do you notice ? "
   ]
  },
  {
   "cell_type": "code",
   "execution_count": null,
   "metadata": {
    "ExecuteTime": {
     "end_time": "2021-08-14T19:09:30.013786Z",
     "start_time": "2021-08-14T19:09:29.807928Z"
    }
   },
   "outputs": [],
   "source": [
    "# Visualize on the PC1 vs PC2 plane.\n",
    "# The clusters overlap the least!\n",
    "plt.xlabel(\"PC1\")\n",
    "plt.ylabel(\"PC2\")\n",
    "plt.show()"
   ]
  }
 ],
 "metadata": {
  "kernelspec": {
   "display_name": "Python 3",
   "language": "python",
   "name": "python3"
  },
  "language_info": {
   "codemirror_mode": {
    "name": "ipython",
    "version": 3
   },
   "file_extension": ".py",
   "mimetype": "text/x-python",
   "name": "python",
   "nbconvert_exporter": "python",
   "pygments_lexer": "ipython3",
   "version": "3.7.0"
  },
  "toc": {
   "base_numbering": 1,
   "nav_menu": {},
   "number_sections": true,
   "sideBar": true,
   "skip_h1_title": false,
   "title_cell": "Table of Contents",
   "title_sidebar": "Contents",
   "toc_cell": false,
   "toc_position": {},
   "toc_section_display": true,
   "toc_window_display": false
  },
  "varInspector": {
   "cols": {
    "lenName": 16,
    "lenType": 16,
    "lenVar": 40
   },
   "kernels_config": {
    "python": {
     "delete_cmd_postfix": "",
     "delete_cmd_prefix": "del ",
     "library": "var_list.py",
     "varRefreshCmd": "print(var_dic_list())"
    },
    "r": {
     "delete_cmd_postfix": ") ",
     "delete_cmd_prefix": "rm(",
     "library": "var_list.r",
     "varRefreshCmd": "cat(var_dic_list()) "
    }
   },
   "types_to_exclude": [
    "module",
    "function",
    "builtin_function_or_method",
    "instance",
    "_Feature"
   ],
   "window_display": false
  }
 },
 "nbformat": 4,
 "nbformat_minor": 2
}
