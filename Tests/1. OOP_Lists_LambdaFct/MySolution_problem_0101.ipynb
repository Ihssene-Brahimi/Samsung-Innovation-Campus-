{
  "nbformat": 4,
  "nbformat_minor": 0,
  "metadata": {
    "kernelspec": {
      "display_name": "Python 3",
      "language": "python",
      "name": "python3"
    },
    "language_info": {
      "codemirror_mode": {
        "name": "ipython",
        "version": 3
      },
      "file_extension": ".py",
      "mimetype": "text/x-python",
      "name": "python",
      "nbconvert_exporter": "python",
      "pygments_lexer": "ipython3",
      "version": "3.7.0"
    },
    "toc": {
      "base_numbering": 1,
      "nav_menu": {},
      "number_sections": true,
      "sideBar": true,
      "skip_h1_title": false,
      "title_cell": "Table of Contents",
      "title_sidebar": "Contents",
      "toc_cell": false,
      "toc_position": {},
      "toc_section_display": true,
      "toc_window_display": false
    },
    "varInspector": {
      "cols": {
        "lenName": 16,
        "lenType": 16,
        "lenVar": 40
      },
      "kernels_config": {
        "python": {
          "delete_cmd_postfix": "",
          "delete_cmd_prefix": "del ",
          "library": "var_list.py",
          "varRefreshCmd": "print(var_dic_list())"
        },
        "r": {
          "delete_cmd_postfix": ") ",
          "delete_cmd_prefix": "rm(",
          "library": "var_list.r",
          "varRefreshCmd": "cat(var_dic_list()) "
        }
      },
      "types_to_exclude": [
        "module",
        "function",
        "builtin_function_or_method",
        "instance",
        "_Feature"
      ],
      "window_display": false
    },
    "colab": {
      "provenance": [],
      "collapsed_sections": []
    }
  },
  "cells": [
    {
      "cell_type": "markdown",
      "metadata": {
        "id": "eppqWeM5z83h"
      },
      "source": [
        "## Quiz #0101"
      ]
    },
    {
      "cell_type": "markdown",
      "metadata": {
        "id": "pp-DjE5-z83j"
      },
      "source": [
        "#### Provide the answers in Python code:"
      ]
    },
    {
      "cell_type": "markdown",
      "metadata": {
        "id": "d4g9meVSz83k"
      },
      "source": [
        "1).  In the class A, students' heights are:\n",
        "\n",
        "161.5 <br>\n",
        "165.9 <br>\n",
        "168.7 <br>\n",
        "163.1 <br>\n",
        "170.8 <br>\n",
        "167.2 <br>\n",
        "\n",
        "Calculate the mean height by using Python 'list' and 'for' loop:"
      ]
    },
    {
      "cell_type": "code",
      "metadata": {
        "id": "DdeVdhtQz83k",
        "colab": {
          "base_uri": "https://localhost:8080/"
        },
        "outputId": "f9e63454-bd4b-4d75-c3d6-57ce71220be5"
      },
      "source": [
        "listA = [161.5,165.9,168.7,163.1,170.8,167.2]\n",
        "s = 0\n",
        "for x in listA:\n",
        "  s+=x\n",
        "meanA = s/len(listA)\n",
        "print(\"The mean height is :\", meanA)"
      ],
      "execution_count": null,
      "outputs": [
        {
          "output_type": "stream",
          "text": [
            "The mean height is : 166.20000000000002\n"
          ],
          "name": "stdout"
        }
      ]
    },
    {
      "cell_type": "markdown",
      "metadata": {
        "id": "uZ1c0zyXz83k"
      },
      "source": [
        "2).  In the class B, students' heights are:\n",
        "\n",
        "172.5 <br>\n",
        "162.9 <br>\n",
        "161.7 <br>\n",
        "160.1 <br>\n",
        "161.8 <br>\n",
        "169.2 <br>\n",
        "\n",
        "Calculate the mean height by using Python 'list' and 'for' loop:"
      ]
    },
    {
      "cell_type": "code",
      "metadata": {
        "id": "E1Fwc9g6z83l",
        "colab": {
          "base_uri": "https://localhost:8080/"
        },
        "outputId": "a6f25915-4f93-44ba-aa34-ee7e795b69c8"
      },
      "source": [
        "listB = [172.5,162.9,161.7,160.1,161.8,169.2]\n",
        "s = 0\n",
        "for x in listB:\n",
        "  s+=x\n",
        "meanB = s/len(listB)\n",
        "print(\"The mean height is :\", meanB)"
      ],
      "execution_count": null,
      "outputs": [
        {
          "output_type": "stream",
          "text": [
            "The mean height is : 164.70000000000002\n"
          ],
          "name": "stdout"
        }
      ]
    },
    {
      "cell_type": "markdown",
      "metadata": {
        "id": "SV7qzREmz83l"
      },
      "source": [
        "3). The class A and the class B are joined together to form the class AB. Calculate the mean height by using Python 'list' and 'for' loop:"
      ]
    },
    {
      "cell_type": "code",
      "metadata": {
        "id": "gPKmfmCNz83l",
        "colab": {
          "base_uri": "https://localhost:8080/"
        },
        "outputId": "870c8cf4-8e87-490d-a48c-162df2eed50b"
      },
      "source": [
        "listAB = list(listA+listB)\n",
        "listAB\n",
        "s = 0\n",
        "for x in listAB:\n",
        "  s+=x\n",
        "meanAB = s/len(listAB)\n",
        "print(\"The mean height of both classes is :\", meanAB)\n"
      ],
      "execution_count": null,
      "outputs": [
        {
          "output_type": "stream",
          "text": [
            "The mean height of both classes is : 165.45000000000002\n"
          ],
          "name": "stdout"
        }
      ]
    },
    {
      "cell_type": "markdown",
      "metadata": {
        "id": "pgkhUloaz83l"
      },
      "source": [
        "4). Sort the heights of the class AB."
      ]
    },
    {
      "cell_type": "code",
      "metadata": {
        "id": "hKiFqU8Nz83m",
        "colab": {
          "base_uri": "https://localhost:8080/"
        },
        "outputId": "165ccaff-4c77-4398-ec4e-5dded2c2b18e"
      },
      "source": [
        "listAB.sort()\n",
        "print(\"Sorted list : \",listAB)"
      ],
      "execution_count": null,
      "outputs": [
        {
          "output_type": "stream",
          "text": [
            "Sorted list :  [160.1, 161.5, 161.7, 161.8, 162.9, 163.1, 165.9, 167.2, 168.7, 169.2, 170.8, 172.5]\n"
          ],
          "name": "stdout"
        }
      ]
    },
    {
      "cell_type": "markdown",
      "metadata": {
        "id": "S9Ghd5hbz83m"
      },
      "source": [
        "5). The class C is formed with students with the height less than 165. Make a list 'C' containing the heights of the class C."
      ]
    },
    {
      "cell_type": "code",
      "metadata": {
        "id": "m_9QFALqz83m",
        "colab": {
          "base_uri": "https://localhost:8080/"
        },
        "outputId": "8840998b-a1d0-44ef-c64f-164b2e53fe94"
      },
      "source": [
        "listC = []\n",
        "for x in listAB:\n",
        "  if x<165:\n",
        "    listC.append(x)\n",
        "\n",
        "listC\n"
      ],
      "execution_count": null,
      "outputs": [
        {
          "output_type": "execute_result",
          "data": {
            "text/plain": [
              "[160.1, 161.5, 161.7, 161.8, 162.9, 163.1]"
            ]
          },
          "metadata": {
            "tags": []
          },
          "execution_count": 32
        }
      ]
    },
    {
      "cell_type": "markdown",
      "metadata": {
        "id": "z3lWG4-7z83m"
      },
      "source": [
        "6). The class D is formed with students with the height larger than 160 and less than 170. Make a list containing the heights of the class D."
      ]
    },
    {
      "cell_type": "code",
      "metadata": {
        "id": "yZbPclWRz83n",
        "colab": {
          "base_uri": "https://localhost:8080/"
        },
        "outputId": "aa15861c-b916-4ea1-b714-5d9d2d564ef4"
      },
      "source": [
        "listD = []\n",
        "for x in listC:\n",
        "  if x>160 and x<170:\n",
        "    listD.append(x)\n",
        "\n",
        "listD"
      ],
      "execution_count": null,
      "outputs": [
        {
          "output_type": "execute_result",
          "data": {
            "text/plain": [
              "[160.1, 161.5, 161.7, 161.8, 162.9, 163.1]"
            ]
          },
          "metadata": {
            "tags": []
          },
          "execution_count": 33
        }
      ]
    },
    {
      "cell_type": "code",
      "metadata": {
        "id": "RZ5mEYES4PxH"
      },
      "source": [],
      "execution_count": null,
      "outputs": []
    }
  ]
}