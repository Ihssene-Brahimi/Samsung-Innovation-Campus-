{
  "cells": [
    {
      "cell_type": "markdown",
      "metadata": {
        "id": "C78ysjnnhLAJ"
      },
      "source": [
        "# Revision Solution !!! "
      ]
    },
    {
      "cell_type": "markdown",
      "metadata": {
        "id": "nIh-q_cmhLAP"
      },
      "source": [
        "## \"NLP Classification Analysis.\""
      ]
    },
    {
      "cell_type": "markdown",
      "metadata": {
        "id": "YD7Kxnq7hLAQ"
      },
      "source": [
        "#### Answer the following questions by providing Python code:\n",
        "#### Objectives:\n",
        "- Pre-processing of text data.\n",
        "- Create a TF IDF representation.\n",
        "- Build network and train it untill validation loss reduces (EarlyStopping)\n",
        "- Carry out the predictive analysis using the Naive Bayes algorithm. \n",
        "- Carry out the predictive analysis using SVM. "
      ]
    },
    {
      "cell_type": "code",
      "execution_count": null,
      "metadata": {
        "id": "PvixsqYvhLAS",
        "outputId": "76621800-d648-41bc-cdfe-66844ee99fe7"
      },
      "outputs": [
        {
          "name": "stderr",
          "output_type": "stream",
          "text": [
            "[nltk_data] Downloading package stopwords to\n",
            "[nltk_data]     C:\\Users\\yanis\\AppData\\Roaming\\nltk_data...\n",
            "[nltk_data]   Package stopwords is already up-to-date!\n"
          ]
        }
      ],
      "source": [
        "import re\n",
        "\n",
        "# Importing required libraries\n",
        "from sklearn.model_selection import train_test_split\n",
        "import nltk\n",
        "nltk.download('stopwords')\n",
        "from nltk.corpus import stopwords\n",
        "\n",
        "from sklearn.feature_extraction.text import TfidfVectorizer\n",
        "\n",
        "\n",
        "# keras\n",
        "from keras.models import Sequential\n",
        "from keras.layers import Dense\n",
        "\n",
        "from keras.layers.core import Reshape, Flatten\n",
        "from keras.callbacks import EarlyStopping\n",
        "from keras.optimizers import Adam        # Turn the warnings off."
      ]
    },
    {
      "cell_type": "markdown",
      "metadata": {
        "id": "_9D1OsUrhLAU"
      },
      "source": [
        "## Carry out the data pre-processing\n",
        "1). Read in data\n"
      ]
    },
    {
      "cell_type": "code",
      "execution_count": null,
      "metadata": {
        "id": "oGHOrYzvNiXw"
      },
      "outputs": [],
      "source": [
        " # defining function to clean text and retrive closs-validation datasets\n",
        "def cleantxt(txt):\n",
        "    \"\"\"\n",
        "    Cleans the string passed. Cleaning Includes-\n",
        "    1. remove special characters/symbols\n",
        "    2. convert text to lower-case\n",
        "    3. retain only alphabets\n",
        "    4. remove words less than 3 characters\n",
        "    5. remove stop-words\n",
        "    \"\"\"  \n",
        "    # collecting english stop words from nltk-library\n",
        "    stpw = stopwords.words('english')\n",
        "    \n",
        "    # Adding custom stop-words\n",
        "    stpw.extend(['www','http','utc'])\n",
        "    stpw = set(stpw)\n",
        "    \n",
        "    # using regex to clean the text\n",
        "    txt = re.sub(r\"\\n\", \" \", txt)\n",
        "    txt = re.sub(\"[\\<\\[].*?[\\>\\]]\", \" \", txt)\n",
        "    txt = txt.lower()\n",
        "    txt = re.sub(r\"[^a-z ]\", \" \", txt)\n",
        "    txt = re.sub(r\"\\b\\w{1,3}\\b\", \" \",txt)\n",
        "    txt = \" \".join([x for x in txt.split() if x not in stpw])\n",
        "    return txt\n",
        "def load_data():\n",
        "    \"\"\"\n",
        "    Loads data and returns train, val, and test splits\n",
        "    \"\"\"\n",
        "    # Load the train dataset\n",
        "    df = pd.read_csv(r\"C:/Users/yanis/Desktop/data.csv\")\n",
        "    \n",
        "    # Clean the text\n",
        "    df['comment_text'] = df.comment_text.apply(lambda x : cleantxt(x))\n",
        "    \n",
        "    # separate explanatory and dependent variables\n",
        "    X = df.iloc[:,1]\n",
        "    y = df.iloc[:,2:]\n",
        "\n",
        "    # split for cross-validation (train-60%, validation 20% and test 20%)\n",
        "    X_train, X_test, y_train, y_test = train_test_split(X, y, test_size=0.4, random_state=123)\n",
        "    X_test, X_val, y_test, y_val = train_test_split(X_test, y_test, test_size=0.5, random_state=123)\n",
        "\n",
        "    return X_train, X_val, X_test, y_train, y_val, y_test\n",
        "X_train, X_val, X_test, y_train, y_val, y_test = load_data() "
      ]
    },
    {
      "cell_type": "code",
      "execution_count": null,
      "metadata": {
        "id": "FKk5yrPghLAZ",
        "outputId": "7d449262-73d9-402f-f9a3-a7f385400b56"
      },
      "outputs": [
        {
          "data": {
            "text/plain": [
              "(array([0, 1], dtype=int64), array([553196,  21256], dtype=int64))"
            ]
          },
          "execution_count": 50,
          "metadata": {},
          "output_type": "execute_result"
        }
      ],
      "source": [
        "np.unique(y_train, return_counts=True)"
      ]
    },
    {
      "cell_type": "code",
      "execution_count": null,
      "metadata": {
        "id": "N962Q4EphLAa",
        "outputId": "c139a7a4-c0d3-4172-bc1d-9fa39c0714c9"
      },
      "outputs": [
        {
          "data": {
            "image/png": "[encoded data removed]",
            "text/plain": [
              "<Figure size 432x288 with 1 Axes>"
            ]
          },
          "metadata": {
            "needs_background": "light"
          },
          "output_type": "display_data"
        }
      ],
      "source": [
        "# Visualize the response variable, according to one of the ratget values\n",
        "sns.countplot(y_train.iloc[:,4]).set_title(\"Frequency Table\") # replace 4 by 3 the 5\n",
        "plt.show()"
      ]
    },
    {
      "cell_type": "markdown",
      "metadata": {
        "id": "Xokt070xhLAd"
      },
      "source": [
        "2). Create a TF IDF representation.\n",
        "\n",
        "https://scikit-learn.org/stable/modules/generated/sklearn.feature_extraction.text.TfidfVectorizer.html\n",
        "\n",
        "https://scikit-learn.org/stable/tutorial/text_analytics/working_with_text_data.html\n",
        "\n"
      ]
    },
    {
      "cell_type": "code",
      "execution_count": null,
      "metadata": {
        "id": "JYvem45XhLAe"
      },
      "outputs": [],
      "source": [
        "vect = TfidfVectorizer(decode_error='ignore',stop_words='english')\n",
        "train_tfidf = vect.fit_transform(X_train)\n",
        "val_tfidf = vect.transform(X_val)\n",
        "test_tfidf = vect.transform(X_test)"
      ]
    },
    {
      "cell_type": "markdown",
      "metadata": {
        "id": "ae_OZuA9NiXz"
      },
      "source": [
        "## 2)-Build network and train it untill validation loss reduces (EarlyStopping)\n"
      ]
    },
    {
      "cell_type": "code",
      "execution_count": null,
      "metadata": {
        "id": "6RPkZST6NiX0"
      },
      "outputs": [],
      "source": [
        "ip_dim = train_tfidf.shape[1]\n",
        "\n",
        "model = Sequential() #define a sequential model\n",
        "model.add(Dense(64, input_dim=ip_dim, activation='relu'))  #Define a first layer with 64 units and relu as an activation function\n",
        "model.add(Dense(32, activation='relu')) #Define a second layer with 64 units and relu as an activation function\n",
        "model.add(Dense(6, activation='sigmoid')) # Define the input layer with 6units and sigmoid activation function"
      ]
    },
    {
      "cell_type": "code",
      "execution_count": null,
      "metadata": {
        "id": "x1BU1QDpNiX0",
        "outputId": "653e6fc4-be76-4857-c1be-48164cfbb1ce"
      },
      "outputs": [
        {
          "name": "stdout",
          "output_type": "stream",
          "text": [
            "Train on 95742 samples, validate on 31915 samples\n",
            "Epoch 1/3\n",
            " - 235s - loss: 0.3550 - val_loss: 0.1147\n",
            "Epoch 2/3\n",
            " - 1206s - loss: 0.0885 - val_loss: 0.0709\n",
            "Epoch 3/3\n",
            " - 247s - loss: 0.0564 - val_loss: 0.0620\n"
          ]
        }
      ],
      "source": [
        "\n",
        "#Compiling Model using optimizer with lr=1e-3\n",
        "opt = Adam(lr=1e-3) \n",
        "model.compile(loss='binary_crossentropy',optimizer=opt)\n",
        "\n",
        "# Fitting Model to the data\n",
        "callbacks = [EarlyStopping(monitor='val_loss')]\n",
        "hist_adam = model.fit(train_tfidf, np.asarray(y_train), batch_size=1000, epochs=3, verbose=2, validation_data=(val_tfidf, np.asarray(y_val)),\n",
        "         callbacks=callbacks)  # starts training"
      ]
    },
    {
      "cell_type": "code",
      "execution_count": null,
      "metadata": {
        "id": "MyxS_udzNiX0",
        "outputId": "6e016baa-1763-411c-9b42-0d96db61765b"
      },
      "outputs": [
        {
          "data": {
            "text/plain": [
              "<matplotlib.legend.Legend at 0x29abdcd3988>"
            ]
          },
          "execution_count": 56,
          "metadata": {},
          "output_type": "execute_result"
        },
        {
          "data": {
            "image/png": "[encoded data removed]",
            "text/plain": [
              "<Figure size 432x288 with 1 Axes>"
            ]
          },
          "metadata": {
            "needs_background": "light"
          },
          "output_type": "display_data"
        }
      ],
      "source": [
        "plt.suptitle('Optimizer : Adam', fontsize=10)\n",
        "plt.ylabel('Loss', fontsize=16)\n",
        "plt.xlabel('Epoch', fontsize=14)\n",
        "plt.plot(hist_adam.history['loss'], color='b', label='Training Loss')\n",
        "plt.plot(hist_adam.history['val_loss'], color='r', label='Validation Loss')\n",
        "plt.legend(loc='upper right')"
      ]
    },
    {
      "cell_type": "markdown",
      "metadata": {
        "id": "E0j9Fo2xhLAe"
      },
      "source": [
        "## 3)Apply the Naive Bayes algorithm. Calculate the accuracy."
      ]
    },
    {
      "cell_type": "code",
      "execution_count": null,
      "metadata": {
        "id": "TfSP-rSwNiX1",
        "outputId": "da5fe546-a76c-4386-e88b-6440ab4fd112"
      },
      "outputs": [
        {
          "data": {
            "text/plain": [
              "<95742x118883 sparse matrix of type '<class 'numpy.int64'>'\n",
              "\twith 2106901 stored elements in Compressed Sparse Row format>"
            ]
          },
          "execution_count": 69,
          "metadata": {},
          "output_type": "execute_result"
        }
      ],
      "source": [
        "from sklearn.feature_extraction.text import TfidfVectorizer\n",
        "from sklearn.feature_extraction.text import CountVectorizer\n",
        "vect = CountVectorizer(decode_error='ignore',stop_words='english')\n",
        "train_dtm=vect.fit_transform(X_train)\n",
        "train_dtm"
      ]
    },
    {
      "cell_type": "code",
      "execution_count": null,
      "metadata": {
        "id": "D1DrxuEXNiX2",
        "outputId": "6e962950-a696-4e14-8fdd-4999810a1fcb"
      },
      "outputs": [
        {
          "data": {
            "text/plain": [
              "MultinomialNB(alpha=0.01, class_prior=None, fit_prior=True)"
            ]
          },
          "execution_count": 70,
          "metadata": {},
          "output_type": "execute_result"
        }
      ],
      "source": [
        "from sklearn.naive_bayes import MultinomialNB\n",
        "nb = MultinomialNB(alpha=0.01)\n",
        "nb.fit(train_dtm, y_train.severe_toxic)"
      ]
    },
    {
      "cell_type": "code",
      "execution_count": null,
      "metadata": {
        "id": "shSX8aJrNiX2",
        "outputId": "16bbfab5-4a02-4473-9995-ec0ce5b3490f"
      },
      "outputs": [
        {
          "data": {
            "text/plain": [
              "MultinomialNB(alpha=0.01, class_prior=None, fit_prior=True)"
            ]
          },
          "execution_count": 71,
          "metadata": {},
          "output_type": "execute_result"
        }
      ],
      "source": [
        "MultinomialNB(alpha=0.01, class_prior=None, fit_prior=True)"
      ]
    },
    {
      "cell_type": "code",
      "execution_count": null,
      "metadata": {
        "id": "LDcCEKUeNiX2",
        "outputId": "ba24f98d-c7fd-4cc3-c1a0-7be05f6b7ccd"
      },
      "outputs": [
        {
          "data": {
            "text/plain": [
              "0.9897014894194816"
            ]
          },
          "execution_count": 72,
          "metadata": {},
          "output_type": "execute_result"
        }
      ],
      "source": [
        "y_pred_nb = nb.predict(train_dtm)\n",
        "from sklearn import metrics\n",
        "nbAcc=metrics.accuracy_score(y_train.severe_toxic, y_pred_nb)\n",
        "nbAcc "
      ]
    }
  ],
  "metadata": {
    "colab": {
      "provenance": []
    },
    "kernelspec": {
      "display_name": "Python 3",
      "language": "python",
      "name": "python3"
    },
    "language_info": {
      "codemirror_mode": {
        "name": "ipython",
        "version": 3
      },
      "file_extension": ".py",
      "mimetype": "text/x-python",
      "name": "python",
      "nbconvert_exporter": "python",
      "pygments_lexer": "ipython3",
      "version": "3.7.0"
    },
    "toc": {
      "base_numbering": 1,
      "nav_menu": {},
      "number_sections": true,
      "sideBar": true,
      "skip_h1_title": false,
      "title_cell": "Table of Contents",
      "title_sidebar": "Contents",
      "toc_cell": false,
      "toc_position": {},
      "toc_section_display": true,
      "toc_window_display": false
    },
    "varInspector": {
      "cols": {
        "lenName": 16,
        "lenType": 16,
        "lenVar": 40
      },
      "kernels_config": {
        "python": {
          "delete_cmd_postfix": "",
          "delete_cmd_prefix": "del ",
          "library": "var_list.py",
          "varRefreshCmd": "print(var_dic_list())"
        },
        "r": {
          "delete_cmd_postfix": ") ",
          "delete_cmd_prefix": "rm(",
          "library": "var_list.r",
          "varRefreshCmd": "cat(var_dic_list()) "
        }
      },
      "types_to_exclude": [
        "module",
        "function",
        "builtin_function_or_method",
        "instance",
        "_Feature"
      ],
      "window_display": false
    }
  },
  "nbformat": 4,
  "nbformat_minor": 0
}