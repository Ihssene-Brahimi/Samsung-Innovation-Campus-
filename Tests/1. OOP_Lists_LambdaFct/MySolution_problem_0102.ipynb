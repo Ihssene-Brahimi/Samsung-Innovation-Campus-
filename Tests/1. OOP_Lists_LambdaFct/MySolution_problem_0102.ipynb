{
  "nbformat": 4,
  "nbformat_minor": 0,
  "metadata": {
    "kernelspec": {
      "display_name": "Python 3",
      "language": "python",
      "name": "python3"
    },
    "language_info": {
      "codemirror_mode": {
        "name": "ipython",
        "version": 3
      },
      "file_extension": ".py",
      "mimetype": "text/x-python",
      "name": "python",
      "nbconvert_exporter": "python",
      "pygments_lexer": "ipython3",
      "version": "3.7.0"
    },
    "toc": {
      "base_numbering": 1,
      "nav_menu": {},
      "number_sections": true,
      "sideBar": true,
      "skip_h1_title": false,
      "title_cell": "Table of Contents",
      "title_sidebar": "Contents",
      "toc_cell": false,
      "toc_position": {},
      "toc_section_display": true,
      "toc_window_display": false
    },
    "varInspector": {
      "cols": {
        "lenName": 16,
        "lenType": 16,
        "lenVar": 40
      },
      "kernels_config": {
        "python": {
          "delete_cmd_postfix": "",
          "delete_cmd_prefix": "del ",
          "library": "var_list.py",
          "varRefreshCmd": "print(var_dic_list())"
        },
        "r": {
          "delete_cmd_postfix": ") ",
          "delete_cmd_prefix": "rm(",
          "library": "var_list.r",
          "varRefreshCmd": "cat(var_dic_list()) "
        }
      },
      "types_to_exclude": [
        "module",
        "function",
        "builtin_function_or_method",
        "instance",
        "_Feature"
      ],
      "window_display": false
    },
    "colab": {
      "provenance": [],
      "collapsed_sections": []
    }
  },
  "cells": [
    {
      "cell_type": "markdown",
      "metadata": {
        "id": "xWYuGeij4Zvt"
      },
      "source": [
        "## Quiz #0102 "
      ]
    },
    {
      "cell_type": "markdown",
      "metadata": {
        "id": "85OhMo5x4Zvv"
      },
      "source": [
        "#### Use a lambda function and map() to answer the following questions."
      ]
    },
    {
      "cell_type": "markdown",
      "metadata": {
        "id": "tEcKYGIn4Zvv"
      },
      "source": [
        "1). Add 1 to each element of the list 'a' and create another list. <br>\n",
        "\n",
        "a = [1, 2, 3, 4, 5, 6, 7, 8, 9, 10]"
      ]
    },
    {
      "cell_type": "code",
      "metadata": {
        "id": "jsVeKOG44Zvw"
      },
      "source": [
        "add = lambda x : x+1\n",
        "a = [1, 2, 3, 4, 5, 6, 7, 8, 9, 10]\n",
        "b = []\n",
        "b = list(map(add, a))\n"
      ],
      "execution_count": null,
      "outputs": []
    },
    {
      "cell_type": "code",
      "metadata": {
        "id": "9wNzzn-04Zvw",
        "colab": {
          "base_uri": "https://localhost:8080/"
        },
        "outputId": "70e05bb1-3d6f-4626-d874-693d12a413a8"
      },
      "source": [
        "b\n"
      ],
      "execution_count": null,
      "outputs": [
        {
          "output_type": "execute_result",
          "data": {
            "text/plain": [
              "[2, 3, 4, 5, 6, 7, 8, 9, 10, 11]"
            ]
          },
          "metadata": {
            "tags": []
          },
          "execution_count": 21
        }
      ]
    },
    {
      "cell_type": "markdown",
      "metadata": {
        "id": "b06rMXYq4Zvw"
      },
      "source": [
        "2). Multiply element-wise the lists 'a' and 'b'. Show the result as another list.\n",
        "\n",
        "a = [2, 4, 6, 8, 10]\n",
        "\n",
        "b = [10, 8, 6, 4, 2]"
      ]
    },
    {
      "cell_type": "code",
      "metadata": {
        "id": "C-fbxUI14Zvw",
        "colab": {
          "base_uri": "https://localhost:8080/"
        },
        "outputId": "4a8f22fa-2e9a-4044-e248-4cf2cded837a"
      },
      "source": [
        "a = [2, 4, 6, 8, 10]\n",
        "b = [10, 8, 6, 4, 2]\n",
        "c = []\n",
        "mult = lambda x,y : x*y\n",
        "c = list(map(mult, a,b))\n",
        "\n",
        "c\n"
      ],
      "execution_count": null,
      "outputs": [
        {
          "output_type": "execute_result",
          "data": {
            "text/plain": [
              "[20, 32, 36, 32, 20]"
            ]
          },
          "metadata": {
            "tags": []
          },
          "execution_count": 22
        }
      ]
    },
    {
      "cell_type": "markdown",
      "metadata": {
        "id": "SBnYk9cy4Zvx"
      },
      "source": [
        "#### Use a lambda function and filter() to answer the following questions."
      ]
    },
    {
      "cell_type": "markdown",
      "metadata": {
        "id": "QXLfm6-a4Zvx"
      },
      "source": [
        "3). Find the multiples of 5 in the range 1~100. Show the result as a list."
      ]
    },
    {
      "cell_type": "code",
      "metadata": {
        "id": "KtoVGico4Zvy",
        "colab": {
          "base_uri": "https://localhost:8080/"
        },
        "outputId": "fb576223-8373-468a-d83b-d9d64bb3a4ce"
      },
      "source": [
        "multiple = lambda x : x%5\n",
        "Mylist = []\n",
        "\n",
        "Mylist = list(filter(lambda x : True if x%5 == 0 else False, range(1,101)))\n",
        "\n",
        "print(\"The multiples of 5 from 1 to 100 are : \", Mylist)"
      ],
      "execution_count": null,
      "outputs": [
        {
          "output_type": "stream",
          "text": [
            "The multiples of 5 from 1 to 100 are :  [5, 10, 15, 20, 25, 30, 35, 40, 45, 50, 55, 60, 65, 70, 75, 80, 85, 90, 95, 100]\n"
          ],
          "name": "stdout"
        }
      ]
    },
    {
      "cell_type": "markdown",
      "metadata": {
        "id": "DyzWVxW04Zvy"
      },
      "source": [
        "4). In the following list, find the values larger than 160. Show the result as a list.\n",
        "\n",
        "a = [145.2, 160.3, 155.2, 171.6, 165.34, 167.2, 161.1, 164.9]"
      ]
    },
    {
      "cell_type": "code",
      "metadata": {
        "id": "fsqTO1zA4Zvy",
        "colab": {
          "base_uri": "https://localhost:8080/"
        },
        "outputId": "d3e0b9eb-2e72-415b-b379-91244a1b2879"
      },
      "source": [
        "a = [145.2, 160.3, 155.2, 171.6, 165.34, 167.2, 161.1, 164.9]\n",
        "Mylista = []\n",
        "for x in a :\n",
        "  if x > 160:\n",
        "    Mylista.append(x)\n",
        "\n",
        "print(Mylista)"
      ],
      "execution_count": null,
      "outputs": [
        {
          "output_type": "stream",
          "text": [
            "[160.3, 171.6, 165.34, 167.2, 161.1, 164.9]\n"
          ],
          "name": "stdout"
        }
      ]
    },
    {
      "cell_type": "markdown",
      "metadata": {
        "id": "bx4UK4u94Zvy"
      },
      "source": [
        "5). In the following list, find the values larger than 160 and smaller than 165. Show the result as a list.\n",
        "\n",
        "a = [145.2, 160.3, 155.2, 171.6, 165.34, 167.2, 161.1, 164.9]"
      ]
    },
    {
      "cell_type": "code",
      "metadata": {
        "id": "r_HlKI8D4Zvz",
        "colab": {
          "base_uri": "https://localhost:8080/"
        },
        "outputId": "3c470a4c-f55a-4b22-c702-55c162297c03"
      },
      "source": [
        "a = [145.2, 160.3, 155.2, 171.6, 165.34, 167.2, 161.1, 164.9]\n",
        "Mylista1 = []\n",
        "for x in a :\n",
        "  if x > 160 and x < 165:\n",
        "    Mylista1.append(x)\n",
        "\n",
        "print(Mylista1)"
      ],
      "execution_count": null,
      "outputs": [
        {
          "output_type": "stream",
          "text": [
            "[160.3, 161.1, 164.9]\n"
          ],
          "name": "stdout"
        }
      ]
    },
    {
      "cell_type": "code",
      "metadata": {
        "id": "BpNXjQiR4Zvz"
      },
      "source": [],
      "execution_count": null,
      "outputs": []
    },
    {
      "cell_type": "markdown",
      "metadata": {
        "id": "8RqUG9YJ4Zvz"
      },
      "source": [
        "6). In the following list of names, extract only those stargin with 'J'. Show the result as a list.\n",
        "\n",
        "a = ['Sara', 'Jack', 'Rebecca', 'Jennifer', 'Paul', 'Andrew', 'John']"
      ]
    },
    {
      "cell_type": "code",
      "metadata": {
        "id": "CnYce5gn4Zvz",
        "colab": {
          "base_uri": "https://localhost:8080/"
        },
        "outputId": "4e4c6610-2d6b-4e81-cb56-0a6e333042cd"
      },
      "source": [
        "a = ['Sara', 'Jack', 'Rebecca', 'Jennifer', 'Paul', 'Andrew', 'John']\n",
        "Mylista2 = []\n",
        "for x in a :\n",
        "  if x[0] == \"J\" :\n",
        "    Mylista2.append(x)\n",
        "\n",
        "print(Mylista2)"
      ],
      "execution_count": null,
      "outputs": [
        {
          "output_type": "stream",
          "text": [
            "['Jack', 'Jennifer', 'John']\n"
          ],
          "name": "stdout"
        }
      ]
    },
    {
      "cell_type": "code",
      "metadata": {
        "id": "mvCROnSU7SK6"
      },
      "source": [],
      "execution_count": null,
      "outputs": []
    }
  ]
}