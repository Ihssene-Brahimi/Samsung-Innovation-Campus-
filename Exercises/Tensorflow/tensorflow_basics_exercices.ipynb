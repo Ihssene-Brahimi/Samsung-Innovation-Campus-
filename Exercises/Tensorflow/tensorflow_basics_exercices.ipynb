{
  "nbformat": 4,
  "nbformat_minor": 0,
  "metadata": {
    "kernelspec": {
      "display_name": "Python 3",
      "language": "python",
      "name": "python3"
    },
    "language_info": {
      "codemirror_mode": {
        "name": "ipython",
        "version": 3
      },
      "file_extension": ".py",
      "mimetype": "text/x-python",
      "name": "python",
      "nbconvert_exporter": "python",
      "pygments_lexer": "ipython3",
      "version": "3.7.0"
    },
    "toc": {
      "base_numbering": 1,
      "nav_menu": {},
      "number_sections": true,
      "sideBar": true,
      "skip_h1_title": false,
      "title_cell": "Table of Contents",
      "title_sidebar": "Contents",
      "toc_cell": false,
      "toc_position": {},
      "toc_section_display": true,
      "toc_window_display": false
    },
    "varInspector": {
      "cols": {
        "lenName": 16,
        "lenType": 16,
        "lenVar": 40
      },
      "kernels_config": {
        "python": {
          "delete_cmd_postfix": "",
          "delete_cmd_prefix": "del ",
          "library": "var_list.py",
          "varRefreshCmd": "print(var_dic_list())"
        },
        "r": {
          "delete_cmd_postfix": ") ",
          "delete_cmd_prefix": "rm(",
          "library": "var_list.r",
          "varRefreshCmd": "cat(var_dic_list()) "
        }
      },
      "types_to_exclude": [
        "module",
        "function",
        "builtin_function_or_method",
        "instance",
        "_Feature"
      ],
      "window_display": false
    },
    "colab": {
      "provenance": []
    }
  },
  "cells": [
    {
      "cell_type": "markdown",
      "metadata": {
        "id": "k-USJ6weNtxq"
      },
      "source": [
        "# TensorFlow basics:"
      ]
    },
    {
      "cell_type": "code",
      "metadata": {
        "id": "hENx2aNRNtx2"
      },
      "source": [
        "# Install once.\n",
        "# !pip install tensorflow\n",
        "# OR\n",
        "# !pip install --user tensorflow-gpu"
      ],
      "execution_count": null,
      "outputs": []
    },
    {
      "cell_type": "code",
      "metadata": {
        "ExecuteTime": {
          "end_time": "2021-08-27T12:27:44.159839Z",
          "start_time": "2021-08-27T12:27:44.145847Z"
        },
        "id": "6IT-1__gNtx5"
      },
      "source": [
        "import warnings\n",
        "warnings.filterwarnings('ignore')\n",
        "import tensorflow.compat.v1 as tf\n",
        "import numpy as np\n"
      ],
      "execution_count": null,
      "outputs": []
    },
    {
      "cell_type": "markdown",
      "metadata": {
        "id": "7-Msk0OhNtx6"
      },
      "source": [
        "## Hello World!"
      ]
    },
    {
      "cell_type": "code",
      "metadata": {
        "ExecuteTime": {
          "end_time": "2021-08-27T12:28:06.997298Z",
          "start_time": "2021-08-27T12:28:05.032450Z"
        },
        "colab": {
          "base_uri": "https://localhost:8080/"
        },
        "id": "AlU_KTv8Ntx7",
        "outputId": "54157181-9a39-4b64-9013-8fb3144c926d"
      },
      "source": [
        "tf.compat.v1.disable_eager_execution()\n",
        "hello = tf.constant(\"Hello World!\")\n",
        "with tf.Session() as sess:\n",
        "    print(sess.run(hello))"
      ],
      "execution_count": null,
      "outputs": [
        {
          "output_type": "stream",
          "text": [
            "b'Hello World!'\n"
          ],
          "name": "stdout"
        }
      ]
    },
    {
      "cell_type": "markdown",
      "metadata": {
        "id": "nSkX2bkiNtx9"
      },
      "source": [
        "## Creating tensors:"
      ]
    },
    {
      "cell_type": "code",
      "metadata": {
        "id": "Rchc9tYlNtx9"
      },
      "source": [
        "hello = tf.constant(\"Hello World!\")                         # String.\n",
        "const_scalar = tf.constant(7)                               # A scalar tensor.\n",
        "const_matrix = tf.constant([[1,2], [3,4]])                  # A matrix tensor.\n",
        "mat_fill = tf.fill((4,4),9)                                 # A 4x4 tensor filled with 9s.\n",
        "mat_zeros = tf.zeros((3,3))                                 # A 3x3 tensor filled with 0s.\n",
        "mat_ones = tf.ones((5,5))                                   # A 5x5 tensor filled with 1s.\n",
        "mat_randn = tf.random_normal((3,3), mean=0, stddev=1.0)     # 3x3 random normal tensor.\n",
        "mat_randu = tf.random_uniform((4,4), minval=0, maxval=1.0)  # 4x4 random uniform tensor."
      ],
      "execution_count": null,
      "outputs": []
    },
    {
      "cell_type": "code",
      "metadata": {
        "colab": {
          "base_uri": "https://localhost:8080/"
        },
        "id": "IdgSPNATNtx_",
        "outputId": "d5593070-087d-4ac5-9cae-b79e762ab067"
      },
      "source": [
        "my_ops=[hello, const_scalar, const_matrix, mat_fill, mat_zeros, mat_ones, mat_randn, mat_randu]\n",
        "with tf.Session() as sess:\n",
        "    for op in my_ops:\n",
        "        res = sess.run(op)\n",
        "        print(type(res))\n",
        "        print('\\n')\n",
        "        print(res)\n",
        "        print('\\n')"
      ],
      "execution_count": null,
      "outputs": [
        {
          "output_type": "stream",
          "text": [
            "<class 'bytes'>\n",
            "\n",
            "\n",
            "b'Hello World!'\n",
            "\n",
            "\n",
            "<class 'numpy.int32'>\n",
            "\n",
            "\n",
            "7\n",
            "\n",
            "\n",
            "<class 'numpy.ndarray'>\n",
            "\n",
            "\n",
            "[[1 2]\n",
            " [3 4]]\n",
            "\n",
            "\n",
            "<class 'numpy.ndarray'>\n",
            "\n",
            "\n",
            "[[9 9 9 9]\n",
            " [9 9 9 9]\n",
            " [9 9 9 9]\n",
            " [9 9 9 9]]\n",
            "\n",
            "\n",
            "<class 'numpy.ndarray'>\n",
            "\n",
            "\n",
            "[[0. 0. 0.]\n",
            " [0. 0. 0.]\n",
            " [0. 0. 0.]]\n",
            "\n",
            "\n",
            "<class 'numpy.ndarray'>\n",
            "\n",
            "\n",
            "[[1. 1. 1. 1. 1.]\n",
            " [1. 1. 1. 1. 1.]\n",
            " [1. 1. 1. 1. 1.]\n",
            " [1. 1. 1. 1. 1.]\n",
            " [1. 1. 1. 1. 1.]]\n",
            "\n",
            "\n",
            "<class 'numpy.ndarray'>\n",
            "\n",
            "\n",
            "[[ 1.7889408   0.12393333 -1.7835875 ]\n",
            " [-0.32431397  0.94820094 -1.0675727 ]\n",
            " [ 1.5937272   0.5384232   0.10185137]]\n",
            "\n",
            "\n",
            "<class 'numpy.ndarray'>\n",
            "\n",
            "\n",
            "[[0.7323717  0.08701253 0.9212799  0.74621785]\n",
            " [0.73136914 0.91763604 0.7497622  0.45861375]\n",
            " [0.5285851  0.9854096  0.690387   0.98091197]\n",
            " [0.18517554 0.27760077 0.3122151  0.198084  ]]\n",
            "\n",
            "\n"
          ],
          "name": "stdout"
        }
      ]
    },
    {
      "cell_type": "markdown",
      "metadata": {
        "id": "s-A3PcwpNtyA"
      },
      "source": [
        "## Math operations:"
      ]
    },
    {
      "cell_type": "markdown",
      "metadata": {
        "id": "wOu6q1j2NtyC"
      },
      "source": [
        "create two scalars ``n1`` and ``n2``  using ``tf.constant`` with any value of your choice and do the following operations: \n",
        "- **multplication** using ``tf.multiply`` and ``*``\n",
        "- **addition** using ``tf.add`` and ``+``\n",
        "- **pow** using ``tf.pow``\n",
        "\n",
        "save each operation in a variable and run them using :\n",
        "\n",
        "``\n",
        "with tf.Session() as sess:\n",
        "    sess.run(...)\n",
        "    ...\n",
        "``    "
      ]
    },
    {
      "cell_type": "code",
      "metadata": {
        "ExecuteTime": {
          "end_time": "2021-08-28T13:44:13.595428Z",
          "start_time": "2021-08-28T13:44:13.587441Z"
        },
        "colab": {
          "base_uri": "https://localhost:8080/",
          "height": 229
        },
        "id": "OgeGHLBcNtyD",
        "outputId": "822b3e02-8b02-4fc4-f097-88f5e6bea554"
      },
      "source": [
        "n1 = tf.constant(7)                               # A scalar tensor.\n",
        "n2 = tf.constant(5)                               # A scalar tensor.\n",
        "a = tf.multiply(n1,n2)\n",
        "b = n1*n2\n",
        "c = tf.add(n1,n2)\n",
        "d = n1+n2\n",
        "e = tf.pow(n1,n2)\n",
        "liste = [a,b,c,d,e]\n",
        "with tf.Session() as sess:\n",
        "  for const in enumerate(liste):\n",
        "    print(f\"const{i+1},{sess.run(connst)}\")\n",
        "\n",
        "\n"
      ],
      "execution_count": null,
      "outputs": [
        {
          "output_type": "error",
          "ename": "NameError",
          "evalue": "ignored",
          "traceback": [
            "\u001b[0;31m---------------------------------------------------------------------------\u001b[0m",
            "\u001b[0;31mNameError\u001b[0m                                 Traceback (most recent call last)",
            "\u001b[0;32m<ipython-input-18-b5b1130c7987>\u001b[0m in \u001b[0;36m<module>\u001b[0;34m()\u001b[0m\n\u001b[1;32m      9\u001b[0m \u001b[0;32mwith\u001b[0m \u001b[0mtf\u001b[0m\u001b[0;34m.\u001b[0m\u001b[0mSession\u001b[0m\u001b[0;34m(\u001b[0m\u001b[0;34m)\u001b[0m \u001b[0;32mas\u001b[0m \u001b[0msess\u001b[0m\u001b[0;34m:\u001b[0m\u001b[0;34m\u001b[0m\u001b[0;34m\u001b[0m\u001b[0m\n\u001b[1;32m     10\u001b[0m   \u001b[0;32mfor\u001b[0m \u001b[0mconst\u001b[0m \u001b[0;32min\u001b[0m \u001b[0menumerate\u001b[0m\u001b[0;34m(\u001b[0m\u001b[0mliste\u001b[0m\u001b[0;34m)\u001b[0m\u001b[0;34m:\u001b[0m\u001b[0;34m\u001b[0m\u001b[0;34m\u001b[0m\u001b[0m\n\u001b[0;32m---> 11\u001b[0;31m     \u001b[0mprint\u001b[0m\u001b[0;34m(\u001b[0m\u001b[0;34mf\"const{i+1},{sess.run(connst)}\"\u001b[0m\u001b[0;34m)\u001b[0m\u001b[0;34m\u001b[0m\u001b[0;34m\u001b[0m\u001b[0m\n\u001b[0m\u001b[1;32m     12\u001b[0m \u001b[0;34m\u001b[0m\u001b[0m\n\u001b[1;32m     13\u001b[0m \u001b[0;34m\u001b[0m\u001b[0m\n",
            "\u001b[0;31mNameError\u001b[0m: name 'i' is not defined"
          ]
        }
      ]
    },
    {
      "cell_type": "markdown",
      "metadata": {
        "id": "2y1OPZC2NtyE"
      },
      "source": [
        "## Matrix functions and operations:"
      ]
    },
    {
      "cell_type": "markdown",
      "metadata": {
        "id": "LlPwvkLvNtyE"
      },
      "source": [
        "create two variables ``tf.constant([[1,2], [3,4]])`` and ``tf.constant([[5, 6], [7, 8]])``\n",
        "then perfom ``tf.matmul`` and ``tf.multiply``.\n",
        "- run them using session.run() (just like the previous example)\n",
        "- conclude the difference between the two operations"
      ]
    },
    {
      "cell_type": "markdown",
      "metadata": {
        "id": "eg1fOoUhNtyF"
      },
      "source": [
        "perform also ``+`` , ``-`` , ``/`` , use round with the last operation with 3 decimal places after comma."
      ]
    },
    {
      "cell_type": "code",
      "metadata": {
        "ExecuteTime": {
          "end_time": "2021-08-28T13:46:06.058179Z",
          "start_time": "2021-08-28T13:46:06.040170Z"
        },
        "id": "IiSGYYdoNtyF"
      },
      "source": [
        "## your code here "
      ],
      "execution_count": null,
      "outputs": []
    },
    {
      "cell_type": "markdown",
      "metadata": {
        "id": "HuvqM20xNtyG"
      },
      "source": [
        "here are some other operations you can do using constant variables"
      ]
    },
    {
      "cell_type": "code",
      "metadata": {
        "id": "Ut0LIzzNNtyG"
      },
      "source": [
        "# Matrix functions.\n",
        "m = tf.constant([[1.0,2.0],[3.0,4.0]])\n",
        "m_diagonal = tf.matrix_diag([1,2,3])\n",
        "m_transpose = tf.matrix_transpose(m)\n",
        "m_inverse = tf.matrix_inverse(m)\n",
        "m_multiplied = tf.matmul(m, m_inverse)\n",
        "m_determinant = tf.matrix_determinant(m)\n",
        "my_matrices = [m, m_diagonal, m_transpose, m_inverse, m_multiplied, m_determinant]\n",
        "with tf.Session() as sess:\n",
        "    for mat in my_matrices:\n",
        "        res = sess.run(mat)\n",
        "        print(np.round(res,3))\n",
        "        print('\\n')"
      ],
      "execution_count": null,
      "outputs": []
    },
    {
      "cell_type": "markdown",
      "metadata": {
        "id": "JImwmjXNNtyI"
      },
      "source": [
        "## TensorFlow Variable:"
      ]
    },
    {
      "cell_type": "markdown",
      "metadata": {
        "id": "Oxdv4qwiNtyI"
      },
      "source": [
        "there are threee way to initialize your variables"
      ]
    },
    {
      "cell_type": "code",
      "metadata": {
        "colab": {
          "base_uri": "https://localhost:8080/"
        },
        "id": "kJxA0-J5NtyJ",
        "outputId": "09c79c5c-5c1c-4394-825d-acb97f2124e8"
      },
      "source": [
        "# Initializing Variables #1\n",
        "x = tf.Variable(initial_value=5, name='x')       # Define.\n",
        "y = tf.Variable(initial_value=6, name='y')       # Define.\n",
        "f = (x - y)*y + 3                                # Define.\n",
        "sess = tf.Session()\n",
        "sess.run(x.initializer)                          # Initialize.\n",
        "sess.run(y.initializer)                          # Initialize. \n",
        "res = sess.run(f)  \n",
        "print(res)\n",
        "sess.close()"
      ],
      "execution_count": null,
      "outputs": [
        {
          "output_type": "stream",
          "text": [
            "-3\n"
          ],
          "name": "stdout"
        }
      ]
    },
    {
      "cell_type": "code",
      "metadata": {
        "id": "gSKcmfdvNtyJ"
      },
      "source": [
        "# Initializing Variables #2\n",
        "x = tf.Variable(initial_value=3, name='x')       # Define.\n",
        "y = tf.Variable(initial_value=2, name='y')       # Define.\n",
        "f = x*y + y + 3                                  # Define.\n",
        "with tf.Session() as sess:\n",
        "    x.initializer.run()                          # Initialize. The same as \"sess.run(x.initializer)\".\n",
        "    y.initializer.run()                          # Initialize. The same as \"sess.run(y.initializer)\".\n",
        "    res = f.eval()                               # The same as \"res = sess.run(f)\".\n",
        "print(res)"
      ],
      "execution_count": null,
      "outputs": []
    },
    {
      "cell_type": "markdown",
      "metadata": {
        "id": "RVYSeqY9NtyK"
      },
      "source": [
        "the following initialization method is the widely used "
      ]
    },
    {
      "cell_type": "code",
      "metadata": {
        "id": "q4ePQt5mNtyK"
      },
      "source": [
        "# Initializing Variables #3\n",
        "x = tf.Variable(initial_value=7, name='x')       # Define.\n",
        "y = tf.Variable(initial_value=3, name='y')       # Define.\n",
        "f = x*y*y - y - 1                                # Define.\n",
        "init = tf.global_variables_initializer()         # will go through all variables and initialize them \n",
        "with tf.Session() as sess:\n",
        "    sess.run(init)                               # Initialize wil happen after running sess.run(init).\n",
        "    res = f.eval()                               # The same as \"res = sess.run(f)\".\n",
        "print(res)"
      ],
      "execution_count": null,
      "outputs": []
    },
    {
      "cell_type": "markdown",
      "metadata": {
        "id": "LWjt6q5VNtyL"
      },
      "source": [
        "- create ``my_tensor`` using tf.random_uniform of shape ``(4,4)`` of zero mean and 1 std\n",
        "- create ``my_var`` using ``tf.Variable`` with an initial value ``my_tensor``\n",
        "- run a global initializer using ``tf.global_variables_initializer`` and store it in ``init``\n",
        "- start a session as usual and run ``init`` to initialize your variables "
      ]
    },
    {
      "cell_type": "code",
      "metadata": {
        "ExecuteTime": {
          "end_time": "2021-08-28T13:46:55.936346Z",
          "start_time": "2021-08-28T13:46:55.926354Z"
        },
        "id": "cDcIJNvjNtyN"
      },
      "source": [
        "my_tensor = tf.random.uniform((4,4), minval=0, maxval=1)\n",
        "my_var = tf.Variable(my_tensor)\n",
        "init = tf.global_variables_initializer()\n",
        "with tf.Session() as sess:\n",
        "    sess.run(init)\n"
      ],
      "execution_count": null,
      "outputs": []
    },
    {
      "cell_type": "markdown",
      "metadata": {
        "id": "gEctI733NtyO"
      },
      "source": [
        "## TensorFlow Placeholder"
      ]
    },
    {
      "cell_type": "markdown",
      "metadata": {
        "id": "2XgPaSLANtyP"
      },
      "source": [
        "placeholders are different , they got initialized through run function using the ``feed_dict``.\n",
        "\n",
        "**usage :** imagine a placeholder as booking a table at a restaurant ,in our case the guests are the input , you guessed it right **placeholders are used for input data** one cool property of placeholders is that you don't need to set number of observations\n",
        "<br>\n",
        "\n",
        "here's an example :"
      ]
    },
    {
      "cell_type": "code",
      "metadata": {
        "id": "7HsufDJLNtyQ"
      },
      "source": [
        "a = tf.placeholder(tf.float32)\n",
        "b = tf.placeholder(tf.float32)\n",
        "y = tf.multiply(a, b)\n",
        "with tf.Session() as sess:\n",
        "    res = sess.run(y, feed_dict={a:2, b:3})           # Feed the actual valules.\n",
        "    print(res)"
      ],
      "execution_count": null,
      "outputs": []
    },
    {
      "cell_type": "code",
      "metadata": {
        "id": "jwF1XrAcNtyR"
      },
      "source": [
        "# Simulated data as NumPy array.\n",
        "np.random.seed(123)\n",
        "X1 = np.random.uniform(0.0, 1.0, (3,3))\n",
        "X2 = np.random.normal(0.0, 1.0, (10,3))\n",
        "b0 = np.array([1,2,3]).reshape((-1,1))\n",
        "#\n",
        "# The data may be a DataFrame.\n",
        "# X1 = pd.DataFrame(X1)\n",
        "# X2 = pd.DataFrame(X2)\n",
        "#vars for weights, placeholders for input\n",
        "X = tf.placeholder(tf.float32, shape=(None,3))       # \"None\" means that the number of rows is still undefined. \n",
        "b = tf.placeholder(tf.float32, shape=(3,1))\n",
        "y = tf.matmul(X, b)\n",
        "with tf.Session() as sess:\n",
        "    print(sess.run(y, feed_dict={X:X1, b:b0}))       # Feed in the data.\n",
        "    print(\"\\n\")\n",
        "    print(sess.run(y, feed_dict={X:X2, b:b0}))       # Feed in the data."
      ],
      "execution_count": null,
      "outputs": []
    }
  ]
}