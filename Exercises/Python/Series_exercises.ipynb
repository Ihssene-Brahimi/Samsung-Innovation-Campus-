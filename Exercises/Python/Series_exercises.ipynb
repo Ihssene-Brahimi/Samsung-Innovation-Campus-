{
  "nbformat": 4,
  "nbformat_minor": 0,
  "metadata": {
    "kernelspec": {
      "display_name": "Python 3",
      "language": "python",
      "name": "python3"
    },
    "language_info": {
      "codemirror_mode": {
        "name": "ipython",
        "version": 3
      },
      "file_extension": ".py",
      "mimetype": "text/x-python",
      "name": "python",
      "nbconvert_exporter": "python",
      "pygments_lexer": "ipython3",
      "version": "3.7.0"
    },
    "toc": {
      "base_numbering": 1,
      "nav_menu": {},
      "number_sections": true,
      "sideBar": true,
      "skip_h1_title": false,
      "title_cell": "Table of Contents",
      "title_sidebar": "Contents",
      "toc_cell": false,
      "toc_position": {},
      "toc_section_display": true,
      "toc_window_display": false
    },
    "varInspector": {
      "cols": {
        "lenName": 16,
        "lenType": 16,
        "lenVar": 40
      },
      "kernels_config": {
        "python": {
          "delete_cmd_postfix": "",
          "delete_cmd_prefix": "del ",
          "library": "var_list.py",
          "varRefreshCmd": "print(var_dic_list())"
        },
        "r": {
          "delete_cmd_postfix": ") ",
          "delete_cmd_prefix": "rm(",
          "library": "var_list.r",
          "varRefreshCmd": "cat(var_dic_list()) "
        }
      },
      "types_to_exclude": [
        "module",
        "function",
        "builtin_function_or_method",
        "instance",
        "_Feature"
      ],
      "window_display": false
    },
    "colab": {
      "provenance": [],
      "collapsed_sections": []
    }
  },
  "cells": [
    {
      "cell_type": "markdown",
      "metadata": {
        "id": "eenvP_yskg_B"
      },
      "source": [
        "\n",
        "\n",
        "# Pandas Series exercises\n"
      ]
    },
    {
      "cell_type": "code",
      "metadata": {
        "id": "Bb-2y7sPkg_R",
        "colab": {
          "base_uri": "https://localhost:8080/"
        },
        "outputId": "f7eba328-9129-4836-e882-3955713298f1"
      },
      "source": [
        "# Import the numpy package under the name np\n",
        "import numpy as np\n",
        "\n",
        "# Import the pandas package under the name pd\n",
        "import pandas as pd\n",
        "\n",
        "# Print the pandas version and the configuration\n",
        "print(pd.__version__)"
      ],
      "execution_count": null,
      "outputs": [
        {
          "output_type": "stream",
          "text": [
            "1.1.5\n"
          ],
          "name": "stdout"
        }
      ]
    },
    {
      "cell_type": "markdown",
      "metadata": {
        "id": "2OPM_WKEkg_T"
      },
      "source": [
        "\n",
        "\n",
        "## Series creation"
      ]
    },
    {
      "cell_type": "markdown",
      "metadata": {
        "id": "7sFHeoqrkg_U"
      },
      "source": [
        "### Create an empty pandas Series"
      ]
    },
    {
      "cell_type": "code",
      "metadata": {
        "id": "HP51RaLbkg_U",
        "colab": {
          "base_uri": "https://localhost:8080/"
        },
        "outputId": "0363edb8-b852-4f73-a613-5be41f07eeb3"
      },
      "source": [
        "# your code goes here\n",
        "\n",
        "series=pd.Series([1,2,3,4])\n",
        "\n",
        "series"
      ],
      "execution_count": null,
      "outputs": [
        {
          "output_type": "execute_result",
          "data": {
            "text/plain": [
              "0    1\n",
              "1    2\n",
              "2    3\n",
              "3    4\n",
              "dtype: int64"
            ]
          },
          "metadata": {
            "tags": []
          },
          "execution_count": 3
        }
      ]
    },
    {
      "cell_type": "markdown",
      "metadata": {
        "id": "vgny9-7Lkg_V"
      },
      "source": [
        "\n",
        "\n",
        "### Given the X python list convert it to an Y pandas Series"
      ]
    },
    {
      "cell_type": "code",
      "metadata": {
        "id": "AeZPBg5Ykg_X"
      },
      "source": [
        "# your code goes here\n"
      ],
      "execution_count": null,
      "outputs": []
    },
    {
      "cell_type": "markdown",
      "metadata": {
        "id": "oNj_6mzukg_Y"
      },
      "source": [
        "\n",
        "\n",
        "### Given the X pandas Series, name it 'My letters'"
      ]
    },
    {
      "cell_type": "code",
      "metadata": {
        "id": "C_4czTpXkg_Z",
        "colab": {
          "base_uri": "https://localhost:8080/"
        },
        "outputId": "dcda7402-c505-466f-809c-10001660f1e2"
      },
      "source": [
        "# your code goes here\n",
        "series.name=\"My letters\"\n",
        "series"
      ],
      "execution_count": null,
      "outputs": [
        {
          "output_type": "execute_result",
          "data": {
            "text/plain": [
              "0    1\n",
              "1    2\n",
              "2    3\n",
              "3    4\n",
              "Name: My letters, dtype: int64"
            ]
          },
          "metadata": {
            "tags": []
          },
          "execution_count": 4
        }
      ]
    },
    {
      "cell_type": "markdown",
      "metadata": {
        "id": "W_6yA0dqkg_Z"
      },
      "source": [
        "\n",
        "\n",
        "### Given the X pandas Series, show its values\n"
      ]
    },
    {
      "cell_type": "code",
      "metadata": {
        "id": "SHjKzBVYkg_a",
        "colab": {
          "base_uri": "https://localhost:8080/"
        },
        "outputId": "38022734-ed3b-4219-b012-050b5fdfaad1"
      },
      "source": [
        "# your code goes here\n",
        "series.values"
      ],
      "execution_count": null,
      "outputs": [
        {
          "output_type": "execute_result",
          "data": {
            "text/plain": [
              "array([1, 2, 3, 4])"
            ]
          },
          "metadata": {
            "tags": []
          },
          "execution_count": 5
        }
      ]
    },
    {
      "cell_type": "markdown",
      "metadata": {
        "id": "FRHJK601kg_a"
      },
      "source": [
        "\n",
        "\n",
        "## Series indexation"
      ]
    },
    {
      "cell_type": "markdown",
      "metadata": {
        "id": "DpJBRV39kg_a"
      },
      "source": [
        "### Assign index names to the given X pandas Series\n"
      ]
    },
    {
      "cell_type": "code",
      "metadata": {
        "id": "LXH7acW3kg_b",
        "colab": {
          "base_uri": "https://localhost:8080/"
        },
        "outputId": "ff228a8b-1021-4025-ca5f-694bfc6efe8e"
      },
      "source": [
        "# your code goes here\n",
        "s= pd.Series([1,2,3])\n",
        "\n",
        "s.index= [\"A\",\"B\",\"C\"]\n",
        "\n",
        "s\n"
      ],
      "execution_count": null,
      "outputs": [
        {
          "output_type": "execute_result",
          "data": {
            "text/plain": [
              "A    1\n",
              "B    2\n",
              "C    3\n",
              "dtype: int64"
            ]
          },
          "metadata": {
            "tags": []
          },
          "execution_count": 6
        }
      ]
    },
    {
      "cell_type": "markdown",
      "metadata": {
        "id": "fMfDIimmkg_b"
      },
      "source": [
        "\n",
        "\n",
        "### Given the X pandas Series, show its first element\n"
      ]
    },
    {
      "cell_type": "code",
      "metadata": {
        "id": "UkRF0FPvkg_b",
        "colab": {
          "base_uri": "https://localhost:8080/"
        },
        "outputId": "1a4b77d5-e068-4e13-b95b-cc4c08649ca1"
      },
      "source": [
        "# your code goes here\n",
        "s[0]"
      ],
      "execution_count": null,
      "outputs": [
        {
          "output_type": "execute_result",
          "data": {
            "text/plain": [
              "1"
            ]
          },
          "metadata": {
            "tags": []
          },
          "execution_count": 8
        }
      ]
    },
    {
      "cell_type": "markdown",
      "metadata": {
        "id": "43dHNuErkg_c"
      },
      "source": [
        "\n",
        "\n",
        "### Given the X pandas Series, show its last element\n"
      ]
    },
    {
      "cell_type": "code",
      "metadata": {
        "id": "lBS_-m99kg_c",
        "colab": {
          "base_uri": "https://localhost:8080/"
        },
        "outputId": "f0faf21f-b7cd-4ca6-e1a5-296d5ca70eb1"
      },
      "source": [
        "# your code goes here\n",
        "s[-1]"
      ],
      "execution_count": null,
      "outputs": [
        {
          "output_type": "execute_result",
          "data": {
            "text/plain": [
              "3"
            ]
          },
          "metadata": {
            "tags": []
          },
          "execution_count": 9
        }
      ]
    },
    {
      "cell_type": "markdown",
      "metadata": {
        "id": "ke2LMl_Nkg_c"
      },
      "source": [
        "\n",
        "\n",
        "### Given the X pandas Series, show all middle elements\n"
      ]
    },
    {
      "cell_type": "code",
      "metadata": {
        "id": "xxNGqQDNkg_c",
        "colab": {
          "base_uri": "https://localhost:8080/"
        },
        "outputId": "61a7b97b-9285-441e-8b4c-bffaf30f4e28"
      },
      "source": [
        "# your code goes here\n",
        "s[1:-1]"
      ],
      "execution_count": null,
      "outputs": [
        {
          "output_type": "execute_result",
          "data": {
            "text/plain": [
              "B    2\n",
              "dtype: int64"
            ]
          },
          "metadata": {
            "tags": []
          },
          "execution_count": 10
        }
      ]
    },
    {
      "cell_type": "markdown",
      "metadata": {
        "id": "3AFaeyEWkg_d"
      },
      "source": [
        "\n",
        "\n",
        "### Given the X pandas Series, show the elements in reverse position\n"
      ]
    },
    {
      "cell_type": "code",
      "metadata": {
        "id": "TW0qCPv8kg_d",
        "colab": {
          "base_uri": "https://localhost:8080/"
        },
        "outputId": "3b47d1c6-1220-450c-d93e-b28353f43175"
      },
      "source": [
        "# your code goes here\n",
        "print(s[::-1])\n",
        "\n",
        "s.sort_values(ascending=False)"
      ],
      "execution_count": null,
      "outputs": [
        {
          "output_type": "stream",
          "text": [
            "C    3\n",
            "B    2\n",
            "A    1\n",
            "dtype: int64\n"
          ],
          "name": "stdout"
        },
        {
          "output_type": "execute_result",
          "data": {
            "text/plain": [
              "C    3\n",
              "B    2\n",
              "A    1\n",
              "dtype: int64"
            ]
          },
          "metadata": {
            "tags": []
          },
          "execution_count": 14
        }
      ]
    },
    {
      "cell_type": "markdown",
      "metadata": {
        "id": "V7nPDpIAkg_d"
      },
      "source": [
        "\n",
        "\n",
        "### Given the X pandas Series, show the first and last elements\n"
      ]
    },
    {
      "cell_type": "code",
      "metadata": {
        "id": "NSuB2o8Fkg_e",
        "colab": {
          "base_uri": "https://localhost:8080/"
        },
        "outputId": "7febdb69-b984-4b5f-f722-43829b65dde8"
      },
      "source": [
        "# your code goes here\n",
        "s[[0,-1]]"
      ],
      "execution_count": null,
      "outputs": [
        {
          "output_type": "execute_result",
          "data": {
            "text/plain": [
              "A    1\n",
              "C    3\n",
              "dtype: int64"
            ]
          },
          "metadata": {
            "tags": []
          },
          "execution_count": 15
        }
      ]
    },
    {
      "cell_type": "markdown",
      "metadata": {
        "id": "6fuC-DZ_kg_e"
      },
      "source": [
        "\n",
        "\n",
        "## Series manipulation"
      ]
    },
    {
      "cell_type": "markdown",
      "metadata": {
        "id": "wyt3wHotkg_e"
      },
      "source": [
        "### Convert the given integer pandas Series to float\n"
      ]
    },
    {
      "cell_type": "code",
      "metadata": {
        "id": "-ygBtVw6kg_e",
        "colab": {
          "base_uri": "https://localhost:8080/"
        },
        "outputId": "9a76de8d-d3ab-442d-900b-554356f15395"
      },
      "source": [
        "# your code goes here\n",
        "s=s.astype(\"float\")\n",
        "print(s)"
      ],
      "execution_count": null,
      "outputs": [
        {
          "output_type": "stream",
          "text": [
            "A    1.0\n",
            "B    2.0\n",
            "C    3.0\n",
            "dtype: float64\n"
          ],
          "name": "stdout"
        }
      ]
    },
    {
      "cell_type": "markdown",
      "metadata": {
        "id": "AzV4SqCdkg_f"
      },
      "source": [
        "\n",
        "\n",
        "### Reverse the given pandas Series (first element becomes last)"
      ]
    },
    {
      "cell_type": "code",
      "metadata": {
        "id": "GJ8eeQBukg_f"
      },
      "source": [
        "# your code goes here\n"
      ],
      "execution_count": null,
      "outputs": []
    },
    {
      "cell_type": "markdown",
      "metadata": {
        "id": "52IUL9Mrkg_f"
      },
      "source": [
        "\n",
        "\n",
        "### Order (sort) the given pandas Series\n"
      ]
    },
    {
      "cell_type": "code",
      "metadata": {
        "id": "IOi6S-YLkg_f",
        "colab": {
          "base_uri": "https://localhost:8080/"
        },
        "outputId": "6c9a3cd1-5afb-49d5-c06f-a99181f6256a"
      },
      "source": [
        "# your code goes here\n",
        "s.sort_values()"
      ],
      "execution_count": null,
      "outputs": [
        {
          "output_type": "execute_result",
          "data": {
            "text/plain": [
              "A    1.0\n",
              "B    2.0\n",
              "C    3.0\n",
              "dtype: float64"
            ]
          },
          "metadata": {
            "tags": []
          },
          "execution_count": 17
        }
      ]
    },
    {
      "cell_type": "markdown",
      "metadata": {
        "id": "vJRsoJuzkg_g"
      },
      "source": [
        "\n",
        "\n",
        "### Given the X pandas Series, set the fifth element equal to 10\n"
      ]
    },
    {
      "cell_type": "code",
      "metadata": {
        "id": "pyoFTSN5kg_g",
        "colab": {
          "base_uri": "https://localhost:8080/"
        },
        "outputId": "a8f88843-f580-4184-a855-0c0a0dffb571"
      },
      "source": [
        "# your code goes here\n",
        "s = pd.Series([1,4,7,8,-1,7])\n",
        "\n",
        "s.index=list(\"ABCDEF\")\n",
        "s"
      ],
      "execution_count": null,
      "outputs": [
        {
          "output_type": "execute_result",
          "data": {
            "text/plain": [
              "A    1\n",
              "B    4\n",
              "C    7\n",
              "D    8\n",
              "E   -1\n",
              "F    7\n",
              "dtype: int64"
            ]
          },
          "metadata": {
            "tags": []
          },
          "execution_count": 4
        }
      ]
    },
    {
      "cell_type": "code",
      "metadata": {
        "colab": {
          "base_uri": "https://localhost:8080/"
        },
        "id": "eXQqUhKqXaHj",
        "outputId": "21499950-5753-477a-ef5d-d900963172a6"
      },
      "source": [
        "s[4]=10\n",
        "s"
      ],
      "execution_count": null,
      "outputs": [
        {
          "output_type": "execute_result",
          "data": {
            "text/plain": [
              "A     1\n",
              "B     4\n",
              "C     7\n",
              "D     8\n",
              "E    10\n",
              "F     7\n",
              "dtype: int64"
            ]
          },
          "metadata": {
            "tags": []
          },
          "execution_count": 23
        }
      ]
    },
    {
      "cell_type": "markdown",
      "metadata": {
        "id": "c7NnI4WGkg_g"
      },
      "source": [
        "\n",
        "\n",
        "### Given the X pandas Series, change all the middle elements to 0\n"
      ]
    },
    {
      "cell_type": "code",
      "metadata": {
        "id": "PsOT1nLzkg_g",
        "colab": {
          "base_uri": "https://localhost:8080/"
        },
        "outputId": "60674813-f894-43d9-fd66-01d0208fada0"
      },
      "source": [
        "# your code goes here\n",
        "s[1:-1]=0\n",
        "s"
      ],
      "execution_count": null,
      "outputs": [
        {
          "output_type": "execute_result",
          "data": {
            "text/plain": [
              "A    1\n",
              "B    0\n",
              "C    0\n",
              "D    0\n",
              "E    0\n",
              "F    7\n",
              "dtype: int64"
            ]
          },
          "metadata": {
            "tags": []
          },
          "execution_count": 24
        }
      ]
    },
    {
      "cell_type": "markdown",
      "metadata": {
        "id": "QPDIl64akg_h"
      },
      "source": [
        "\n",
        "\n",
        "### Given the X pandas Series, add 5 to every element\n"
      ]
    },
    {
      "cell_type": "code",
      "metadata": {
        "id": "eBdMpUd1kg_h",
        "colab": {
          "base_uri": "https://localhost:8080/"
        },
        "outputId": "8bd4c795-8e70-4404-cd97-e79ebc75c0ea"
      },
      "source": [
        "# your code goes here\n",
        "s + 5"
      ],
      "execution_count": null,
      "outputs": [
        {
          "output_type": "execute_result",
          "data": {
            "text/plain": [
              "A     6\n",
              "B     5\n",
              "C     5\n",
              "D     5\n",
              "E     5\n",
              "F    12\n",
              "dtype: int64"
            ]
          },
          "metadata": {
            "tags": []
          },
          "execution_count": 25
        }
      ]
    },
    {
      "cell_type": "markdown",
      "metadata": {
        "id": "pnepp1FLkg_h"
      },
      "source": [
        "\n",
        "\n",
        "## Series boolean arrays (also called masks)"
      ]
    },
    {
      "cell_type": "markdown",
      "metadata": {
        "id": "3KDYGRxDkg_h"
      },
      "source": [
        "### Given the X pandas Series, make a mask showing negative elements\n"
      ]
    },
    {
      "cell_type": "code",
      "metadata": {
        "id": "mDVHhAlWkg_i",
        "colab": {
          "base_uri": "https://localhost:8080/"
        },
        "outputId": "c9703bf1-3fdc-43a6-87b2-b75ae2a8f413"
      },
      "source": [
        "# your code goes here\n",
        "s<0"
      ],
      "execution_count": null,
      "outputs": [
        {
          "output_type": "execute_result",
          "data": {
            "text/plain": [
              "A    False\n",
              "B    False\n",
              "C    False\n",
              "D    False\n",
              "E    False\n",
              "F    False\n",
              "dtype: bool"
            ]
          },
          "metadata": {
            "tags": []
          },
          "execution_count": 27
        }
      ]
    },
    {
      "cell_type": "markdown",
      "metadata": {
        "id": "SHtH4GRMkg_i"
      },
      "source": [
        "\n",
        "\n",
        "### Given the X pandas Series, get the negative elements\n"
      ]
    },
    {
      "cell_type": "code",
      "metadata": {
        "id": "AuTZ2o0Gkg_i",
        "colab": {
          "base_uri": "https://localhost:8080/"
        },
        "outputId": "49bdb741-b670-4c10-d9e2-b6603a520e26"
      },
      "source": [
        "# your code goes here\n",
        "s[s<0]"
      ],
      "execution_count": null,
      "outputs": [
        {
          "output_type": "execute_result",
          "data": {
            "text/plain": [
              "Series([], dtype: int64)"
            ]
          },
          "metadata": {
            "tags": []
          },
          "execution_count": 28
        }
      ]
    },
    {
      "cell_type": "markdown",
      "metadata": {
        "id": "7Kg3rmuMkg_i"
      },
      "source": [
        "\n",
        "\n",
        "### Given the X pandas Series, get numbers higher than 5\n"
      ]
    },
    {
      "cell_type": "code",
      "metadata": {
        "id": "5smOR6kTkg_i"
      },
      "source": [
        "# your code goes here\n"
      ],
      "execution_count": null,
      "outputs": []
    },
    {
      "cell_type": "markdown",
      "metadata": {
        "id": "CSxi0w0Ykg_j"
      },
      "source": [
        "\n",
        "\n",
        "### Given the X pandas Series, get numbers higher than the elements mean"
      ]
    },
    {
      "cell_type": "code",
      "metadata": {
        "id": "Pfv6AF-jkg_j",
        "colab": {
          "base_uri": "https://localhost:8080/"
        },
        "outputId": "282d6a49-3b3d-4f91-f344-6f6deeb67d54"
      },
      "source": [
        "# your code goes here\n",
        "s[s>s.mean()]"
      ],
      "execution_count": null,
      "outputs": [
        {
          "output_type": "execute_result",
          "data": {
            "text/plain": [
              "F    7\n",
              "dtype: int64"
            ]
          },
          "metadata": {
            "tags": []
          },
          "execution_count": 29
        }
      ]
    },
    {
      "cell_type": "markdown",
      "metadata": {
        "id": "kLsPXR0Skg_j"
      },
      "source": [
        "\n",
        "\n",
        "### Given the X pandas Series, get numbers equal to 2 or 10\n"
      ]
    },
    {
      "cell_type": "code",
      "metadata": {
        "id": "njiBGWz8kg_k",
        "colab": {
          "base_uri": "https://localhost:8080/"
        },
        "outputId": "86efb11d-6511-450d-bf16-6104f2c6bf3a"
      },
      "source": [
        "# your code goes here\n",
        "s[(s==2) | (s==10) ]"
      ],
      "execution_count": null,
      "outputs": [
        {
          "output_type": "execute_result",
          "data": {
            "text/plain": [
              "Series([], dtype: int64)"
            ]
          },
          "metadata": {
            "tags": []
          },
          "execution_count": 31
        }
      ]
    },
    {
      "cell_type": "markdown",
      "metadata": {
        "id": "1LpxGpJLkg_k"
      },
      "source": [
        "\n",
        "\n",
        "## Logic functions"
      ]
    },
    {
      "cell_type": "markdown",
      "metadata": {
        "id": "YsocSUpykg_k"
      },
      "source": [
        "### Given the X pandas Series, return True if none of its elements is zero"
      ]
    },
    {
      "cell_type": "code",
      "metadata": {
        "id": "JYLRESUwkg_k",
        "colab": {
          "base_uri": "https://localhost:8080/"
        },
        "outputId": "088dc9e5-5036-46e5-dd1e-a2b3e0f2fe89"
      },
      "source": [
        "# your code goes here\n",
        "print(s)\n",
        "np.all(s!=0)"
      ],
      "execution_count": null,
      "outputs": [
        {
          "output_type": "stream",
          "text": [
            "A    1\n",
            "B    0\n",
            "C    0\n",
            "D    0\n",
            "E    0\n",
            "F    7\n",
            "dtype: int64\n"
          ],
          "name": "stdout"
        },
        {
          "output_type": "execute_result",
          "data": {
            "text/plain": [
              "False"
            ]
          },
          "metadata": {
            "tags": []
          },
          "execution_count": 33
        }
      ]
    },
    {
      "cell_type": "markdown",
      "metadata": {
        "id": "TvS-P_Yhkg_l"
      },
      "source": [
        "\n",
        "\n",
        "### Given the X pandas Series, return True if any of its elements is zero\n"
      ]
    },
    {
      "cell_type": "code",
      "metadata": {
        "id": "vks2VWd5kg_l",
        "colab": {
          "base_uri": "https://localhost:8080/"
        },
        "outputId": "f936a34f-337c-4edc-aaee-2d5dd21a17e5"
      },
      "source": [
        "# your code goes here\n",
        "np.any(s==0)"
      ],
      "execution_count": null,
      "outputs": [
        {
          "output_type": "execute_result",
          "data": {
            "text/plain": [
              "False"
            ]
          },
          "metadata": {
            "tags": []
          },
          "execution_count": 5
        }
      ]
    },
    {
      "cell_type": "markdown",
      "metadata": {
        "id": "YbnVt975kg_l"
      },
      "source": [
        "\n",
        "\n",
        "## Summary statistics"
      ]
    },
    {
      "cell_type": "markdown",
      "metadata": {
        "id": "pdGeq7s6kg_m"
      },
      "source": [
        "### Given the X pandas Series, show the sum of its elements\n"
      ]
    },
    {
      "cell_type": "code",
      "metadata": {
        "id": "TXYOPKbekg_m",
        "colab": {
          "base_uri": "https://localhost:8080/"
        },
        "outputId": "7544afbd-93ad-4516-a800-2176651d3a4d"
      },
      "source": [
        "# your code goes here\n",
        "s.sum()"
      ],
      "execution_count": null,
      "outputs": [
        {
          "output_type": "execute_result",
          "data": {
            "text/plain": [
              "8"
            ]
          },
          "metadata": {
            "tags": []
          },
          "execution_count": 34
        }
      ]
    },
    {
      "cell_type": "markdown",
      "metadata": {
        "id": "LfQLlFaXkg_n"
      },
      "source": [
        "\n",
        "\n",
        "### Given the X pandas Series, show the mean value of its elements"
      ]
    },
    {
      "cell_type": "code",
      "metadata": {
        "id": "iOi-4wojkg_n",
        "colab": {
          "base_uri": "https://localhost:8080/"
        },
        "outputId": "ae63bbbc-ce82-4f3c-f677-546815e726f8"
      },
      "source": [
        "# your code goes here\n",
        "s.mean()"
      ],
      "execution_count": null,
      "outputs": [
        {
          "output_type": "execute_result",
          "data": {
            "text/plain": [
              "1.3333333333333333"
            ]
          },
          "metadata": {
            "tags": []
          },
          "execution_count": 35
        }
      ]
    },
    {
      "cell_type": "markdown",
      "metadata": {
        "id": "TwCA2-JKkg_o"
      },
      "source": [
        "\n",
        "\n",
        "### Given the X pandas Series, show the max value of its elements"
      ]
    },
    {
      "cell_type": "code",
      "metadata": {
        "id": "WFgv-JfAkg_o",
        "colab": {
          "base_uri": "https://localhost:8080/"
        },
        "outputId": "7d2055e7-6e40-442f-a2cc-6835c27680c9"
      },
      "source": [
        "# your code goes here\n",
        "s.max()"
      ],
      "execution_count": null,
      "outputs": [
        {
          "output_type": "execute_result",
          "data": {
            "text/plain": [
              "7"
            ]
          },
          "metadata": {
            "tags": []
          },
          "execution_count": 36
        }
      ]
    },
    {
      "cell_type": "code",
      "metadata": {
        "id": "kqyUPOJCY4HQ"
      },
      "source": [],
      "execution_count": null,
      "outputs": []
    }
  ]
}