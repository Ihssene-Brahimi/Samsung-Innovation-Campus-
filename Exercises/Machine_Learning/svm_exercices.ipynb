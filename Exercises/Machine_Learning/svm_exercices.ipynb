{
  "nbformat": 4,
  "nbformat_minor": 0,
  "metadata": {
    "colab": {
      "provenance": []
    },
    "kernelspec": {
      "display_name": "Python 3",
      "language": "python",
      "name": "python3"
    },
    "language_info": {
      "codemirror_mode": {
        "name": "ipython",
        "version": 3
      },
      "file_extension": ".py",
      "mimetype": "text/x-python",
      "name": "python",
      "nbconvert_exporter": "python",
      "pygments_lexer": "ipython3",
      "version": "3.7.0"
    },
    "toc": {
      "base_numbering": 1,
      "nav_menu": {},
      "number_sections": true,
      "sideBar": true,
      "skip_h1_title": false,
      "title_cell": "Table of Contents",
      "title_sidebar": "Contents",
      "toc_cell": false,
      "toc_position": {},
      "toc_section_display": true,
      "toc_window_display": false
    },
    "varInspector": {
      "cols": {
        "lenName": 16,
        "lenType": 16,
        "lenVar": 40
      },
      "kernels_config": {
        "python": {
          "delete_cmd_postfix": "",
          "delete_cmd_prefix": "del ",
          "library": "var_list.py",
          "varRefreshCmd": "print(var_dic_list())"
        },
        "r": {
          "delete_cmd_postfix": ") ",
          "delete_cmd_prefix": "rm(",
          "library": "var_list.r",
          "varRefreshCmd": "cat(var_dic_list()) "
        }
      },
      "types_to_exclude": [
        "module",
        "function",
        "builtin_function_or_method",
        "instance",
        "_Feature"
      ],
      "window_display": false
    }
  },
  "cells": [
    {
      "cell_type": "markdown",
      "metadata": {
        "id": "ZTBxLv1t70lB"
      },
      "source": [
        "# Classification with SVM:"
      ]
    },
    {
      "cell_type": "code",
      "metadata": {
        "id": "I-Otfmvf70lD"
      },
      "source": [
        "import numpy as np\n",
        "import pandas as pd\n",
        "import matplotlib.pyplot as plt\n",
        "import seaborn as sns\n",
        "import warnings\n",
        "from sklearn.model_selection import train_test_split,GridSearchCV\n",
        "from sklearn.svm import SVC\n",
        "from sklearn import metrics\n",
        "from sklearn.datasets import load_iris\n",
        "warnings.filterwarnings(action='ignore')                  # Turn off the warnings.\n",
        "%matplotlib inline"
      ],
      "execution_count": null,
      "outputs": []
    },
    {
      "cell_type": "markdown",
      "metadata": {
        "id": "x93aNXfB70lF"
      },
      "source": [
        "## Read in data:"
      ]
    },
    {
      "cell_type": "code",
      "metadata": {
        "id": "m7x5nnaY70lG"
      },
      "source": [
        "# Load data.\n",
        "data = load_iris()"
      ],
      "execution_count": null,
      "outputs": []
    },
    {
      "cell_type": "code",
      "metadata": {
        "colab": {
          "base_uri": "https://localhost:8080/"
        },
        "id": "zDahH2Vt70lH",
        "outputId": "ae9d6cf2-a029-49a6-b9b9-0f9035279d2e"
      },
      "source": [
        "# Explanatory variables.\n",
        "X = data['data']\n",
        "columns = list(data['feature_names'])\n",
        "print(columns)"
      ],
      "execution_count": null,
      "outputs": [
        {
          "output_type": "stream",
          "text": [
            "['sepal length (cm)', 'sepal width (cm)', 'petal length (cm)', 'petal width (cm)']\n"
          ],
          "name": "stdout"
        }
      ]
    },
    {
      "cell_type": "code",
      "metadata": {
        "colab": {
          "base_uri": "https://localhost:8080/"
        },
        "id": "K8L9FRBS70lI",
        "outputId": "01a4fe1b-01f0-47a5-b6b5-6798ab3f4d32"
      },
      "source": [
        "# Response variable.\n",
        "Y = data['target']\n",
        "labels = list(data['target_names'])\n",
        "print(labels)"
      ],
      "execution_count": null,
      "outputs": [
        {
          "output_type": "stream",
          "text": [
            "['setosa', 'versicolor', 'virginica']\n"
          ],
          "name": "stdout"
        }
      ]
    },
    {
      "cell_type": "code",
      "metadata": {
        "id": "aG_jKj7j70lK"
      },
      "source": [
        "X_train, X_test, Y_train, Y_test = train_test_split(X, Y, test_size=0.3, random_state=1234)"
      ],
      "execution_count": null,
      "outputs": []
    },
    {
      "cell_type": "markdown",
      "metadata": {
        "id": "Tp_RmlQ8oXYK"
      },
      "source": [
        "Support Vector Machines (SVMs) are a method that uses points in a transformed problem space that best separate classes into two groups. Classification for multiple classes is supported by a one-vs-all method. SVM also supports regression by modeling the function with a minimum amount of allowable error.\n",
        "\n",
        "Question 1 : Use SVC() to fit a support vector machine to iris data.\n"
      ]
    },
    {
      "cell_type": "code",
      "metadata": {
        "colab": {
          "base_uri": "https://localhost:8080/"
        },
        "id": "eBPXSjfxpV9y",
        "outputId": "a2a60c14-84a5-4721-d674-ae64c0b06a5a"
      },
      "source": [
        "from sklearn import metrics\n",
        "from sklearn.svm import SVC\n",
        "dataset = load_iris()\n",
        "model = SVC(kernel=\"linear\", C= 1.0)\n",
        "model.fit(X,Y)\n",
        "\n",
        "print(model)\n",
        "# make predictions\n",
        "expected = Y_test\n",
        "predicted = model.predict(X_test)\n",
        "\n",
        "# summarize the fit of the model\n",
        "print(metrics.classification_report(expected, predicted))\n",
        "print(metrics.confusion_matrix(expected, predicted))"
      ],
      "execution_count": null,
      "outputs": [
        {
          "output_type": "stream",
          "text": [
            "SVC(C=1.0, break_ties=False, cache_size=200, class_weight=None, coef0=0.0,\n",
            "    decision_function_shape='ovr', degree=3, gamma='scale', kernel='linear',\n",
            "    max_iter=-1, probability=False, random_state=None, shrinking=True,\n",
            "    tol=0.001, verbose=False)\n",
            "              precision    recall  f1-score   support\n",
            "\n",
            "           0       1.00      1.00      1.00        16\n",
            "           1       1.00      1.00      1.00        17\n",
            "           2       1.00      1.00      1.00        12\n",
            "\n",
            "    accuracy                           1.00        45\n",
            "   macro avg       1.00      1.00      1.00        45\n",
            "weighted avg       1.00      1.00      1.00        45\n",
            "\n",
            "[[16  0  0]\n",
            " [ 0 17  0]\n",
            " [ 0  0 12]]\n"
          ],
          "name": "stdout"
        }
      ]
    },
    {
      "cell_type": "markdown",
      "metadata": {
        "id": "vshQO-xX70lL"
      },
      "source": [
        "## SVM hyperparameter optimization (RBF kernel):\n",
        "\n",
        "The SVM algorithm is implemented in practice using a kernel.\n",
        "\n",
        "The learning of the hyperplane in linear SVM is done by transforming the problem using some linear algebra, which is out of the scope of this introduction to SVM.\n",
        "\n",
        "https://towardsdatascience.com/a-to-z-of-svm-machine-learning-for-everyone-902fdd8fe9a1\n",
        "\n",
        "\n",
        "\n"
      ]
    },
    {
      "cell_type": "markdown",
      "metadata": {
        "id": "qo5NkNiH9nlT"
      },
      "source": [
        "## Tuning Hyperparameters ,**Let's do some tuning !!! :)**\n",
        "\n",
        "\n",
        "- Kernel, The main function of the kernel is to transform the given dataset input data into the required form. There are various types of functions such as linear, polynomial, and radial basis function (RBF). Polynomial and RBF are useful for non-linear hyperplane. Polynomial and RBF kernels compute the separation line in the higher dimension. In some of the applications, it is suggested to use a more complex kernel to separate the classes that are curved or nonlinear. \n",
        "\n",
        "- Gamma; A lower value of Gamma will loosely fit the training dataset, whereas a higher value of gamma will exactly fit the training dataset, which causes over-fitting. In other words, you can say a low value of gamma considers only nearby points in calculating the separation line, while the a value of gamma considers all the data points in the calculation of the separation line.\n"
      ]
    },
    {
      "cell_type": "markdown",
      "metadata": {
        "id": "ZD8MezZ-xJH1"
      },
      "source": [
        "There are two parameters for an RBF kernel SVM namely C and gamma, \n",
        "Read the documentation and use gridCV to find best gama and best C.\n",
        "\n",
        "\n",
        "https://aneesha.medium.com/svm-parameter-tuning-in-scikit-learn-using-gridsearchcv-2413c02125a0"
      ]
    },
    {
      "cell_type": "markdown",
      "metadata": {
        "id": "9lNLLQ9i70lN"
      },
      "source": [
        "C     : Penalty parameter. <br>\n",
        "gamma : kernel parameter ($\\gamma$)."
      ]
    },
    {
      "cell_type": "code",
      "metadata": {
        "id": "zv6ppH_370lO"
      },
      "source": [
        "C_grid = 0.02*np.arange(1,20)\n",
        "gamma_grid = 0.02*np.arange(1,50)\n",
        "parameters = {'C': C_grid, 'gamma' : gamma_grid}\n",
        "gridCV =             #your code goes here, you can use\"n_jobs = -1\" to \"use all the CPU cores\".\n",
        "\n",
        "\n",
        "best_C = gridCV.best_params_['C']\n",
        "best_gamma = gridCV.best_params_['gamma']"
      ],
      "execution_count": null,
      "outputs": []
    },
    {
      "cell_type": "code",
      "metadata": {
        "colab": {
          "base_uri": "https://localhost:8080/"
        },
        "id": "o9JYJVCU70lP",
        "outputId": "4e3600e2-42fc-48ec-9a2b-4677e7310063"
      },
      "source": [
        "print(\"SVM best C : \" + str(best_C))\n",
        "print(\"SVM best gamma : \" + str(best_gamma))"
      ],
      "execution_count": null,
      "outputs": [
        {
          "output_type": "stream",
          "text": [
            "SVM best C : 0.2\n",
            "SVM best gamma : 0.78\n"
          ],
          "name": "stdout"
        }
      ]
    },
    {
      "cell_type": "markdown",
      "metadata": {
        "id": "EY1ifhNWySok"
      },
      "source": [
        "Now let's use best C and best gamma as parameters to our SVM model"
      ]
    },
    {
      "cell_type": "code",
      "metadata": {
        "colab": {
          "base_uri": "https://localhost:8080/"
        },
        "id": "5CRkH0zI70lQ",
        "outputId": "b76ed7e0-23c3-4940-bfa8-05020a47075a"
      },
      "source": [
        "SVM_best = #your code goes here\n",
        "SVM_best.fit(X_train, Y_train);\n",
        "Y_pred = SVM_best.predict(X_test)\n",
        "print( \"SVM best accuracy : \" + str(np.round(metrics.accuracy_score(Y_test,Y_pred),3)))"
      ],
      "execution_count": null,
      "outputs": [
        {
          "output_type": "stream",
          "text": [
            "SVM best accuracy : 0.267\n"
          ],
          "name": "stdout"
        }
      ]
    },
    {
      "cell_type": "markdown",
      "metadata": {
        "id": "aFC_5bD170lQ"
      },
      "source": [
        "#### 1.3. SVM hyperparameter optimization (Polynomial kernel):\n",
        "Now let's do the same steps but with the polynomial kernel,  use gridCV to find best gama and best C in a polynomial kernel."
      ]
    },
    {
      "cell_type": "code",
      "metadata": {
        "id": "IcX4TUWN70lS"
      },
      "source": [],
      "execution_count": null,
      "outputs": []
    },
    {
      "cell_type": "code",
      "metadata": {
        "id": "2rUKMEaf70lT"
      },
      "source": [
        "print(\"SVM best C : \" + str(best_C))\n",
        "print(\"SVM best gamma : \" + str(best_gamma))"
      ],
      "execution_count": null,
      "outputs": []
    },
    {
      "cell_type": "code",
      "metadata": {
        "id": "zXJ6BsOI70lU"
      },
      "source": [
        "SVM_best = SVC(kernel='poly', C=best_C,gamma=best_gamma)\n",
        "SVM_best.fit(X_train, Y_train);\n",
        "Y_pred = SVM_best.predict(X_test)\n",
        "print( \"SVM best accuracy : \" + str(np.round(metrics.accuracy_score(Y_test,Y_pred),3)))"
      ],
      "execution_count": null,
      "outputs": []
    },
    {
      "cell_type": "code",
      "metadata": {
        "id": "mY9XHe5u70lU"
      },
      "source": [],
      "execution_count": null,
      "outputs": []
    }
  ]
}