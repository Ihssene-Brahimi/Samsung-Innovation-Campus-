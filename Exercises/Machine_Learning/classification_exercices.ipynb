{
  "nbformat": 4,
  "nbformat_minor": 0,
  "metadata": {
    "kernelspec": {
      "display_name": "Python 3",
      "language": "python",
      "name": "python3"
    },
    "language_info": {
      "codemirror_mode": {
        "name": "ipython",
        "version": 3
      },
      "file_extension": ".py",
      "mimetype": "text/x-python",
      "name": "python",
      "nbconvert_exporter": "python",
      "pygments_lexer": "ipython3",
      "version": "3.7.0"
    },
    "toc": {
      "base_numbering": 1,
      "nav_menu": {},
      "number_sections": true,
      "sideBar": true,
      "skip_h1_title": false,
      "title_cell": "Table of Contents",
      "title_sidebar": "Contents",
      "toc_cell": false,
      "toc_position": {},
      "toc_section_display": true,
      "toc_window_display": false
    },
    "varInspector": {
      "cols": {
        "lenName": 16,
        "lenType": 16,
        "lenVar": 40
      },
      "kernels_config": {
        "python": {
          "delete_cmd_postfix": "",
          "delete_cmd_prefix": "del ",
          "library": "var_list.py",
          "varRefreshCmd": "print(var_dic_list())"
        },
        "r": {
          "delete_cmd_postfix": ") ",
          "delete_cmd_prefix": "rm(",
          "library": "var_list.r",
          "varRefreshCmd": "cat(var_dic_list()) "
        }
      },
      "types_to_exclude": [
        "module",
        "function",
        "builtin_function_or_method",
        "instance",
        "_Feature"
      ],
      "window_display": false
    },
    "colab": {
      "provenance": []
    }
  },
  "cells": [
    {
      "cell_type": "markdown",
      "metadata": {
        "id": "jwru_EVmqpYU"
      },
      "source": [
        "### 1. Softmax regression (multi-class logistic regression):"
      ]
    },
    {
      "cell_type": "code",
      "metadata": {
        "ExecuteTime": {
          "end_time": "2021-08-27T23:11:55.143918Z",
          "start_time": "2021-08-27T23:11:33.536051Z"
        },
        "id": "088CI6kXqpYY"
      },
      "source": [
        "import warnings \n",
        "\n",
        "warnings.filterwarnings(\"ignore\")\n",
        "import tensorflow.compat.v1 as tf\n",
        "import numpy as np\n",
        "import pandas as pd\n",
        "from sklearn.preprocessing import scale\n",
        "from sklearn.model_selection import train_test_split\n",
        "from sklearn.datasets import load_iris\n",
        "tf.disable_eager_execution()"
      ],
      "execution_count": null,
      "outputs": []
    },
    {
      "cell_type": "markdown",
      "metadata": {
        "id": "MmL1nfCGqpYZ"
      },
      "source": [
        "#### 1.1. Read in the data:"
      ]
    },
    {
      "cell_type": "code",
      "metadata": {
        "ExecuteTime": {
          "end_time": "2021-08-27T23:11:55.301094Z",
          "start_time": "2021-08-27T23:11:55.178534Z"
        },
        "colab": {
          "base_uri": "https://localhost:8080/"
        },
        "id": "GvrjLQ9kqpYa",
        "outputId": "b2e43f1f-dfa9-485d-bfe2-4d51705c56fe"
      },
      "source": [
        "# We will use Iris data.\n",
        "# 4 explanatory variables.\n",
        "# 3 classes for the response variable.\n",
        "data_raw = load_iris()\n",
        "data_raw.keys()"
      ],
      "execution_count": null,
      "outputs": [
        {
          "output_type": "execute_result",
          "data": {
            "text/plain": [
              "dict_keys(['data', 'target', 'target_names', 'DESCR', 'feature_names', 'filename'])"
            ]
          },
          "metadata": {},
          "execution_count": 3
        }
      ]
    },
    {
      "cell_type": "code",
      "metadata": {
        "colab": {
          "base_uri": "https://localhost:8080/"
        },
        "id": "zJAg4xbjqpYa",
        "outputId": "7a96b103-2bdd-442b-9b49-e2c615378175"
      },
      "source": [
        "# Print out the description.\n",
        "print(data_raw['DESCR'])"
      ],
      "execution_count": null,
      "outputs": [
        {
          "output_type": "stream",
          "text": [
            ".. _iris_dataset:\n",
            "\n",
            "Iris plants dataset\n",
            "--------------------\n",
            "\n",
            "**Data Set Characteristics:**\n",
            "\n",
            "    :Number of Instances: 150 (50 in each of three classes)\n",
            "    :Number of Attributes: 4 numeric, predictive attributes and the class\n",
            "    :Attribute Information:\n",
            "        - sepal length in cm\n",
            "        - sepal width in cm\n",
            "        - petal length in cm\n",
            "        - petal width in cm\n",
            "        - class:\n",
            "                - Iris-Setosa\n",
            "                - Iris-Versicolour\n",
            "                - Iris-Virginica\n",
            "                \n",
            "    :Summary Statistics:\n",
            "\n",
            "    ============== ==== ==== ======= ===== ====================\n",
            "                    Min  Max   Mean    SD   Class Correlation\n",
            "    ============== ==== ==== ======= ===== ====================\n",
            "    sepal length:   4.3  7.9   5.84   0.83    0.7826\n",
            "    sepal width:    2.0  4.4   3.05   0.43   -0.4194\n",
            "    petal length:   1.0  6.9   3.76   1.76    0.9490  (high!)\n",
            "    petal width:    0.1  2.5   1.20   0.76    0.9565  (high!)\n",
            "    ============== ==== ==== ======= ===== ====================\n",
            "\n",
            "    :Missing Attribute Values: None\n",
            "    :Class Distribution: 33.3% for each of 3 classes.\n",
            "    :Creator: R.A. Fisher\n",
            "    :Donor: Michael Marshall (MARSHALL%PLU@io.arc.nasa.gov)\n",
            "    :Date: July, 1988\n",
            "\n",
            "The famous Iris database, first used by Sir R.A. Fisher. The dataset is taken\n",
            "from Fisher's paper. Note that it's the same as in R, but not as in the UCI\n",
            "Machine Learning Repository, which has two wrong data points.\n",
            "\n",
            "This is perhaps the best known database to be found in the\n",
            "pattern recognition literature.  Fisher's paper is a classic in the field and\n",
            "is referenced frequently to this day.  (See Duda & Hart, for example.)  The\n",
            "data set contains 3 classes of 50 instances each, where each class refers to a\n",
            "type of iris plant.  One class is linearly separable from the other 2; the\n",
            "latter are NOT linearly separable from each other.\n",
            "\n",
            ".. topic:: References\n",
            "\n",
            "   - Fisher, R.A. \"The use of multiple measurements in taxonomic problems\"\n",
            "     Annual Eugenics, 7, Part II, 179-188 (1936); also in \"Contributions to\n",
            "     Mathematical Statistics\" (John Wiley, NY, 1950).\n",
            "   - Duda, R.O., & Hart, P.E. (1973) Pattern Classification and Scene Analysis.\n",
            "     (Q327.D83) John Wiley & Sons.  ISBN 0-471-22361-1.  See page 218.\n",
            "   - Dasarathy, B.V. (1980) \"Nosing Around the Neighborhood: A New System\n",
            "     Structure and Classification Rule for Recognition in Partially Exposed\n",
            "     Environments\".  IEEE Transactions on Pattern Analysis and Machine\n",
            "     Intelligence, Vol. PAMI-2, No. 1, 67-71.\n",
            "   - Gates, G.W. (1972) \"The Reduced Nearest Neighbor Rule\".  IEEE Transactions\n",
            "     on Information Theory, May 1972, 431-433.\n",
            "   - See also: 1988 MLC Proceedings, 54-64.  Cheeseman et al\"s AUTOCLASS II\n",
            "     conceptual clustering system finds 3 classes in the data.\n",
            "   - Many, many more ...\n"
          ],
          "name": "stdout"
        }
      ]
    },
    {
      "cell_type": "code",
      "metadata": {
        "ExecuteTime": {
          "end_time": "2021-08-27T23:11:55.410032Z",
          "start_time": "2021-08-27T23:11:55.397041Z"
        },
        "id": "O-7enLk3qpYa"
      },
      "source": [
        "X = data_raw['data']\n",
        "y = data_raw['target']"
      ],
      "execution_count": null,
      "outputs": []
    },
    {
      "cell_type": "code",
      "metadata": {
        "ExecuteTime": {
          "end_time": "2021-08-27T23:11:55.505165Z",
          "start_time": "2021-08-27T23:11:55.492191Z"
        },
        "colab": {
          "base_uri": "https://localhost:8080/"
        },
        "id": "ojDlFHDXqpYa",
        "outputId": "2b1f0397-c2c9-44d9-9bdf-840ff5c3b651"
      },
      "source": [
        "# Check the shape.\n",
        "print(X.shape)\n",
        "print(y.shape)\n",
        "#4 features"
      ],
      "execution_count": null,
      "outputs": [
        {
          "output_type": "stream",
          "text": [
            "(150, 4)\n",
            "(150,)\n"
          ],
          "name": "stdout"
        }
      ]
    },
    {
      "cell_type": "markdown",
      "metadata": {
        "id": "5NHfCY1bqpYb"
      },
      "source": [
        "#### 1.2. Data pre-processing:"
      ]
    },
    {
      "cell_type": "code",
      "metadata": {
        "ExecuteTime": {
          "end_time": "2021-08-27T23:12:12.479972Z",
          "start_time": "2021-08-27T23:12:12.318691Z"
        },
        "colab": {
          "base_uri": "https://localhost:8080/"
        },
        "id": "JHzDhZDNqpYb",
        "outputId": "8b7b75a5-bdab-46bd-80d8-e78ca35cb8cb"
      },
      "source": [
        "# One-Hot-Encoding.\n",
        "y = np.array(pd.get_dummies(y, drop_first=False))               # drop_frist = False for one-hot-encoding.\n",
        "y.shape\n",
        "#3 output"
      ],
      "execution_count": null,
      "outputs": [
        {
          "output_type": "execute_result",
          "data": {
            "text/plain": [
              "(150, 3)"
            ]
          },
          "metadata": {},
          "execution_count": 7
        }
      ]
    },
    {
      "cell_type": "code",
      "metadata": {
        "ExecuteTime": {
          "end_time": "2021-08-27T23:12:14.027660Z",
          "start_time": "2021-08-27T23:12:13.966594Z"
        },
        "id": "0EbMMewmqpYc"
      },
      "source": [
        "# Scaling\n",
        "X = scale(X)"
      ],
      "execution_count": null,
      "outputs": []
    },
    {
      "cell_type": "code",
      "metadata": {
        "ExecuteTime": {
          "end_time": "2021-08-27T23:12:14.510803Z",
          "start_time": "2021-08-27T23:12:14.477824Z"
        },
        "id": "c7KZ6vZWqpYc"
      },
      "source": [
        "X_train, X_test, y_train, y_test = train_test_split(X, y, test_size=0.3, random_state=3)\n",
        "n_train_size = y_train.shape[0]"
      ],
      "execution_count": null,
      "outputs": []
    },
    {
      "cell_type": "markdown",
      "metadata": {
        "id": "KuR2-kr1qpYc"
      },
      "source": [
        "#### 1.3. Do the necessary definitions:"
      ]
    },
    {
      "cell_type": "code",
      "metadata": {
        "ExecuteTime": {
          "end_time": "2021-08-27T23:12:18.738513Z",
          "start_time": "2021-08-27T23:12:18.726500Z"
        },
        "id": "3OZd2eYsqpYd"
      },
      "source": [
        "batch_size = 100                                # Size of each (mini) batch.\n",
        "n_epochs  = 30000                               # Number of epochs.\n",
        "learn_rate = 0.05"
      ],
      "execution_count": null,
      "outputs": []
    },
    {
      "cell_type": "markdown",
      "metadata": {
        "id": "5vkQkgsQqpYd"
      },
      "source": [
        "define the weights and bias , make sure to set the approriate weights , for the sake of simplicity we fill them with ones , that means you use ``tf.ones()``"
      ]
    },
    {
      "cell_type": "code",
      "metadata": {
        "id": "63sIBtm4qpYd"
      },
      "source": [
        "W = tf.ones(4)               # Initial value of the weights = 1.\n",
        "b = tf.constant(1)               # Initial value of the bias = 1."
      ],
      "execution_count": null,
      "outputs": []
    },
    {
      "cell_type": "markdown",
      "metadata": {
        "id": "gABgec4xqpYd"
      },
      "source": [
        "define placeholders for x and y "
      ]
    },
    {
      "cell_type": "code",
      "metadata": {
        "id": "NxXyey4RqpYd"
      },
      "source": [
        "X_ph = tf.placeholder(tf.float32,(3,3))\n",
        "y_ph = tf.placeholder(tf.float32,(3,3))"
      ],
      "execution_count": null,
      "outputs": []
    },
    {
      "cell_type": "markdown",
      "metadata": {
        "id": "fa9r5NWSqpYe"
      },
      "source": [
        "define the model , recall that $y\\_model = X*W + b$"
      ]
    },
    {
      "cell_type": "code",
      "metadata": {
        "id": "EHC-7F1BqpYe"
      },
      "source": [
        "y_model = tf.add(tf.multiply(W,X_ph),b)"
      ],
      "execution_count": null,
      "outputs": []
    },
    {
      "cell_type": "markdown",
      "metadata": {
        "id": "WIHX4u0wqpYe"
      },
      "source": [
        "defin the loss function , recall that we are dealing with a multi-class classification problem ,thus we will need to work with softmax and cross_entropy (hint : use ``tf.nn.softmax_cross_entropy_with_logits_v2`` )"
      ]
    },
    {
      "cell_type": "code",
      "metadata": {
        "ExecuteTime": {
          "end_time": "2021-08-27T23:28:22.334626Z",
          "start_time": "2021-08-27T23:28:21.760016Z"
        },
        "scrolled": false,
        "id": "Uiz0paZzqpYe"
      },
      "source": [
        "loss =_____"
      ],
      "execution_count": null,
      "outputs": []
    },
    {
      "cell_type": "code",
      "metadata": {
        "id": "EWk1lI8hqpYe"
      },
      "source": [
        "loss  = tf.reduce_mean(tf.nn.softmax_cross_entropy_with_logits_v2(labels=y_ph, logits=y_model))     # Loss = cross entropy. "
      ],
      "execution_count": null,
      "outputs": []
    },
    {
      "cell_type": "markdown",
      "metadata": {
        "id": "ZxIbmnskqpYe"
      },
      "source": [
        "define your optimizer , use gradient descent"
      ]
    },
    {
      "cell_type": "code",
      "metadata": {
        "id": "3mWuOKtVqpYf"
      },
      "source": [
        "optimizer = ________\n",
        "train = ________\n",
        "init = _________"
      ],
      "execution_count": null,
      "outputs": []
    },
    {
      "cell_type": "markdown",
      "metadata": {
        "id": "DKENd0otqpYf"
      },
      "source": [
        "#### 1.4. Training and Testing:"
      ]
    },
    {
      "cell_type": "markdown",
      "metadata": {
        "id": "O44bdjlZqpYf"
      },
      "source": [
        "- train your model this time using batches , (hint : make sure to use slicing and  ``np.random.choice`` to get a sample of index with a size equal to ``batch_size``.\n",
        "- since we are working with batches ,at each iteration the my_feed dictionary will change according to batches\n"
      ]
    },
    {
      "cell_type": "code",
      "metadata": {
        "id": "gQKqZlCFqpYf"
      },
      "source": [
        "with tf.Session() as sess:\n",
        "        # Variables initialization.\n",
        "        sess.run(init)\n",
        "        # Training.\n",
        "        for i in range(n_epochs):\n",
        "            #define your batches here in two line of codes #\n",
        "            #run training using sess.run as usual#\n",
        "            \n",
        "            if (i + 1) % 2000 == 0: print(\"Step : {}\".format(i + 1))                      # Print the step number at every multiple of 2000.\n",
        "        \n",
        "        \n",
        "        \n",
        "        # Testing.\n",
        "        correct_predictions = tf.equal(tf.argmax(y_ph, axis=1), tf.argmax(y_model, axis=1))   # In argmax(), axis=1 means horizontal direction.\n",
        "        accuracy = tf.reduce_mean(tf.cast(correct_predictions, tf.float32))                   # Recast the Boolean as float32 first. Then calculate the mean.\n",
        "        accuracy_value = sess.run(accuracy, feed_dict={X_ph:X_test, y_ph:y_test})             # Actually run the test with the test data."
      ],
      "execution_count": null,
      "outputs": []
    },
    {
      "cell_type": "markdown",
      "metadata": {
        "id": "Eysti9uoqpYf"
      },
      "source": [
        "Print the testing result."
      ]
    },
    {
      "cell_type": "code",
      "metadata": {
        "id": "4XCtNokCqpYg"
      },
      "source": [
        "print(\"Accuracy = {:5.3f}\".format(accuracy_value))"
      ],
      "execution_count": null,
      "outputs": []
    },
    {
      "cell_type": "code",
      "metadata": {
        "id": "hUgPWS6lqpYg"
      },
      "source": [],
      "execution_count": null,
      "outputs": []
    }
  ]
}