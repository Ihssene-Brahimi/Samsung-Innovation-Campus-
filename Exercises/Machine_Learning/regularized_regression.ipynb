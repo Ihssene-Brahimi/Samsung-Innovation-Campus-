{
  "nbformat": 4,
  "nbformat_minor": 0,
  "metadata": {
    "kernelspec": {
      "display_name": "Python 3",
      "language": "python",
      "name": "python3"
    },
    "language_info": {
      "codemirror_mode": {
        "name": "ipython",
        "version": 3
      },
      "file_extension": ".py",
      "mimetype": "text/x-python",
      "name": "python",
      "nbconvert_exporter": "python",
      "pygments_lexer": "ipython3",
      "version": "3.8.5"
    },
    "toc": {
      "base_numbering": 1,
      "nav_menu": {},
      "number_sections": true,
      "sideBar": true,
      "skip_h1_title": false,
      "title_cell": "Table of Contents",
      "title_sidebar": "Contents",
      "toc_cell": false,
      "toc_position": {},
      "toc_section_display": true,
      "toc_window_display": false
    },
    "varInspector": {
      "cols": {
        "lenName": 16,
        "lenType": 16,
        "lenVar": 40
      },
      "kernels_config": {
        "python": {
          "delete_cmd_postfix": "",
          "delete_cmd_prefix": "del ",
          "library": "var_list.py",
          "varRefreshCmd": "print(var_dic_list())"
        },
        "r": {
          "delete_cmd_postfix": ") ",
          "delete_cmd_prefix": "rm(",
          "library": "var_list.r",
          "varRefreshCmd": "cat(var_dic_list()) "
        }
      },
      "types_to_exclude": [
        "module",
        "function",
        "builtin_function_or_method",
        "instance",
        "_Feature"
      ],
      "window_display": false
    },
    "colab": {
      "provenance": []
    }
  },
  "cells": [
    {
      "cell_type": "markdown",
      "metadata": {
        "id": "EUHsDOvsbOPu"
      },
      "source": [
        "# Regularized regressions:"
      ]
    },
    {
      "cell_type": "code",
      "metadata": {
        "ExecuteTime": {
          "end_time": "2021-08-10T00:07:16.855052Z",
          "start_time": "2021-08-10T00:07:15.599833Z"
        },
        "id": "HtR8758gbOPx"
      },
      "source": [
        "import numpy as np\n",
        "import pandas as pd\n",
        "import os\n",
        "import matplotlib.pyplot as plt\n",
        "from sklearn.metrics import mean_squared_error\n",
        "from sklearn.model_selection import train_test_split\n",
        "from sklearn.linear_model import Ridge, Lasso\n",
        "from sklearn.metrics import r2_score"
      ],
      "execution_count": null,
      "outputs": []
    },
    {
      "cell_type": "markdown",
      "metadata": {
        "id": "m6VJC-L7bOPy"
      },
      "source": [
        "## Read in data:\n",
        "\n",
        "The dataset comes from 1974 MotoTrend US Magazine."
      ]
    },
    {
      "cell_type": "code",
      "metadata": {
        "id": "CDsW16GZbOPy"
      },
      "source": [],
      "execution_count": null,
      "outputs": []
    },
    {
      "cell_type": "code",
      "metadata": {
        "ExecuteTime": {
          "end_time": "2021-08-10T00:08:20.382908Z",
          "start_time": "2021-08-10T00:08:20.366920Z"
        },
        "id": "S3iJOZGFbOPy"
      },
      "source": [
        "df = pd.read_csv('data_mtcars.csv', header='infer')"
      ],
      "execution_count": null,
      "outputs": []
    },
    {
      "cell_type": "code",
      "metadata": {
        "ExecuteTime": {
          "end_time": "2021-08-10T00:08:22.516912Z",
          "start_time": "2021-08-10T00:08:22.501917Z"
        },
        "colab": {
          "base_uri": "https://localhost:8080/"
        },
        "id": "vOCaNtkbbOPz",
        "outputId": "a1c3d08c-0d88-4422-f9b9-dc29918bda48"
      },
      "source": [
        "df.shape"
      ],
      "execution_count": null,
      "outputs": [
        {
          "output_type": "execute_result",
          "data": {
            "text/plain": [
              "(32, 12)"
            ]
          },
          "metadata": {
            "tags": []
          },
          "execution_count": 7
        }
      ]
    },
    {
      "cell_type": "code",
      "metadata": {
        "ExecuteTime": {
          "end_time": "2021-08-10T00:08:23.300876Z",
          "start_time": "2021-08-10T00:08:23.276872Z"
        },
        "colab": {
          "base_uri": "https://localhost:8080/",
          "height": 203
        },
        "id": "TCBVZUX_bOPz",
        "outputId": "43d88333-88bb-493f-a8d7-f6d4930c4edc"
      },
      "source": [
        "df.head(5)"
      ],
      "execution_count": null,
      "outputs": [
        {
          "output_type": "execute_result",
          "data": {
            "text/html": [
              "<div>\n",
              "<style scoped>\n",
              "    .dataframe tbody tr th:only-of-type {\n",
              "        vertical-align: middle;\n",
              "    }\n",
              "\n",
              "    .dataframe tbody tr th {\n",
              "        vertical-align: top;\n",
              "    }\n",
              "\n",
              "    .dataframe thead th {\n",
              "        text-align: right;\n",
              "    }\n",
              "</style>\n",
              "<table border=\"1\" class=\"dataframe\">\n",
              "  <thead>\n",
              "    <tr style=\"text-align: right;\">\n",
              "      <th></th>\n",
              "      <th>model</th>\n",
              "      <th>mpg</th>\n",
              "      <th>cyl</th>\n",
              "      <th>disp</th>\n",
              "      <th>hp</th>\n",
              "      <th>drat</th>\n",
              "      <th>wt</th>\n",
              "      <th>qsec</th>\n",
              "      <th>vs</th>\n",
              "      <th>am</th>\n",
              "      <th>gear</th>\n",
              "      <th>carb</th>\n",
              "    </tr>\n",
              "  </thead>\n",
              "  <tbody>\n",
              "    <tr>\n",
              "      <th>0</th>\n",
              "      <td>Mazda RX4</td>\n",
              "      <td>21.0</td>\n",
              "      <td>6</td>\n",
              "      <td>160.0</td>\n",
              "      <td>110</td>\n",
              "      <td>3.90</td>\n",
              "      <td>2.620</td>\n",
              "      <td>16.46</td>\n",
              "      <td>0</td>\n",
              "      <td>1</td>\n",
              "      <td>4</td>\n",
              "      <td>4</td>\n",
              "    </tr>\n",
              "    <tr>\n",
              "      <th>1</th>\n",
              "      <td>Mazda RX4 Wag</td>\n",
              "      <td>21.0</td>\n",
              "      <td>6</td>\n",
              "      <td>160.0</td>\n",
              "      <td>110</td>\n",
              "      <td>3.90</td>\n",
              "      <td>2.875</td>\n",
              "      <td>17.02</td>\n",
              "      <td>0</td>\n",
              "      <td>1</td>\n",
              "      <td>4</td>\n",
              "      <td>4</td>\n",
              "    </tr>\n",
              "    <tr>\n",
              "      <th>2</th>\n",
              "      <td>Datsun 710</td>\n",
              "      <td>22.8</td>\n",
              "      <td>4</td>\n",
              "      <td>108.0</td>\n",
              "      <td>93</td>\n",
              "      <td>3.85</td>\n",
              "      <td>2.320</td>\n",
              "      <td>18.61</td>\n",
              "      <td>1</td>\n",
              "      <td>1</td>\n",
              "      <td>4</td>\n",
              "      <td>1</td>\n",
              "    </tr>\n",
              "    <tr>\n",
              "      <th>3</th>\n",
              "      <td>Hornet 4 Drive</td>\n",
              "      <td>21.4</td>\n",
              "      <td>6</td>\n",
              "      <td>258.0</td>\n",
              "      <td>110</td>\n",
              "      <td>3.08</td>\n",
              "      <td>3.215</td>\n",
              "      <td>19.44</td>\n",
              "      <td>1</td>\n",
              "      <td>0</td>\n",
              "      <td>3</td>\n",
              "      <td>1</td>\n",
              "    </tr>\n",
              "    <tr>\n",
              "      <th>4</th>\n",
              "      <td>Hornet Sportabout</td>\n",
              "      <td>18.7</td>\n",
              "      <td>8</td>\n",
              "      <td>360.0</td>\n",
              "      <td>175</td>\n",
              "      <td>3.15</td>\n",
              "      <td>3.440</td>\n",
              "      <td>17.02</td>\n",
              "      <td>0</td>\n",
              "      <td>0</td>\n",
              "      <td>3</td>\n",
              "      <td>2</td>\n",
              "    </tr>\n",
              "  </tbody>\n",
              "</table>\n",
              "</div>"
            ],
            "text/plain": [
              "               model   mpg  cyl   disp   hp  ...   qsec  vs  am  gear  carb\n",
              "0          Mazda RX4  21.0    6  160.0  110  ...  16.46   0   1     4     4\n",
              "1      Mazda RX4 Wag  21.0    6  160.0  110  ...  17.02   0   1     4     4\n",
              "2         Datsun 710  22.8    4  108.0   93  ...  18.61   1   1     4     1\n",
              "3     Hornet 4 Drive  21.4    6  258.0  110  ...  19.44   1   0     3     1\n",
              "4  Hornet Sportabout  18.7    8  360.0  175  ...  17.02   0   0     3     2\n",
              "\n",
              "[5 rows x 12 columns]"
            ]
          },
          "metadata": {
            "tags": []
          },
          "execution_count": 8
        }
      ]
    },
    {
      "cell_type": "code",
      "metadata": {
        "ExecuteTime": {
          "end_time": "2021-08-10T00:08:28.046882Z",
          "start_time": "2021-08-10T00:08:27.973924Z"
        },
        "id": "S1_vJVzAbOP0"
      },
      "source": [
        "# Separate into X and Y.\n",
        "X=df.drop(columns=['model','mpg'])\n",
        "Y=df.mpg"
      ],
      "execution_count": null,
      "outputs": []
    },
    {
      "cell_type": "markdown",
      "metadata": {
        "id": "zkLqVLwsbOP0"
      },
      "source": [
        " Split the dataset with test size of 30%\n"
      ]
    },
    {
      "cell_type": "code",
      "metadata": {
        "id": "BilvbWaJbOP0"
      },
      "source": [
        "from sklearn.model_selection import train_test_split\n",
        "x_train,x_test,y_train,y_test = train_test_split(X,Y,test_size=0.30,random_state=0)  #splitting data with test size of 30%"
      ],
      "execution_count": null,
      "outputs": []
    },
    {
      "cell_type": "markdown",
      "metadata": {
        "id": "anp5TTcubOP0"
      },
      "source": [
        "#### 1.2. Ridge regression:"
      ]
    },
    {
      "cell_type": "code",
      "metadata": {
        "ExecuteTime": {
          "end_time": "2021-08-10T00:09:00.867977Z",
          "start_time": "2021-08-10T00:09:00.854967Z"
        },
        "id": "mwYnHzKQbOP1"
      },
      "source": [
        "lambdaRange = range(1,100)"
      ],
      "execution_count": null,
      "outputs": []
    },
    {
      "cell_type": "code",
      "metadata": {
        "id": "LuX99MH_jQJ8"
      },
      "source": [
        "rr = Ridge(alpha=0.01)\n",
        "rr.fit(X_train, y_train) \n",
        "pred_train_rr= rr.predict(X_train)\n",
        "print(np.sqrt(mean_squared_error(y_train,pred_train_rr)))\n",
        "print(r2_score(y_train, pred_train_rr))\n",
        "\n",
        "pred_test_rr= rr.predict(X_test)\n",
        "print(np.sqrt(mean_squared_error(y_test,pred_test_rr))) \n",
        "print(r2_score(y_test, pred_test_rr))"
      ],
      "execution_count": null,
      "outputs": []
    },
    {
      "cell_type": "markdown",
      "metadata": {
        "id": "6an7HbbSbOP1"
      },
      "source": [
        "complete the code below  "
      ]
    },
    {
      "cell_type": "code",
      "metadata": {
        "colab": {
          "base_uri": "https://localhost:8080/"
        },
        "id": "1M6JYl7ubOP1",
        "outputId": "ccde81b7-ded9-4161-c1e1-8d885da1d324"
      },
      "source": [
        "bestRsq = 0.0                                                # To contain the best R^2.\n",
        "bestLambda = 0.0                                             # To contain the best lambda.\n",
        "\n",
        "for aLambda in lambdaRange:\n",
        "    ridge = Ridge(aLambda)\n",
        "    ridge.fit(x_train, y_train) \n",
        "    pred_train_r= ridge.predict(x_train)\n",
        "    score = r2_score(y_train, pred_train_r)\n",
        "\n",
        "\n",
        "    print(\"Lambda = \", aLambda, \" and  R^2 = \", np.round(score,3))\n"
      ],
      "execution_count": null,
      "outputs": [
        {
          "output_type": "stream",
          "text": [
            "Lambda =  1  and  R^2 =  0.918\n",
            "Lambda =  2  and  R^2 =  0.906\n",
            "Lambda =  3  and  R^2 =  0.896\n",
            "Lambda =  4  and  R^2 =  0.888\n",
            "Lambda =  5  and  R^2 =  0.882\n",
            "Lambda =  6  and  R^2 =  0.877\n",
            "Lambda =  7  and  R^2 =  0.872\n",
            "Lambda =  8  and  R^2 =  0.868\n",
            "Lambda =  9  and  R^2 =  0.864\n",
            "Lambda =  10  and  R^2 =  0.86\n",
            "Lambda =  11  and  R^2 =  0.857\n",
            "Lambda =  12  and  R^2 =  0.854\n",
            "Lambda =  13  and  R^2 =  0.851\n",
            "Lambda =  14  and  R^2 =  0.849\n",
            "Lambda =  15  and  R^2 =  0.846\n",
            "Lambda =  16  and  R^2 =  0.844\n",
            "Lambda =  17  and  R^2 =  0.842\n",
            "Lambda =  18  and  R^2 =  0.84\n",
            "Lambda =  19  and  R^2 =  0.838\n",
            "Lambda =  20  and  R^2 =  0.836\n",
            "Lambda =  21  and  R^2 =  0.835\n",
            "Lambda =  22  and  R^2 =  0.833\n",
            "Lambda =  23  and  R^2 =  0.831\n",
            "Lambda =  24  and  R^2 =  0.83\n",
            "Lambda =  25  and  R^2 =  0.828\n",
            "Lambda =  26  and  R^2 =  0.827\n",
            "Lambda =  27  and  R^2 =  0.826\n",
            "Lambda =  28  and  R^2 =  0.824\n",
            "Lambda =  29  and  R^2 =  0.823\n",
            "Lambda =  30  and  R^2 =  0.822\n",
            "Lambda =  31  and  R^2 =  0.821\n",
            "Lambda =  32  and  R^2 =  0.82\n",
            "Lambda =  33  and  R^2 =  0.819\n",
            "Lambda =  34  and  R^2 =  0.818\n",
            "Lambda =  35  and  R^2 =  0.817\n",
            "Lambda =  36  and  R^2 =  0.816\n",
            "Lambda =  37  and  R^2 =  0.815\n",
            "Lambda =  38  and  R^2 =  0.814\n",
            "Lambda =  39  and  R^2 =  0.813\n",
            "Lambda =  40  and  R^2 =  0.812\n",
            "Lambda =  41  and  R^2 =  0.811\n",
            "Lambda =  42  and  R^2 =  0.811\n",
            "Lambda =  43  and  R^2 =  0.81\n",
            "Lambda =  44  and  R^2 =  0.809\n",
            "Lambda =  45  and  R^2 =  0.808\n",
            "Lambda =  46  and  R^2 =  0.808\n",
            "Lambda =  47  and  R^2 =  0.807\n",
            "Lambda =  48  and  R^2 =  0.806\n",
            "Lambda =  49  and  R^2 =  0.806\n",
            "Lambda =  50  and  R^2 =  0.805\n",
            "Lambda =  51  and  R^2 =  0.805\n",
            "Lambda =  52  and  R^2 =  0.804\n",
            "Lambda =  53  and  R^2 =  0.803\n",
            "Lambda =  54  and  R^2 =  0.803\n",
            "Lambda =  55  and  R^2 =  0.802\n",
            "Lambda =  56  and  R^2 =  0.802\n",
            "Lambda =  57  and  R^2 =  0.801\n",
            "Lambda =  58  and  R^2 =  0.801\n",
            "Lambda =  59  and  R^2 =  0.8\n",
            "Lambda =  60  and  R^2 =  0.8\n",
            "Lambda =  61  and  R^2 =  0.799\n",
            "Lambda =  62  and  R^2 =  0.799\n",
            "Lambda =  63  and  R^2 =  0.798\n",
            "Lambda =  64  and  R^2 =  0.798\n",
            "Lambda =  65  and  R^2 =  0.798\n",
            "Lambda =  66  and  R^2 =  0.797\n",
            "Lambda =  67  and  R^2 =  0.797\n",
            "Lambda =  68  and  R^2 =  0.796\n",
            "Lambda =  69  and  R^2 =  0.796\n",
            "Lambda =  70  and  R^2 =  0.796\n",
            "Lambda =  71  and  R^2 =  0.795\n",
            "Lambda =  72  and  R^2 =  0.795\n",
            "Lambda =  73  and  R^2 =  0.794\n",
            "Lambda =  74  and  R^2 =  0.794\n",
            "Lambda =  75  and  R^2 =  0.794\n",
            "Lambda =  76  and  R^2 =  0.793\n",
            "Lambda =  77  and  R^2 =  0.793\n",
            "Lambda =  78  and  R^2 =  0.793\n",
            "Lambda =  79  and  R^2 =  0.792\n",
            "Lambda =  80  and  R^2 =  0.792\n",
            "Lambda =  81  and  R^2 =  0.792\n",
            "Lambda =  82  and  R^2 =  0.792\n",
            "Lambda =  83  and  R^2 =  0.791\n",
            "Lambda =  84  and  R^2 =  0.791\n",
            "Lambda =  85  and  R^2 =  0.791\n",
            "Lambda =  86  and  R^2 =  0.79\n",
            "Lambda =  87  and  R^2 =  0.79\n",
            "Lambda =  88  and  R^2 =  0.79\n",
            "Lambda =  89  and  R^2 =  0.79\n",
            "Lambda =  90  and  R^2 =  0.789\n",
            "Lambda =  91  and  R^2 =  0.789\n",
            "Lambda =  92  and  R^2 =  0.789\n",
            "Lambda =  93  and  R^2 =  0.789\n",
            "Lambda =  94  and  R^2 =  0.788\n",
            "Lambda =  95  and  R^2 =  0.788\n",
            "Lambda =  96  and  R^2 =  0.788\n",
            "Lambda =  97  and  R^2 =  0.788\n",
            "Lambda =  98  and  R^2 =  0.787\n",
            "Lambda =  99  and  R^2 =  0.787\n"
          ],
          "name": "stdout"
        }
      ]
    },
    {
      "cell_type": "markdown",
      "metadata": {
        "id": "j1mUjsAvbOP2"
      },
      "source": [
        "train the ridge model with the best lambda value"
      ]
    },
    {
      "cell_type": "code",
      "metadata": {
        "id": "XFPoi_LVbOP2"
      },
      "source": [],
      "execution_count": null,
      "outputs": []
    },
    {
      "cell_type": "code",
      "metadata": {
        "colab": {
          "base_uri": "https://localhost:8080/"
        },
        "id": "nWlwN8NzbOP2",
        "outputId": "1f06da7f-d395-4119-9241-95571a227dc4"
      },
      "source": [
        "# Show the intercept.\n",
        "ridge.intercept_"
      ],
      "execution_count": null,
      "outputs": [
        {
          "output_type": "execute_result",
          "data": {
            "text/plain": [
              "33.332677039242"
            ]
          },
          "metadata": {
            "tags": []
          },
          "execution_count": 18
        }
      ]
    },
    {
      "cell_type": "code",
      "metadata": {
        "colab": {
          "base_uri": "https://localhost:8080/"
        },
        "id": "gIaREWoJbOP2",
        "outputId": "c3e48634-86f1-4f03-fff8-5037a8ed6bf3"
      },
      "source": [
        "# Show other parameters.\n",
        "ridge.coef_"
      ],
      "execution_count": null,
      "outputs": [
        {
          "output_type": "execute_result",
          "data": {
            "text/plain": [
              "array([-0.07486782, -0.03147511, -0.02170372,  0.05043239, -0.17001932,\n",
              "       -0.05287025,  0.02233716,  0.06294993,  0.03454282, -0.24829522])"
            ]
          },
          "metadata": {
            "tags": []
          },
          "execution_count": 19
        }
      ]
    },
    {
      "cell_type": "markdown",
      "metadata": {
        "id": "fSF5aUZbbOP3"
      },
      "source": [
        "NOTE: In Ridge, even when $\\lambda$ is large no parameter is exactly 0."
      ]
    },
    {
      "cell_type": "markdown",
      "metadata": {
        "id": "3r7csLXjbOP3"
      },
      "source": [
        "#### 1.3. Lasso regression:"
      ]
    },
    {
      "cell_type": "code",
      "metadata": {
        "id": "-JiLbB4pbOP3"
      },
      "source": [
        "lambdaRange = range(1,100)"
      ],
      "execution_count": null,
      "outputs": []
    },
    {
      "cell_type": "code",
      "metadata": {
        "colab": {
          "base_uri": "https://localhost:8080/"
        },
        "id": "pxh6fpvkbOP3",
        "outputId": "cc66f2ec-cedf-404e-ef3c-0afb46538663"
      },
      "source": [
        "bestRsq = 0.0                                                # To contain the best R^2.\n",
        "bestLambda = 0.0                                             # To contain the best lambda.\n",
        "for aLambda in lambdaRange:\n",
        "    lasso = Lasso(aLambda)\n",
        "    lasso.fit(x_train, y_train) \n",
        "    pred_train_l= lasso.predict(x_train)\n",
        "    bestRsq = r2_score(y_train, pred_train_r)\n",
        "    print(\"Lambda = \", aLambda, \" and  R^2 = \", np.round(bestRsq ,3))\n"
      ],
      "execution_count": null,
      "outputs": [
        {
          "output_type": "stream",
          "text": [
            "Lambda =  1  and  R^2 =  0.787\n",
            "Lambda =  2  and  R^2 =  0.787\n",
            "Lambda =  3  and  R^2 =  0.787\n",
            "Lambda =  4  and  R^2 =  0.787\n",
            "Lambda =  5  and  R^2 =  0.787\n",
            "Lambda =  6  and  R^2 =  0.787\n",
            "Lambda =  7  and  R^2 =  0.787\n",
            "Lambda =  8  and  R^2 =  0.787\n",
            "Lambda =  9  and  R^2 =  0.787\n",
            "Lambda =  10  and  R^2 =  0.787\n",
            "Lambda =  11  and  R^2 =  0.787\n",
            "Lambda =  12  and  R^2 =  0.787\n",
            "Lambda =  13  and  R^2 =  0.787\n",
            "Lambda =  14  and  R^2 =  0.787\n",
            "Lambda =  15  and  R^2 =  0.787\n",
            "Lambda =  16  and  R^2 =  0.787\n",
            "Lambda =  17  and  R^2 =  0.787\n",
            "Lambda =  18  and  R^2 =  0.787\n",
            "Lambda =  19  and  R^2 =  0.787\n",
            "Lambda =  20  and  R^2 =  0.787\n",
            "Lambda =  21  and  R^2 =  0.787\n",
            "Lambda =  22  and  R^2 =  0.787\n",
            "Lambda =  23  and  R^2 =  0.787\n",
            "Lambda =  24  and  R^2 =  0.787\n",
            "Lambda =  25  and  R^2 =  0.787\n",
            "Lambda =  26  and  R^2 =  0.787\n",
            "Lambda =  27  and  R^2 =  0.787\n",
            "Lambda =  28  and  R^2 =  0.787\n",
            "Lambda =  29  and  R^2 =  0.787\n",
            "Lambda =  30  and  R^2 =  0.787\n",
            "Lambda =  31  and  R^2 =  0.787\n",
            "Lambda =  32  and  R^2 =  0.787\n",
            "Lambda =  33  and  R^2 =  0.787\n",
            "Lambda =  34  and  R^2 =  0.787\n",
            "Lambda =  35  and  R^2 =  0.787\n",
            "Lambda =  36  and  R^2 =  0.787\n",
            "Lambda =  37  and  R^2 =  0.787\n",
            "Lambda =  38  and  R^2 =  0.787\n",
            "Lambda =  39  and  R^2 =  0.787\n",
            "Lambda =  40  and  R^2 =  0.787\n",
            "Lambda =  41  and  R^2 =  0.787\n",
            "Lambda =  42  and  R^2 =  0.787\n",
            "Lambda =  43  and  R^2 =  0.787\n",
            "Lambda =  44  and  R^2 =  0.787\n",
            "Lambda =  45  and  R^2 =  0.787\n",
            "Lambda =  46  and  R^2 =  0.787\n",
            "Lambda =  47  and  R^2 =  0.787\n",
            "Lambda =  48  and  R^2 =  0.787\n",
            "Lambda =  49  and  R^2 =  0.787\n",
            "Lambda =  50  and  R^2 =  0.787\n",
            "Lambda =  51  and  R^2 =  0.787\n",
            "Lambda =  52  and  R^2 =  0.787\n",
            "Lambda =  53  and  R^2 =  0.787\n",
            "Lambda =  54  and  R^2 =  0.787\n",
            "Lambda =  55  and  R^2 =  0.787\n",
            "Lambda =  56  and  R^2 =  0.787\n",
            "Lambda =  57  and  R^2 =  0.787\n",
            "Lambda =  58  and  R^2 =  0.787\n",
            "Lambda =  59  and  R^2 =  0.787\n",
            "Lambda =  60  and  R^2 =  0.787\n",
            "Lambda =  61  and  R^2 =  0.787\n",
            "Lambda =  62  and  R^2 =  0.787\n",
            "Lambda =  63  and  R^2 =  0.787\n",
            "Lambda =  64  and  R^2 =  0.787\n",
            "Lambda =  65  and  R^2 =  0.787\n",
            "Lambda =  66  and  R^2 =  0.787\n",
            "Lambda =  67  and  R^2 =  0.787\n",
            "Lambda =  68  and  R^2 =  0.787\n",
            "Lambda =  69  and  R^2 =  0.787\n",
            "Lambda =  70  and  R^2 =  0.787\n",
            "Lambda =  71  and  R^2 =  0.787\n",
            "Lambda =  72  and  R^2 =  0.787\n",
            "Lambda =  73  and  R^2 =  0.787\n",
            "Lambda =  74  and  R^2 =  0.787\n",
            "Lambda =  75  and  R^2 =  0.787\n",
            "Lambda =  76  and  R^2 =  0.787\n",
            "Lambda =  77  and  R^2 =  0.787\n",
            "Lambda =  78  and  R^2 =  0.787\n",
            "Lambda =  79  and  R^2 =  0.787\n",
            "Lambda =  80  and  R^2 =  0.787\n",
            "Lambda =  81  and  R^2 =  0.787\n",
            "Lambda =  82  and  R^2 =  0.787\n",
            "Lambda =  83  and  R^2 =  0.787\n",
            "Lambda =  84  and  R^2 =  0.787\n",
            "Lambda =  85  and  R^2 =  0.787\n",
            "Lambda =  86  and  R^2 =  0.787\n",
            "Lambda =  87  and  R^2 =  0.787\n",
            "Lambda =  88  and  R^2 =  0.787\n",
            "Lambda =  89  and  R^2 =  0.787\n",
            "Lambda =  90  and  R^2 =  0.787\n",
            "Lambda =  91  and  R^2 =  0.787\n",
            "Lambda =  92  and  R^2 =  0.787\n",
            "Lambda =  93  and  R^2 =  0.787\n",
            "Lambda =  94  and  R^2 =  0.787\n",
            "Lambda =  95  and  R^2 =  0.787\n",
            "Lambda =  96  and  R^2 =  0.787\n",
            "Lambda =  97  and  R^2 =  0.787\n",
            "Lambda =  98  and  R^2 =  0.787\n",
            "Lambda =  99  and  R^2 =  0.787\n"
          ],
          "name": "stdout"
        }
      ]
    },
    {
      "cell_type": "markdown",
      "metadata": {
        "id": "Wix6379tbOP3"
      },
      "source": [
        "train the ridge model with the best lambda value"
      ]
    },
    {
      "cell_type": "code",
      "metadata": {
        "ExecuteTime": {
          "end_time": "2021-08-10T00:12:41.618293Z",
          "start_time": "2021-08-10T00:12:41.600303Z"
        },
        "id": "6HiOdmRtbOP4"
      },
      "source": [],
      "execution_count": null,
      "outputs": []
    },
    {
      "cell_type": "code",
      "metadata": {
        "colab": {
          "base_uri": "https://localhost:8080/"
        },
        "id": "Lfe2kb09bOP4",
        "outputId": "93632566-2cce-4d34-e879-e69713342e3e"
      },
      "source": [
        "#train the ridge model with the best lambda value Show the intercept.\n",
        "lasso.intercept_"
      ],
      "execution_count": null,
      "outputs": [
        {
          "output_type": "execute_result",
          "data": {
            "text/plain": [
              "29.44925613142623"
            ]
          },
          "metadata": {
            "tags": []
          },
          "execution_count": 22
        }
      ]
    },
    {
      "cell_type": "code",
      "metadata": {
        "colab": {
          "base_uri": "https://localhost:8080/"
        },
        "id": "BZHmdrCvbOP4",
        "outputId": "019e884f-8c84-43ce-d3b5-6e04e0773ff6"
      },
      "source": [
        "# Show other parameters.\n",
        "lasso.coef_"
      ],
      "execution_count": null,
      "outputs": [
        {
          "output_type": "execute_result",
          "data": {
            "text/plain": [
              "array([-0.        , -0.03646978, -0.00246897,  0.        , -0.        ,\n",
              "        0.        ,  0.        ,  0.        ,  0.        , -0.        ])"
            ]
          },
          "metadata": {
            "tags": []
          },
          "execution_count": 23
        }
      ]
    },
    {
      "cell_type": "markdown",
      "metadata": {
        "id": "VkhzREASbOP4"
      },
      "source": [
        "NOTE: Lasso can make some parameters exactly 0 when $\\lambda$ is large enough."
      ]
    },
    {
      "cell_type": "code",
      "metadata": {
        "id": "B_Asd8y3bOP4"
      },
      "source": [],
      "execution_count": null,
      "outputs": []
    }
  ]
}