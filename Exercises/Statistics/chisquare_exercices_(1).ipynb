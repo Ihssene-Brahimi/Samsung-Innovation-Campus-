{
  "cells": [
    {
      "cell_type": "markdown",
      "metadata": {
        "id": "NXcWLCUYgC--"
      },
      "source": [
        "## Chi-Square Test\n",
        "\n",
        "The test is applied when you have two categorical variables from a single population. It is used to determine whether there is a significant association between the two variables."
      ]
    },
    {
      "cell_type": "code",
      "execution_count": null,
      "metadata": {
        "ExecuteTime": {
          "end_time": "2021-07-26T21:52:29.116948Z",
          "start_time": "2021-07-26T21:52:11.530475Z"
        },
        "id": "tQ3fWWmehUKv"
      },
      "outputs": [],
      "source": [
        "import scipy.stats as stats\n",
        "import seaborn as sns\n",
        "import pandas as pd\n",
        "import numpy as np\n",
        "dataset=sns.load_dataset('tips')"
      ]
    },
    {
      "cell_type": "code",
      "execution_count": null,
      "metadata": {
        "id": "jtz1Xf6tiE61"
      },
      "outputs": [],
      "source": [
        "dataset.tail(5)"
      ]
    },
    {
      "cell_type": "markdown",
      "metadata": {
        "id": "fYn4rfiYJ78I"
      },
      "source": [
        "create a two way table between sex column and smoker , the resulted table (store in a variable named **dataset_table** )  should look like the following:\n",
        "\n",
        "|Smoker<br>Sex | Yes | No|\n",
        "|-------|-----|---|        \n",
        "|Male   |60   |97 |\n",
        "|Female |33   |54 |\n",
        "\n",
        "\n",
        "(hint : use the function `pd.crosstab` ) "
      ]
    },
    {
      "cell_type": "code",
      "execution_count": null,
      "metadata": {
        "ExecuteTime": {
          "end_time": "2021-07-26T22:03:09.787468Z",
          "start_time": "2021-07-26T22:03:09.747469Z"
        },
        "id": "RsBXH8ghh9L0"
      },
      "outputs": [],
      "source": [
        "#crosstab : Compute a simple cross tabulation of two (or more) factors. By default\n",
        "#computes a frequency table of the factors unless an array of values and an\n",
        "#aggregation function are passed.\n"
      ]
    },
    {
      "cell_type": "markdown",
      "metadata": {
        "id": "Xa7tzAndi3ld"
      },
      "source": [
        "Question 1\n",
        "\n",
        " Write a python code to get similar result as pd.crosstab:\n",
        "\n"
      ]
    },
    {
      "cell_type": "code",
      "execution_count": null,
      "metadata": {
        "ExecuteTime": {
          "end_time": "2021-07-26T22:12:53.647761Z",
          "start_time": "2021-07-26T22:12:53.573900Z"
        },
        "id": "OZabaeubiXrJ"
      },
      "outputs": [],
      "source": []
    },
    {
      "cell_type": "code",
      "execution_count": null,
      "metadata": {
        "id": "eofzeorbjFwL"
      },
      "outputs": [],
      "source": [
        "#we will try to find if there is any association between smoker and sex!!\n",
        "# dataset_table.values print the observed values \n",
        "Observed_Values = dataset_table.values \n",
        "print(\"Observed Values :-\\n\",Observed_Values)\n",
        "dataset_table.values\n"
      ]
    },
    {
      "cell_type": "markdown",
      "metadata": {
        "id": "NZUgQcbNjBYv"
      },
      "source": [
        "Question 2 \n",
        "\n",
        "Use stats.chi2_contingency function to compute the chi-square statistic for the hypothesis test. Then compare it with the observed values!! Can you draw a conclusion?? "
      ]
    },
    {
      "cell_type": "code",
      "execution_count": null,
      "metadata": {
        "id": "8FiHo6LpidcZ"
      },
      "outputs": [],
      "source": []
    },
    {
      "cell_type": "code",
      "execution_count": null,
      "metadata": {
        "id": "dW6PYmzvmbV7"
      },
      "outputs": [],
      "source": []
    },
    {
      "cell_type": "markdown",
      "metadata": {
        "id": "E3R-Ym7JlxQN"
      },
      "source": [
        "Now, let's define out ddof and alpha."
      ]
    },
    {
      "cell_type": "code",
      "execution_count": null,
      "metadata": {
        "id": "ayOqzjx8mzCZ"
      },
      "outputs": [],
      "source": [
        "no_of_rows=len(dataset_table.iloc[0:2,0])\n",
        "no_of_columns=len(dataset_table.iloc[0,0:2])\n",
        "ddof=(no_of_rows-1)*(no_of_columns-1)\n",
        "print(\"Degree of Freedom:\",ddof)\n",
        "alpha = 0.05"
      ]
    },
    {
      "cell_type": "markdown",
      "metadata": {
        "id": "2JjK2DXQnmUy"
      },
      "source": [
        "\n",
        "Question 3\n",
        "\n",
        "Use the following formula to calculate chi square statistic\n",
        "\n",
        "$$\n",
        "\\chi^{2}=\\sum \\frac{(o-e)^{2}}{e}\n",
        "$$"
      ]
    },
    {
      "cell_type": "code",
      "execution_count": null,
      "metadata": {
        "id": "Xp1W9qojnIjO"
      },
      "outputs": [],
      "source": []
    },
    {
      "cell_type": "code",
      "execution_count": null,
      "metadata": {
        "id": "Yhf667KLnYED"
      },
      "outputs": [],
      "source": []
    },
    {
      "cell_type": "markdown",
      "metadata": {
        "id": "0N84umjzoi3J"
      },
      "source": [
        "Question 4\n",
        "\n",
        "write the correct instruction to calculate the exact critical value  using `ppf` (percent point function)"
      ]
    },
    {
      "cell_type": "code",
      "execution_count": null,
      "metadata": {
        "id": "zxYZ6PKEpjGt"
      },
      "outputs": [],
      "source": [
        "#in the ppf function p value is assigned as alpha and q value as 1-alpha\n"
      ]
    },
    {
      "cell_type": "markdown",
      "metadata": {
        "id": "rvVn_-iaq5iK"
      },
      "source": [
        "From the critical_value and chi-square statistic we can define if there is a relationship between two categorical feature.\n"
      ]
    },
    {
      "cell_type": "code",
      "execution_count": null,
      "metadata": {
        "id": "35n25KR4q6Ci"
      },
      "outputs": [],
      "source": [
        "\n",
        "#p-value\n",
        "p_value=1-chi2.cdf(x=chi_square_statistic,df=ddof)\n",
        "print('p-value:',p_value)\n",
        "print('Significance level: ',alpha)\n",
        "print('Degree of Freedom: ',ddof)\n",
        "print('p-value:',p_value)"
      ]
    },
    {
      "cell_type": "code",
      "execution_count": null,
      "metadata": {
        "id": "JbImSt0brpSs"
      },
      "outputs": [],
      "source": [
        "if chi_square_statistic>=critical_value:\n",
        "    print(\"Reject H0,There is a relationship between 2 categorical variables\")\n",
        "else:\n",
        "    print(\"Retain H0,There is no relationship between 2 categorical variables\")\n",
        "    \n",
        "if p_value<=alpha:\n",
        "    print(\"Reject H0,There is a relationship between 2 categorical variables\")\n",
        "else:\n",
        "    print(\"Retain H0,There is no relationship between 2 categorical variables\")"
      ]
    },
    {
      "cell_type": "markdown",
      "metadata": {
        "id": "exW_7XkNryW7"
      },
      "source": []
    }
  ],
  "metadata": {
    "colab": {
      "collapsed_sections": [],
      "private_outputs": true,
      "provenance": []
    },
    "kernelspec": {
      "display_name": "Python 3",
      "language": "python",
      "name": "python3"
    },
    "language_info": {
      "codemirror_mode": {
        "name": "ipython",
        "version": 3
      },
      "file_extension": ".py",
      "mimetype": "text/x-python",
      "name": "python",
      "nbconvert_exporter": "python",
      "pygments_lexer": "ipython3",
      "version": "3.8.5"
    },
    "toc": {
      "base_numbering": 1,
      "nav_menu": {},
      "number_sections": true,
      "sideBar": true,
      "skip_h1_title": false,
      "title_cell": "Table of Contents",
      "title_sidebar": "Contents",
      "toc_cell": false,
      "toc_position": {},
      "toc_section_display": true,
      "toc_window_display": false
    },
    "varInspector": {
      "cols": {
        "lenName": 16,
        "lenType": 16,
        "lenVar": 40
      },
      "kernels_config": {
        "python": {
          "delete_cmd_postfix": "",
          "delete_cmd_prefix": "del ",
          "library": "var_list.py",
          "varRefreshCmd": "print(var_dic_list())"
        },
        "r": {
          "delete_cmd_postfix": ") ",
          "delete_cmd_prefix": "rm(",
          "library": "var_list.r",
          "varRefreshCmd": "cat(var_dic_list()) "
        }
      },
      "types_to_exclude": [
        "module",
        "function",
        "builtin_function_or_method",
        "instance",
        "_Feature"
      ],
      "window_display": false
    }
  },
  "nbformat": 4,
  "nbformat_minor": 0
}