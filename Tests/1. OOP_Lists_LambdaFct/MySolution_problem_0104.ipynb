{
  "nbformat": 4,
  "nbformat_minor": 0,
  "metadata": {
    "kernelspec": {
      "display_name": "Python 3",
      "language": "python",
      "name": "python3"
    },
    "language_info": {
      "codemirror_mode": {
        "name": "ipython",
        "version": 3
      },
      "file_extension": ".py",
      "mimetype": "text/x-python",
      "name": "python",
      "nbconvert_exporter": "python",
      "pygments_lexer": "ipython3",
      "version": "3.7.0"
    },
    "toc": {
      "base_numbering": 1,
      "nav_menu": {},
      "number_sections": true,
      "sideBar": true,
      "skip_h1_title": false,
      "title_cell": "Table of Contents",
      "title_sidebar": "Contents",
      "toc_cell": false,
      "toc_position": {},
      "toc_section_display": true,
      "toc_window_display": false
    },
    "varInspector": {
      "cols": {
        "lenName": 16,
        "lenType": 16,
        "lenVar": 40
      },
      "kernels_config": {
        "python": {
          "delete_cmd_postfix": "",
          "delete_cmd_prefix": "del ",
          "library": "var_list.py",
          "varRefreshCmd": "print(var_dic_list())"
        },
        "r": {
          "delete_cmd_postfix": ") ",
          "delete_cmd_prefix": "rm(",
          "library": "var_list.r",
          "varRefreshCmd": "cat(var_dic_list()) "
        }
      },
      "types_to_exclude": [
        "module",
        "function",
        "builtin_function_or_method",
        "instance",
        "_Feature"
      ],
      "window_display": false
    },
    "colab": {
      "provenance": [],
      "collapsed_sections": []
    }
  },
  "cells": [
    {
      "cell_type": "markdown",
      "metadata": {
        "id": "40xJKs699xLa"
      },
      "source": [
        "## Quiz #0104 "
      ]
    },
    {
      "cell_type": "markdown",
      "metadata": {
        "id": "MlIW0QJl9xLb"
      },
      "source": [
        "#### Code the class 'Aquarium' that outputs the result as shown. "
      ]
    },
    {
      "cell_type": "code",
      "metadata": {
        "id": "IiK80uSm9xLc"
      },
      "source": [
        "class Aquarium:\n",
        "      def __init__(self, aqualist=[]):\n",
        "         print(\"An Aquarium has opened!\")\n",
        "         self.aqualist = aqualist\n",
        "\n",
        "      def enters(self,string):\n",
        "        if string in self.aqualist:\n",
        "           print(\"We already have \",string,\".\")\n",
        "        else : \n",
        "           print(string,\" is a new member of our Aquarium!\")\n",
        "           self.aqualist.append(string)\n",
        "\n",
        "      def show_all(self):\n",
        "        print(self.aqualist)\n",
        "\n",
        "      def leaves(self,string):\n",
        "        if string in self.aqualist:\n",
        "           self.aqualist.remove(string)\n",
        "        else : \n",
        "           print(string,\" is not a member in Aquarium!\")\n",
        "\n",
        "    \n",
        "    "
      ],
      "execution_count": null,
      "outputs": []
    },
    {
      "cell_type": "markdown",
      "metadata": {
        "id": "FsByB3dB9xLc"
      },
      "source": [
        "Test results:"
      ]
    },
    {
      "cell_type": "code",
      "metadata": {
        "id": "QT6LKIH49xLd",
        "colab": {
          "base_uri": "https://localhost:8080/"
        },
        "outputId": "0b61eb7d-4708-4161-8f59-91036576a4b4"
      },
      "source": [
        "my_aquarium = Aquarium()"
      ],
      "execution_count": null,
      "outputs": [
        {
          "output_type": "stream",
          "text": [
            "An Aquarium has opened!\n"
          ],
          "name": "stdout"
        }
      ]
    },
    {
      "cell_type": "code",
      "metadata": {
        "id": "acXIY2nd9xLe",
        "colab": {
          "base_uri": "https://localhost:8080/"
        },
        "outputId": "d6a3a858-9d95-47fd-a465-bf12f690c03c"
      },
      "source": [
        "my_aquarium.enters('Turtle')"
      ],
      "execution_count": null,
      "outputs": [
        {
          "output_type": "stream",
          "text": [
            "Turtle  is a new member of our Aquarium!\n"
          ],
          "name": "stdout"
        }
      ]
    },
    {
      "cell_type": "code",
      "metadata": {
        "id": "a87PbPMq9xLe",
        "colab": {
          "base_uri": "https://localhost:8080/"
        },
        "outputId": "ea9002e5-b61f-45e3-a508-186edad6edf0"
      },
      "source": [
        "my_aquarium.enters('Turtle')"
      ],
      "execution_count": null,
      "outputs": [
        {
          "output_type": "stream",
          "text": [
            "We already have  Turtle .\n"
          ],
          "name": "stdout"
        }
      ]
    },
    {
      "cell_type": "code",
      "metadata": {
        "id": "FrvSlm2a9xLe",
        "colab": {
          "base_uri": "https://localhost:8080/"
        },
        "outputId": "e7895c41-ad8e-48b0-d0d9-42a98c595dea"
      },
      "source": [
        "my_aquarium.enters('Dolphin')"
      ],
      "execution_count": null,
      "outputs": [
        {
          "output_type": "stream",
          "text": [
            "Dolphin  is a new member of our Aquarium!\n"
          ],
          "name": "stdout"
        }
      ]
    },
    {
      "cell_type": "code",
      "metadata": {
        "id": "RR8dPbFl9xLf",
        "colab": {
          "base_uri": "https://localhost:8080/"
        },
        "outputId": "41052c16-34fb-4876-e55f-6b1b42ab93be"
      },
      "source": [
        "my_aquarium.enters('Sea Lion')"
      ],
      "execution_count": null,
      "outputs": [
        {
          "output_type": "stream",
          "text": [
            "Sea Lion  is a new member of our Aquarium!\n"
          ],
          "name": "stdout"
        }
      ]
    },
    {
      "cell_type": "code",
      "metadata": {
        "id": "NcYAK7_K9xLf",
        "colab": {
          "base_uri": "https://localhost:8080/"
        },
        "outputId": "1605c664-c9eb-48d0-a43b-1259d53198b9"
      },
      "source": [
        "my_aquarium.enters('Shark')"
      ],
      "execution_count": null,
      "outputs": [
        {
          "output_type": "stream",
          "text": [
            "Shark  is a new member of our Aquarium!\n"
          ],
          "name": "stdout"
        }
      ]
    },
    {
      "cell_type": "code",
      "metadata": {
        "id": "07LgKGGv9xLf",
        "colab": {
          "base_uri": "https://localhost:8080/"
        },
        "outputId": "e3d71db5-9f27-4aa7-9582-42fc34669135"
      },
      "source": [
        "my_aquarium.show_all()"
      ],
      "execution_count": null,
      "outputs": [
        {
          "output_type": "stream",
          "text": [
            "['Turtle', 'Dolphin', 'Sea Lion', 'Shark']\n"
          ],
          "name": "stdout"
        }
      ]
    },
    {
      "cell_type": "code",
      "metadata": {
        "id": "Of2qTeUw9xLg"
      },
      "source": [
        "my_aquarium.leaves(\"Sea Lion\")"
      ],
      "execution_count": null,
      "outputs": []
    },
    {
      "cell_type": "code",
      "metadata": {
        "id": "yUl03aJw9xLg",
        "colab": {
          "base_uri": "https://localhost:8080/"
        },
        "outputId": "fe9223ef-79a1-4f15-e095-f977157a768f"
      },
      "source": [
        "my_aquarium.leaves(\"Killer Whale\")"
      ],
      "execution_count": null,
      "outputs": [
        {
          "output_type": "stream",
          "text": [
            "Killer Whale  is not a member in Aquarium!\n"
          ],
          "name": "stdout"
        }
      ]
    },
    {
      "cell_type": "code",
      "metadata": {
        "id": "CyCCsk869xLg",
        "colab": {
          "base_uri": "https://localhost:8080/"
        },
        "outputId": "6a72868f-e9bb-4602-a42b-d27d5cace455"
      },
      "source": [
        "my_aquarium.show_all()"
      ],
      "execution_count": null,
      "outputs": [
        {
          "output_type": "stream",
          "text": [
            "['Turtle', 'Dolphin', 'Shark']\n"
          ],
          "name": "stdout"
        }
      ]
    },
    {
      "cell_type": "code",
      "metadata": {
        "id": "mVhtrfwk9xLh"
      },
      "source": [
        "my_aquarium.leaves(\"Turtle\")"
      ],
      "execution_count": null,
      "outputs": []
    },
    {
      "cell_type": "code",
      "metadata": {
        "id": "myLzALxM9xLh",
        "colab": {
          "base_uri": "https://localhost:8080/"
        },
        "outputId": "f9621214-4961-4527-8330-5a9c15e17780"
      },
      "source": [
        "my_aquarium.show_all()"
      ],
      "execution_count": null,
      "outputs": [
        {
          "output_type": "stream",
          "text": [
            "['Dolphin', 'Shark']\n"
          ],
          "name": "stdout"
        }
      ]
    },
    {
      "cell_type": "code",
      "metadata": {
        "id": "mJHIGOgKATRb"
      },
      "source": [],
      "execution_count": null,
      "outputs": []
    }
  ]
}