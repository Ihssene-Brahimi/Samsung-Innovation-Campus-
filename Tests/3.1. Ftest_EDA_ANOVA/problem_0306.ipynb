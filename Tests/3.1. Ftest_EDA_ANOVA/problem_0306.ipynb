{
  "cells": [
    {
      "cell_type": "markdown",
      "metadata": {
        "id": "YCoHjS6JJ-NF"
      },
      "source": [
        "## Quiz #0306"
      ]
    },
    {
      "cell_type": "markdown",
      "metadata": {
        "id": "cIIqe6a5J-NG"
      },
      "source": [
        "### \"F test of variance ratio\""
      ]
    },
    {
      "cell_type": "code",
      "execution_count": null,
      "metadata": {
        "id": "xnzq6IW5J-NH"
      },
      "outputs": [],
      "source": [
        "import numpy as np\n",
        "import scipy.stats as st"
      ]
    },
    {
      "cell_type": "markdown",
      "metadata": {
        "id": "nahSO1nPJ-NH"
      },
      "source": [
        "#### Answer the following questions by providing Python code:"
      ]
    },
    {
      "cell_type": "markdown",
      "metadata": {
        "id": "q1KtN10uJ-NI"
      },
      "source": [
        "In a factory there are two packaging machines. Output samples are drawn from each machine. <br>\n",
        "- $n_1=15$, $\\bar{x}_1=5.0592 kg$, $s_1^2=0.1130 kg^2$\n",
        "- $n_2=12$, $\\bar{x}_2=4.9808 kg$, $s_2^2=0.0152 kg^2$  \n",
        "\n",
        "Test whether there is a significant difference in the variances (95%)."
      ]
    },
    {
      "cell_type": "code",
      "execution_count": null,
      "metadata": {
        "id": "diKwNoBrJ-NI"
      },
      "outputs": [],
      "source": [
        "n1 = 15\n",
        "ssq1 = 0.1130\n",
        "n2 = 12\n",
        "ssq2 = 0.0152"
      ]
    },
    {
      "cell_type": "markdown",
      "metadata": {
        "id": "vU9CylChJ-NJ"
      },
      "source": [
        "1). Do the right tail test:"
      ]
    },
    {
      "cell_type": "code",
      "execution_count": null,
      "metadata": {
        "id": "3gr-6K7PJ-NJ"
      },
      "outputs": [],
      "source": [
        "test_stat = ssq1/ssq2"
      ]
    },
    {
      "cell_type": "code",
      "execution_count": null,
      "metadata": {
        "id": "l0Qsva4LJ-NJ",
        "outputId": "3e976f82-ceb4-46df-b53f-eec26fe5d552"
      },
      "outputs": [
        {
          "data": {
            "text/plain": [
              "0.0009847696603404454"
            ]
          },
          "execution_count": 5,
          "metadata": {},
          "output_type": "execute_result"
        }
      ],
      "source": [
        "1-st.f.cdf(test_stat,n1-1,n2-1)"
      ]
    },
    {
      "cell_type": "markdown",
      "metadata": {
        "id": "xi-x0EafJ-NK"
      },
      "source": [
        "2). Do the two tail test:"
      ]
    },
    {
      "cell_type": "code",
      "execution_count": null,
      "metadata": {
        "id": "fz_c3FRZJ-NK",
        "outputId": "1b34036a-a8b2-43ec-8374-1967649c8da0"
      },
      "outputs": [
        {
          "data": {
            "text/plain": [
              "0.001969539320680891"
            ]
          },
          "execution_count": 6,
          "metadata": {},
          "output_type": "execute_result"
        }
      ],
      "source": [
        "2*(1-st.f.cdf(test_stat,n1-1,n2-1))"
      ]
    },
    {
      "cell_type": "markdown",
      "metadata": {
        "id": "w2BQGQWeJ-NL"
      },
      "source": [
        "3). Briefly discuss the results:"
      ]
    },
    {
      "cell_type": "code",
      "execution_count": null,
      "metadata": {
        "id": "YZyYzAeSJ-NL"
      },
      "outputs": [],
      "source": [
        "#There is a significant difference in the variances (95%): As we can see, the two tail test is greater than the left tail test, therefore we can reject the null hypothesis\n",
        "#which assumes that s1² = s2²"
      ]
    }
  ],
  "metadata": {
    "kernelspec": {
      "display_name": "Python 3",
      "language": "python",
      "name": "python3"
    },
    "language_info": {
      "codemirror_mode": {
        "name": "ipython",
        "version": 3
      },
      "file_extension": ".py",
      "mimetype": "text/x-python",
      "name": "python",
      "nbconvert_exporter": "python",
      "pygments_lexer": "ipython3",
      "version": "3.8.5"
    },
    "toc": {
      "base_numbering": 1,
      "nav_menu": {},
      "number_sections": true,
      "sideBar": true,
      "skip_h1_title": false,
      "title_cell": "Table of Contents",
      "title_sidebar": "Contents",
      "toc_cell": false,
      "toc_position": {},
      "toc_section_display": true,
      "toc_window_display": false
    },
    "varInspector": {
      "cols": {
        "lenName": 16,
        "lenType": 16,
        "lenVar": 40
      },
      "kernels_config": {
        "python": {
          "delete_cmd_postfix": "",
          "delete_cmd_prefix": "del ",
          "library": "var_list.py",
          "varRefreshCmd": "print(var_dic_list())"
        },
        "r": {
          "delete_cmd_postfix": ") ",
          "delete_cmd_prefix": "rm(",
          "library": "var_list.r",
          "varRefreshCmd": "cat(var_dic_list()) "
        }
      },
      "types_to_exclude": [
        "module",
        "function",
        "builtin_function_or_method",
        "instance",
        "_Feature"
      ],
      "window_display": false
    },
    "colab": {
      "provenance": []
    }
  },
  "nbformat": 4,
  "nbformat_minor": 0
}