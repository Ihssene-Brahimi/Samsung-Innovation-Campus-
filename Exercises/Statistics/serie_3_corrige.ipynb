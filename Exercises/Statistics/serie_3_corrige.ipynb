{
 "cells": [
  {
   "cell_type": "markdown",
   "metadata": {
    "id": "miTlMMgfX-yC"
   },
   "source": [
    "# Quantile"
   ]
  },
  {
   "cell_type": "code",
   "execution_count": 2,
   "metadata": {
    "ExecuteTime": {
     "end_time": "2021-07-26T09:07:43.480603Z",
     "start_time": "2021-07-26T09:07:36.410805Z"
    },
    "id": "FLE3HNQ1YAIR"
   },
   "outputs": [],
   "source": [
    "import scipy.stats as st\n",
    "import numpy as np"
   ]
  },
  {
   "cell_type": "markdown",
   "metadata": {
    "id": "Fyrccfg3YGBU"
   },
   "source": [
    "## Standard Normal"
   ]
  },
  {
   "cell_type": "code",
   "execution_count": null,
   "metadata": {
    "id": "cXcNndxHYGZn"
   },
   "outputs": [],
   "source": [
    "# Standard Normal corresponds to mu = 0 and sigma = 1.\n",
    "mu = 0\n",
    "sigma = 1"
   ]
  },
  {
   "cell_type": "markdown",
   "metadata": {
    "id": "7DS52iV7aqQx"
   },
   "source": [
    "Question 1 : Use st.norm.ppf to calculate the Quantile at $alpha = 0.95$\n",
    "\n",
    "\n",
    "The `st.norm.ppf()` method takes a percentage(which is the probability or the area under the curve ) and returns the corresponding z-score."
   ]
  },
  {
   "cell_type": "code",
   "execution_count": 3,
   "metadata": {
    "ExecuteTime": {
     "end_time": "2021-07-26T09:07:46.253405Z",
     "start_time": "2021-07-26T09:07:46.137472Z"
    },
    "id": "U1PoHQQubVI9"
   },
   "outputs": [
    {
     "data": {
      "text/plain": [
       "1.6448536269514722"
      ]
     },
     "execution_count": 3,
     "metadata": {},
     "output_type": "execute_result"
    }
   ],
   "source": [
    "# This is useful when calculating 90% confidence interval.\n",
    "st.norm.ppf(0.95)"
   ]
  },
  {
   "cell_type": "markdown",
   "metadata": {
    "id": "YP4zh3DrbWdC"
   },
   "source": [
    "Question 2 : Now, use ``st.norm.ppf`` to calculate the Quantile at $alpha = 0.975$"
   ]
  },
  {
   "cell_type": "code",
   "execution_count": null,
   "metadata": {
    "id": "liErQu7xbuJy"
   },
   "outputs": [],
   "source": []
  },
  {
   "cell_type": "markdown",
   "metadata": {
    "id": "yhZbm7WIbvei"
   },
   "source": [
    "## T-Student "
   ]
  },
  {
   "cell_type": "markdown",
   "metadata": {
    "id": "0R67cf-ZcuAw"
   },
   "source": [
    "the following code runs the function `st.t.ppf` of $alpha = 0.7$ with various degrees of freedom :\n"
   ]
  },
  {
   "cell_type": "code",
   "execution_count": 5,
   "metadata": {
    "ExecuteTime": {
     "end_time": "2021-07-26T09:10:41.247939Z",
     "start_time": "2021-07-26T09:10:40.915264Z"
    },
    "id": "h7XzT8iGcs2V"
   },
   "outputs": [
    {
     "name": "stdout",
     "output_type": "stream",
     "text": [
      "with alpha = 0.7\n",
      "Degree of Freedom =      10,  Quantile =   0.541528\n",
      "Degree of Freedom =      50,  Quantile =   0.527760\n",
      "Degree of Freedom =     100,  Quantile =   0.526076\n",
      "Degree of Freedom =    2000,  Quantile =   0.524484\n",
      "Degree of Freedom =  100000,  Quantile =   0.524402\n",
      "with alpha = 0.95\n",
      "Degree of Freedom =      10,  Quantile =   1.812461\n",
      "Degree of Freedom =      50,  Quantile =   1.675905\n",
      "Degree of Freedom =     100,  Quantile =   1.660234\n",
      "Degree of Freedom =    2000,  Quantile =   1.645616\n",
      "Degree of Freedom =  100000,  Quantile =   1.644869\n",
      "with alpha = 0.975\n",
      "Degree of Freedom =      10,  Quantile =   2.228139\n",
      "Degree of Freedom =      50,  Quantile =   2.008559\n",
      "Degree of Freedom =     100,  Quantile =   1.983972\n",
      "Degree of Freedom =    2000,  Quantile =   1.961151\n",
      "Degree of Freedom =  100000,  Quantile =   1.959988\n"
     ]
    }
   ],
   "source": [
    "alphas=[0.7,0.95,0.975]\n",
    "\n",
    "for alpha in alphas:\n",
    "    print(\"with alpha =\",alpha)\n",
    "    liste = [10,50,100,2000,100000]\n",
    "    for df in liste:\n",
    "        val = st.t.ppf(alpha,df)\n",
    "        print( 'Degree of Freedom = %7d,  Quantile = %10f' %(df,val))"
   ]
  },
  {
   "cell_type": "markdown",
   "metadata": {
    "id": "Vx4ru59VdQiI"
   },
   "source": [
    "Question 1 : modify the previous code to get the quantiles of $alpha=0.95$ and $alpha=0.975$"
   ]
  },
  {
   "cell_type": "code",
   "execution_count": null,
   "metadata": {},
   "outputs": [],
   "source": []
  },
  {
   "cell_type": "markdown",
   "metadata": {
    "id": "yjH9gG73dfpS"
   },
   "source": [
    "Question 2 : what do you conclude about the relationship between quantiles and number of freedom ? \n",
    " \n",
    " \n"
   ]
  },
  {
   "cell_type": "markdown",
   "metadata": {
    "id": "gEIoLbcOdnCC"
   },
   "source": [
    "##  Chi-square:"
   ]
  },
  {
   "cell_type": "markdown",
   "metadata": {
    "id": "XCTS2XuXd47J"
   },
   "source": [
    "Question 1- : Calculate P(X <= 8) with degree of freedom = 5."
   ]
  },
  {
   "cell_type": "code",
   "execution_count": 6,
   "metadata": {
    "ExecuteTime": {
     "end_time": "2021-07-26T09:13:31.725118Z",
     "start_time": "2021-07-26T09:13:31.643163Z"
    },
    "id": "qek7bGK8dndu"
   },
   "outputs": [
    {
     "data": {
      "text/plain": [
       "0.8437643724222779"
      ]
     },
     "execution_count": 6,
     "metadata": {},
     "output_type": "execute_result"
    }
   ],
   "source": [
    "st.chi2.cdf(8,df=5)"
   ]
  },
  {
   "cell_type": "markdown",
   "metadata": {
    "id": "5g4NhbTueHkv"
   },
   "source": [
    "Qiestion 2- : use st.chi2.ppf using Quantile at alpha = 0.843764373 with degree of freedom = 5\n"
   ]
  },
  {
   "cell_type": "code",
   "execution_count": 7,
   "metadata": {
    "ExecuteTime": {
     "end_time": "2021-07-26T09:14:26.424111Z",
     "start_time": "2021-07-26T09:14:26.409119Z"
    },
    "id": "vKer05AUem-k"
   },
   "outputs": [
    {
     "data": {
      "text/plain": [
       "8.000000010482703"
      ]
     },
     "execution_count": 7,
     "metadata": {},
     "output_type": "execute_result"
    }
   ],
   "source": [
    "st.chi2.ppf(0.843764373,df=5)"
   ]
  },
  {
   "cell_type": "markdown",
   "metadata": {
    "id": "cGUnhV1Oesop"
   },
   "source": [
    "\n",
    "\n",
    "# Interval Estimation of the Mean:"
   ]
  },
  {
   "cell_type": "code",
   "execution_count": 9,
   "metadata": {
    "ExecuteTime": {
     "end_time": "2021-07-26T09:16:43.945918Z",
     "start_time": "2021-07-26T09:16:43.929928Z"
    },
    "id": "NMRUmjQgetNZ"
   },
   "outputs": [],
   "source": [
    "# x contains a sample.\n",
    "# n = sample size.\n",
    "x = np.array([25,24,24,27,29,31,28,24,25,26,25,18,30,28,23,26,27,23,16,20,22,22,25,24, 24,25,25,27,26,30,25,25,26,26,25,24])\n",
    "n = len(x)"
   ]
  },
  {
   "cell_type": "markdown",
   "metadata": {
    "id": "t8p8-u1ze6Vu"
   },
   "source": [
    "Question 1 : Calculate the Standard Error of the Mean (SEM).( note that to get an unbiased estimation of the standard deviation, you should set `ddof= 1` ). \n",
    "Hint:  \\begin{equation}\n",
    "\\mathrm{SE}=\\frac{\\sigma}{\\sqrt{n}}\n",
    "\\end{equation}\n"
   ]
  },
  {
   "cell_type": "code",
   "execution_count": 14,
   "metadata": {
    "ExecuteTime": {
     "end_time": "2021-07-26T09:23:25.783384Z",
     "start_time": "2021-07-26T09:23:25.776404Z"
    },
    "id": "abrfnmKWe6xy"
   },
   "outputs": [],
   "source": [
    "# SEM = Standard Error of the Mean.\n",
    "sem=st.sem(x,ddof=1)\n",
    "#second method\n",
    "#sem = x.std(ddof=1)/((n)**0.5)"
   ]
  },
  {
   "cell_type": "markdown",
   "metadata": {
    "id": "6IxA3mW6NC4V"
   },
   "source": [
    "<img width=\"500\" height=\"500\" src=\"https://analystnotes.com/graph/quan/SS02SDlosn1.gif\"/>\n",
    "\n",
    "<img width=\"500\" height=\"500\" src=\"https://i.ytimg.com/vi/sJyZ9vRhP7o/maxresdefault.jpg\"/>\n",
    "\n",
    "\n",
    "\n",
    "## 90% Confidence Interval:\n",
    "\n",
    "Documentation : https://www0.gsb.columbia.edu/faculty/pglasserman/B6014/ConfidenceIntervals.pdf\n"
   ]
  },
  {
   "cell_type": "markdown",
   "metadata": {
    "id": "PqJx2UYZNNoL"
   },
   "source": [
    "Question 1 : Using the approximated quantiles of the Standard Normal distribution, use the following equation:\n",
    "\n",
    "\\begin{equation}\n",
    "\\left ( \\bar{X}-1.645 *\\frac{\\sigma}{\\sqrt{n}}, \\bar{X}+1.645 *\\frac{\\sigma}{\\sqrt{n}} \\right )\n",
    "\\end{equation}"
   ]
  },
  {
   "cell_type": "code",
   "execution_count": 15,
   "metadata": {
    "ExecuteTime": {
     "end_time": "2021-07-26T09:24:26.212562Z",
     "start_time": "2021-07-26T09:24:26.190575Z"
    },
    "id": "_lb60qe7NOLD"
   },
   "outputs": [
    {
     "data": {
      "text/plain": [
       "(24.165832750582954, 25.834167249417046)"
      ]
     },
     "execution_count": 15,
     "metadata": {},
     "output_type": "execute_result"
    }
   ],
   "source": [
    "(x.mean() - 1.645 * sem , x.mean() + 1.645 * sem )"
   ]
  },
  {
   "cell_type": "markdown",
   "metadata": {
    "id": "v497uto5ga4Y"
   },
   "source": [
    "Question 2 : Using the exact quantiles of the Standard Normal (hint : replace $1.645 \\frac{\\sigma}{\\sqrt{n}}$ and consider including `st.norm.ppf` )"
   ]
  },
  {
   "cell_type": "code",
   "execution_count": 19,
   "metadata": {
    "ExecuteTime": {
     "end_time": "2021-07-26T09:28:31.500300Z",
     "start_time": "2021-07-26T09:28:31.186480Z"
    },
    "id": "AomtMgw0mfTU"
   },
   "outputs": [
    {
     "data": {
      "text/plain": [
       "(24.1659069752658, 25.8340930247342)"
      ]
     },
     "execution_count": 19,
     "metadata": {},
     "output_type": "execute_result"
    }
   ],
   "source": [
    "critical_level=abs(st.norm.ppf(0.05))\n",
    "(x.mean() - critical_level * sem , x.mean() + critical_level * sem )"
   ]
  },
  {
   "cell_type": "markdown",
   "metadata": {
    "id": "OykvqG_Pmfry"
   },
   "source": [
    "Question 3 : Use the `interval()` function from the SciPy library to get the 90% confidance interval of Standard Normal : `st.norm.interval(percentage, loc, scale)`\n",
    "\n",
    "\n",
    "Documentation:\n",
    "\n",
    "https://stackoverflow.com/questions/28242593/correct-way-to-obtain-confidence-interval-with-scipy"
   ]
  },
  {
   "cell_type": "code",
   "execution_count": 22,
   "metadata": {
    "ExecuteTime": {
     "end_time": "2021-07-26T09:31:00.681677Z",
     "start_time": "2021-07-26T09:31:00.663687Z"
    },
    "id": "K3jHPY-7mnFt"
   },
   "outputs": [
    {
     "data": {
      "text/plain": [
       "(24.1659069752658, 25.8340930247342)"
      ]
     },
     "execution_count": 22,
     "metadata": {},
     "output_type": "execute_result"
    }
   ],
   "source": [
    "st.norm.interval(0.9,x.mean(),sem)"
   ]
  },
  {
   "cell_type": "markdown",
   "metadata": {
    "id": "F9YGZKRenQUf"
   },
   "source": [
    "Question 4 : same as Question 1 , get the 95% confidance interval (using the exact quantiles) of the Student-t distrubution. (consider using  st.t.ppf(0.95,df=n-1) ).\n",
    "\n",
    "\n",
    "Documentation:\n",
    "\n",
    "https://docs.scipy.org/doc/scipy/reference/generated/scipy.stats.t.html\n",
    "\n"
   ]
  },
  {
   "cell_type": "code",
   "execution_count": 24,
   "metadata": {
    "ExecuteTime": {
     "end_time": "2021-07-26T09:32:45.878343Z",
     "start_time": "2021-07-26T09:32:45.852360Z"
    },
    "id": "2jZS8C32nVEl"
   },
   "outputs": [
    {
     "data": {
      "text/plain": [
       "(23.970547388128676, 26.029452611871324)"
      ]
     },
     "execution_count": 24,
     "metadata": {},
     "output_type": "execute_result"
    }
   ],
   "source": [
    "critical_level=abs(st.t.ppf(0.025,df=n-1))\n",
    "(x.mean() - critical_level * sem , x.mean() + critical_level * sem )"
   ]
  },
  {
   "cell_type": "markdown",
   "metadata": {
    "id": "EKh8T72QouOX"
   },
   "source": [
    "Question 5 - Using the interval() function from the SciPy library (Student-t).\n",
    "st.t.interval( )"
   ]
  },
  {
   "cell_type": "code",
   "execution_count": 28,
   "metadata": {
    "ExecuteTime": {
     "end_time": "2021-07-26T09:36:24.764066Z",
     "start_time": "2021-07-26T09:36:24.751075Z"
    },
    "id": "3IFTTeuwo0Y3"
   },
   "outputs": [
    {
     "data": {
      "text/plain": [
       "(23.970547388128676, 26.029452611871324)"
      ]
     },
     "execution_count": 28,
     "metadata": {},
     "output_type": "execute_result"
    }
   ],
   "source": [
    "st.t.interval(0.95,n-1,x.mean(),sem)"
   ]
  },
  {
   "cell_type": "markdown",
   "metadata": {
    "id": "fW4ArumEo7Mz"
   },
   "source": [
    "## 95% Confidence Interval"
   ]
  },
  {
   "cell_type": "markdown",
   "metadata": {
    "id": "rX1xLa0Io8y0"
   },
   "source": [
    "Question 1- Using the approximated quantiles of the Standard Normal.\n"
   ]
  },
  {
   "cell_type": "code",
   "execution_count": 29,
   "metadata": {
    "ExecuteTime": {
     "end_time": "2021-07-26T09:37:07.607865Z",
     "start_time": "2021-07-26T09:37:07.591874Z"
    },
    "id": "-8lASxFDpFq0"
   },
   "outputs": [
    {
     "data": {
      "text/plain": [
       "(24.006098596439266, 25.993901403560734)"
      ]
     },
     "execution_count": 29,
     "metadata": {},
     "output_type": "execute_result"
    }
   ],
   "source": [
    "critical_level=1.96\n",
    "(x.mean() - critical_level * sem , x.mean() + critical_level * sem )"
   ]
  },
  {
   "cell_type": "markdown",
   "metadata": {
    "id": "JicY8R8epJKP"
   },
   "source": [
    "Question 2- Using the exact quantiles of the Standard Normal."
   ]
  },
  {
   "cell_type": "code",
   "execution_count": 30,
   "metadata": {
    "ExecuteTime": {
     "end_time": "2021-07-26T09:37:15.460578Z",
     "start_time": "2021-07-26T09:37:15.445586Z"
    },
    "id": "6_8he0GYpLOb"
   },
   "outputs": [
    {
     "data": {
      "text/plain": [
       "(24.00611685961079, 25.99388314038921)"
      ]
     },
     "execution_count": 30,
     "metadata": {},
     "output_type": "execute_result"
    }
   ],
   "source": [
    "critical_level=abs(st.norm.ppf(0.025))\n",
    "(x.mean() - critical_level * sem , x.mean() + critical_level * sem )"
   ]
  },
  {
   "cell_type": "markdown",
   "metadata": {
    "id": "8nWwnReYpLuv"
   },
   "source": [
    "Question 3- : Using the interval() function from the SciPy library (Standard Normal). \n"
   ]
  },
  {
   "cell_type": "code",
   "execution_count": 31,
   "metadata": {
    "ExecuteTime": {
     "end_time": "2021-07-26T09:37:36.686988Z",
     "start_time": "2021-07-26T09:37:36.661994Z"
    },
    "id": "-jnYT66QpPy0"
   },
   "outputs": [
    {
     "data": {
      "text/plain": [
       "(24.006116859610792, 25.993883140389208)"
      ]
     },
     "execution_count": 31,
     "metadata": {},
     "output_type": "execute_result"
    }
   ],
   "source": [
    "st.norm.interval(0.95,x.mean(),sem)"
   ]
  },
  {
   "cell_type": "markdown",
   "metadata": {
    "id": "UETWlv3wpWcC"
   },
   "source": [
    "Question 4- : Using the exact quantiles of the Student-t.\n"
   ]
  },
  {
   "cell_type": "code",
   "execution_count": 34,
   "metadata": {
    "ExecuteTime": {
     "end_time": "2021-07-26T09:39:06.953533Z",
     "start_time": "2021-07-26T09:39:06.938543Z"
    },
    "id": "2UXh_X3SpfPp"
   },
   "outputs": [
    {
     "data": {
      "text/plain": [
       "(23.970547388128676, 26.029452611871324)"
      ]
     },
     "execution_count": 34,
     "metadata": {},
     "output_type": "execute_result"
    }
   ],
   "source": [
    "critical_level=abs(st.t.ppf(0.025,df=n-1))\n",
    "x.mean() - critical_level * sem , x.mean() + critical_level * sem"
   ]
  },
  {
   "cell_type": "markdown",
   "metadata": {
    "id": "IcubBjstphFT"
   },
   "source": [
    "Question 5 - :  Using the interval() function from the SciPy library (Student-t)."
   ]
  },
  {
   "cell_type": "code",
   "execution_count": 35,
   "metadata": {
    "ExecuteTime": {
     "end_time": "2021-07-26T09:39:37.238197Z",
     "start_time": "2021-07-26T09:39:37.222207Z"
    },
    "id": "zZRutkmIppyV"
   },
   "outputs": [
    {
     "data": {
      "text/plain": [
       "(23.970547388128676, 26.029452611871324)"
      ]
     },
     "execution_count": 35,
     "metadata": {},
     "output_type": "execute_result"
    }
   ],
   "source": [
    "st.t.interval(0.95,n-1,x.mean(),sem)"
   ]
  },
  {
   "cell_type": "markdown",
   "metadata": {
    "id": "0b1J5GBAprgb"
   },
   "source": [
    "## 99% Confidence Interval"
   ]
  },
  {
   "cell_type": "markdown",
   "metadata": {
    "id": "wZKu_xgpqCqZ"
   },
   "source": [
    "Question 1 : Using the approximated quantiles of the Standard Normal.\n"
   ]
  },
  {
   "cell_type": "code",
   "execution_count": null,
   "metadata": {
    "id": "x1a5nzUKp7ez"
   },
   "outputs": [],
   "source": []
  },
  {
   "cell_type": "markdown",
   "metadata": {
    "id": "oPX5k3pcqGhK"
   },
   "source": [
    "Question 2- Using the exact quantiles of the Standard Normal.\n"
   ]
  },
  {
   "cell_type": "code",
   "execution_count": null,
   "metadata": {
    "id": "Ull4DLEbqMM0"
   },
   "outputs": [],
   "source": []
  },
  {
   "cell_type": "markdown",
   "metadata": {
    "id": "malubUnPqYX2"
   },
   "source": [
    "Question 3 : Using the interval() function from the SciPy library (Standard Normal). \n"
   ]
  },
  {
   "cell_type": "code",
   "execution_count": null,
   "metadata": {
    "id": "T3L10IJNqQaD"
   },
   "outputs": [],
   "source": []
  },
  {
   "cell_type": "markdown",
   "metadata": {
    "id": "u4zMUnFOqbtz"
   },
   "source": [
    "Question 4- : Using the exact quantiles of the Student-t.\n"
   ]
  },
  {
   "cell_type": "code",
   "execution_count": null,
   "metadata": {
    "id": "fdg6G7KTqj2o"
   },
   "outputs": [],
   "source": []
  },
  {
   "cell_type": "markdown",
   "metadata": {
    "id": "tNBtSB-vqmBX"
   },
   "source": [
    "Question 5- : Using the interval() function from the SciPy library (Student-t).\n"
   ]
  },
  {
   "cell_type": "code",
   "execution_count": null,
   "metadata": {
    "id": "xAr9ory9qkve"
   },
   "outputs": [],
   "source": []
  },
  {
   "cell_type": "markdown",
   "metadata": {
    "id": "oloMd02wqvyT"
   },
   "source": [
    "# Interval Estimation of the Proportion: "
   ]
  },
  {
   "cell_type": "markdown",
   "metadata": {
    "id": "l1YeGC_YuuCF"
   },
   "source": [
    "Question 1 : Suppose there is two candidates for the election: T and B. (T for trump , B for biden , just saying ...lol)\n",
    "The candidate T wants to survey his approval rating.\n",
    "Out of 100 suerveyed, 55 answered positively.\n",
    "Can T be sure of this election? \n",
    "- Assume that T gets elected with 50% or more. \n",
    "- Use 95% confidence interval.\n",
    "\n",
    "draw your conclusion using the confidence interval"
   ]
  },
  {
   "cell_type": "code",
   "execution_count": 38,
   "metadata": {
    "ExecuteTime": {
     "end_time": "2021-07-26T11:21:08.826777Z",
     "start_time": "2021-07-26T11:21:08.803790Z"
    },
    "id": "lFXhca_zqq2H"
   },
   "outputs": [
    {
     "data": {
      "text/plain": [
       "(0.4524912311635513, 0.6475087688364488)"
      ]
     },
     "execution_count": 38,
     "metadata": {},
     "output_type": "execute_result"
    }
   ],
   "source": [
    "#alternative hypotesis : x>=50%\n",
    "\n",
    "#null hypotesis : x<50%\n",
    "\n",
    "# 95% Confidence Interval.\n",
    "# We apply the expression for the standard error (SE) forumla used for proportions from the lecture.\n",
    "\n",
    "p_mean=55/100\n",
    "\n",
    "sem=np.sqrt((p_mean*(1-p_mean))/100)\n",
    "\n",
    "p_mean - 1.96 * sem , p_mean + 1.96 * sem"
   ]
  },
  {
   "cell_type": "markdown",
   "metadata": {
    "id": "xDKSGk70u5id"
   },
   "source": [
    "Question 2 : Out of 1000 suerveyed, 550 answered positively. Can T be sure of this election?\n",
    "- Assume that T gets elected with 50% or more. \n",
    "- Use 95% confidence interval.\n",
    "\n",
    "draw your conclusion using the confidence interval"
   ]
  },
  {
   "cell_type": "code",
   "execution_count": 39,
   "metadata": {
    "ExecuteTime": {
     "end_time": "2021-07-26T11:21:56.031057Z",
     "start_time": "2021-07-26T11:21:56.006070Z"
    },
    "id": "tvpKc6fwunBk"
   },
   "outputs": [
    {
     "data": {
      "text/plain": [
       "(0.5191650198637976, 0.5808349801362025)"
      ]
     },
     "execution_count": 39,
     "metadata": {},
     "output_type": "execute_result"
    }
   ],
   "source": [
    "# 95% Confidence Interval.\n",
    "# We apply the expression for the standard error (SE) from the lecture.\n",
    "# W ignore additional corrections. \n",
    "p_mean=550/1000\n",
    "\n",
    "sem=np.sqrt((p_mean*(1-p_mean))/1000)\n",
    "\n",
    "p_mean - 1.96 * sem , p_mean + 1.96 * sem"
   ]
  },
  {
   "cell_type": "markdown",
   "metadata": {
    "id": "aO_L9dmgvagg"
   },
   "source": [
    "# Correlation\n",
    "\n",
    "\n",
    "\n",
    "some resources to read to learn more about these correlations : \n",
    "\n",
    "https://datascience.stackexchange.com/questions/64260/pearson-vs-spearman-vs-kendall/64261\n",
    "\n",
    "\n",
    "https://towardsdatascience.com/clearly-explained-pearson-v-s-spearman-correlation-coefficient-ada2f473b8"
   ]
  },
  {
   "cell_type": "code",
   "execution_count": 40,
   "metadata": {
    "ExecuteTime": {
     "end_time": "2021-07-26T11:22:58.878360Z",
     "start_time": "2021-07-26T11:22:48.936157Z"
    },
    "id": "QhiyRl8Jvjbl"
   },
   "outputs": [],
   "source": [
    "import pandas as pd\n",
    "import numpy as np\n",
    "import scipy.stats as st\n",
    "import os\n",
    "import seaborn as sns"
   ]
  },
  {
   "cell_type": "code",
   "execution_count": 41,
   "metadata": {
    "ExecuteTime": {
     "end_time": "2021-07-26T11:23:00.748901Z",
     "start_time": "2021-07-26T11:22:58.911324Z"
    },
    "id": "3H5vkLvkvlDK"
   },
   "outputs": [
    {
     "data": {
      "text/plain": [
       "['anagrams',\n",
       " 'anscombe',\n",
       " 'attention',\n",
       " 'brain_networks',\n",
       " 'car_crashes',\n",
       " 'diamonds',\n",
       " 'dots',\n",
       " 'exercise',\n",
       " 'flights',\n",
       " 'fmri',\n",
       " 'gammas',\n",
       " 'geyser',\n",
       " 'iris',\n",
       " 'mpg',\n",
       " 'penguins',\n",
       " 'planets',\n",
       " 'tips',\n",
       " 'titanic']"
      ]
     },
     "execution_count": 41,
     "metadata": {},
     "output_type": "execute_result"
    }
   ],
   "source": [
    "sns.get_dataset_names()\n"
   ]
  },
  {
   "cell_type": "code",
   "execution_count": 42,
   "metadata": {
    "ExecuteTime": {
     "end_time": "2021-07-26T11:23:00.889819Z",
     "start_time": "2021-07-26T11:23:00.766890Z"
    },
    "id": "355A73vWxFj0"
   },
   "outputs": [],
   "source": [
    "df = sns.load_dataset('iris')"
   ]
  },
  {
   "cell_type": "code",
   "execution_count": 43,
   "metadata": {
    "ExecuteTime": {
     "end_time": "2021-07-26T11:23:00.998168Z",
     "start_time": "2021-07-26T11:23:00.955191Z"
    },
    "id": "r9NBkV-3xI4_"
   },
   "outputs": [
    {
     "data": {
      "text/html": [
       "<div>\n",
       "<style scoped>\n",
       "    .dataframe tbody tr th:only-of-type {\n",
       "        vertical-align: middle;\n",
       "    }\n",
       "\n",
       "    .dataframe tbody tr th {\n",
       "        vertical-align: top;\n",
       "    }\n",
       "\n",
       "    .dataframe thead th {\n",
       "        text-align: right;\n",
       "    }\n",
       "</style>\n",
       "<table border=\"1\" class=\"dataframe\">\n",
       "  <thead>\n",
       "    <tr style=\"text-align: right;\">\n",
       "      <th></th>\n",
       "      <th>sepal_length</th>\n",
       "      <th>sepal_width</th>\n",
       "      <th>petal_length</th>\n",
       "      <th>petal_width</th>\n",
       "      <th>species</th>\n",
       "    </tr>\n",
       "  </thead>\n",
       "  <tbody>\n",
       "    <tr>\n",
       "      <th>0</th>\n",
       "      <td>5.1</td>\n",
       "      <td>3.5</td>\n",
       "      <td>1.4</td>\n",
       "      <td>0.2</td>\n",
       "      <td>setosa</td>\n",
       "    </tr>\n",
       "    <tr>\n",
       "      <th>1</th>\n",
       "      <td>4.9</td>\n",
       "      <td>3.0</td>\n",
       "      <td>1.4</td>\n",
       "      <td>0.2</td>\n",
       "      <td>setosa</td>\n",
       "    </tr>\n",
       "    <tr>\n",
       "      <th>2</th>\n",
       "      <td>4.7</td>\n",
       "      <td>3.2</td>\n",
       "      <td>1.3</td>\n",
       "      <td>0.2</td>\n",
       "      <td>setosa</td>\n",
       "    </tr>\n",
       "    <tr>\n",
       "      <th>3</th>\n",
       "      <td>4.6</td>\n",
       "      <td>3.1</td>\n",
       "      <td>1.5</td>\n",
       "      <td>0.2</td>\n",
       "      <td>setosa</td>\n",
       "    </tr>\n",
       "    <tr>\n",
       "      <th>4</th>\n",
       "      <td>5.0</td>\n",
       "      <td>3.6</td>\n",
       "      <td>1.4</td>\n",
       "      <td>0.2</td>\n",
       "      <td>setosa</td>\n",
       "    </tr>\n",
       "  </tbody>\n",
       "</table>\n",
       "</div>"
      ],
      "text/plain": [
       "   sepal_length  sepal_width  petal_length  petal_width species\n",
       "0           5.1          3.5           1.4          0.2  setosa\n",
       "1           4.9          3.0           1.4          0.2  setosa\n",
       "2           4.7          3.2           1.3          0.2  setosa\n",
       "3           4.6          3.1           1.5          0.2  setosa\n",
       "4           5.0          3.6           1.4          0.2  setosa"
      ]
     },
     "execution_count": 43,
     "metadata": {},
     "output_type": "execute_result"
    }
   ],
   "source": [
    "df.head()"
   ]
  },
  {
   "cell_type": "code",
   "execution_count": 44,
   "metadata": {
    "ExecuteTime": {
     "end_time": "2021-07-26T11:23:01.061130Z",
     "start_time": "2021-07-26T11:23:01.052135Z"
    },
    "id": "7Sa7dQKDvyH4"
   },
   "outputs": [
    {
     "data": {
      "text/plain": [
       "pandas.core.frame.DataFrame"
      ]
     },
     "execution_count": 44,
     "metadata": {},
     "output_type": "execute_result"
    }
   ],
   "source": [
    "type(df)"
   ]
  },
  {
   "cell_type": "code",
   "execution_count": 45,
   "metadata": {
    "ExecuteTime": {
     "end_time": "2021-07-26T11:23:01.124095Z",
     "start_time": "2021-07-26T11:23:01.111104Z"
    },
    "id": "8gfv6MQewDFf"
   },
   "outputs": [],
   "source": [
    "x = df.petal_length\n",
    "y = df.sepal_length"
   ]
  },
  {
   "cell_type": "markdown",
   "metadata": {
    "id": "Zti3PBs8xlVz"
   },
   "source": [
    "## P-Value\n",
    "\n",
    "Documentation : \n",
    "https://towardsdatascience.com/p-value-basics-with-python-code-ae5316197c52"
   ]
  },
  {
   "cell_type": "markdown",
   "metadata": {
    "id": "uV0wnRmmyFqN"
   },
   "source": [
    "Question 1 : Using the SciPy function: \n",
    "- calculate correlation and p-value. hint : ``np.round(st.pearsonr(..),..)``  \n",
    "- interpret the results "
   ]
  },
  {
   "cell_type": "code",
   "execution_count": 46,
   "metadata": {
    "ExecuteTime": {
     "end_time": "2021-07-26T11:23:45.913832Z",
     "start_time": "2021-07-26T11:23:45.798872Z"
    },
    "id": "bCDm7JcZxThE"
   },
   "outputs": [
    {
     "data": {
      "text/plain": [
       "(0.8717537758865833, 1.0386674194496954e-47)"
      ]
     },
     "execution_count": 46,
     "metadata": {},
     "output_type": "execute_result"
    }
   ],
   "source": [
    "corr , p_value = st.pearsonr(x,y)"
   ]
  },
  {
   "cell_type": "markdown",
   "metadata": {
    "id": "4FI03zchyUrc"
   },
   "source": [
    "Question2 : Using the Pandas function.\n"
   ]
  },
  {
   "cell_type": "code",
   "execution_count": 47,
   "metadata": {
    "ExecuteTime": {
     "end_time": "2021-07-26T11:25:21.796938Z",
     "start_time": "2021-07-26T11:25:21.455662Z"
    },
    "id": "9T_sCoXhyYA0"
   },
   "outputs": [
    {
     "data": {
      "text/plain": [
       "0.871753775886583"
      ]
     },
     "execution_count": 47,
     "metadata": {},
     "output_type": "execute_result"
    }
   ],
   "source": [
    "x.corr(y)"
   ]
  },
  {
   "cell_type": "markdown",
   "metadata": {
    "id": "29tTyKpByaU2"
   },
   "source": [
    "Question 3: Correlation array, use: `np.round(..)`   "
   ]
  },
  {
   "cell_type": "code",
   "execution_count": 48,
   "metadata": {
    "ExecuteTime": {
     "end_time": "2021-07-26T11:26:54.534256Z",
     "start_time": "2021-07-26T11:26:54.229463Z"
    },
    "id": "tcqhZRrGymQ-"
   },
   "outputs": [
    {
     "data": {
      "text/plain": [
       "0.87"
      ]
     },
     "execution_count": 48,
     "metadata": {},
     "output_type": "execute_result"
    }
   ],
   "source": [
    "# Correlation array.\n",
    "np.round(x.corr(y),2)"
   ]
  },
  {
   "cell_type": "markdown",
   "metadata": {
    "id": "vXJg1pC8yxU7"
   },
   "source": [
    "## Spearman"
   ]
  },
  {
   "cell_type": "markdown",
   "metadata": {
    "id": "7KGmjATUy_tC"
   },
   "source": [
    "Question 1 :  Using the Spearman SciPy function and Correlation and p-value.\n",
    "hint : ``np.round(st.spearmanr(..),..) ``         "
   ]
  },
  {
   "cell_type": "code",
   "execution_count": 49,
   "metadata": {
    "ExecuteTime": {
     "end_time": "2021-07-26T11:27:18.944116Z",
     "start_time": "2021-07-26T11:27:18.596218Z"
    },
    "id": "1BHvdu3xy8fz"
   },
   "outputs": [
    {
     "data": {
      "text/plain": [
       "array([0.88, 0.  ])"
      ]
     },
     "execution_count": 49,
     "metadata": {},
     "output_type": "execute_result"
    }
   ],
   "source": [
    "np.round(st.spearmanr(x,y),2)"
   ]
  },
  {
   "cell_type": "markdown",
   "metadata": {
    "id": "Yj1KSU79zU1w"
   },
   "source": [
    "## Kendall"
   ]
  },
  {
   "cell_type": "markdown",
   "metadata": {
    "id": "Ik9g_iNOzcjM"
   },
   "source": [
    "Question 1: Using the SciPy function and Correlation and p-value."
   ]
  },
  {
   "cell_type": "code",
   "execution_count": 53,
   "metadata": {
    "ExecuteTime": {
     "end_time": "2021-07-26T11:28:59.314067Z",
     "start_time": "2021-07-26T11:28:58.989059Z"
    },
    "id": "KmS-BaAVzGeC"
   },
   "outputs": [
    {
     "data": {
      "text/plain": [
       "array([0.72, 0.  ])"
      ]
     },
     "execution_count": 53,
     "metadata": {},
     "output_type": "execute_result"
    }
   ],
   "source": [
    "np.round(st.kendalltau(x,y),2)"
   ]
  },
  {
   "cell_type": "markdown",
   "metadata": {
    "id": "ULjDlynsz08y"
   },
   "source": [
    "Question : Confidence Interval of the Pearson Correlation: "
   ]
  },
  {
   "cell_type": "code",
   "execution_count": 55,
   "metadata": {
    "ExecuteTime": {
     "end_time": "2021-07-26T11:33:12.047250Z",
     "start_time": "2021-07-26T11:33:12.033278Z"
    },
    "id": "wll5_EyRz48X"
   },
   "outputs": [
    {
     "data": {
      "text/plain": [
       "(0.8350711628761325, 0.9007190378984153)"
      ]
     },
     "execution_count": 55,
     "metadata": {},
     "output_type": "execute_result"
    }
   ],
   "source": [
    "# Apply the Fisher's z-transformation.\n",
    "# See the lecture.\n",
    "r= x.corr(y)\n",
    "z=np.arctanh(r)\n",
    "sem = 1/np.sqrt(len(x)-3)\n",
    "lower_bound =np.tanh(z - 1.645*sem) \n",
    "upper_bound = np.tanh(z + 1.645*sem )\n",
    "\n",
    "lower_bound , upper_bound"
   ]
  },
  {
   "cell_type": "code",
   "execution_count": 9,
   "metadata": {
    "ExecuteTime": {
     "end_time": "2021-07-25T00:03:32.435720Z",
     "start_time": "2021-07-25T00:03:32.423713Z"
    },
    "id": "CMm_hzdD0Wg6"
   },
   "outputs": [],
   "source": [
    "# 95% confidence interval. \n",
    "# Expressed as a dictionary object.\n"
   ]
  },
  {
   "cell_type": "markdown",
   "metadata": {
    "id": "TVRAkH0z0bh3"
   },
   "source": [
    "Question 1 :  99% confidence interval.Expressed as a dictionary object."
   ]
  },
  {
   "cell_type": "code",
   "execution_count": 56,
   "metadata": {
    "ExecuteTime": {
     "end_time": "2021-07-26T11:34:12.533669Z",
     "start_time": "2021-07-26T11:34:12.514681Z"
    },
    "id": "83Wy0BEQ0XSo"
   },
   "outputs": [
    {
     "data": {
      "text/plain": [
       "{'lower': 0.8350711628761325, 'upper': 0.9007190378984153}"
      ]
     },
     "execution_count": 56,
     "metadata": {},
     "output_type": "execute_result"
    }
   ],
   "source": [
    "# 99% confidence interval.\n",
    "# Expressed as a dictionary object.\n",
    "\n",
    "{\"lower\":lower_bound ,\"upper\": upper_bound}"
   ]
  },
  {
   "cell_type": "code",
   "execution_count": null,
   "metadata": {},
   "outputs": [],
   "source": []
  }
 ],
 "metadata": {
  "colab": {
   "collapsed_sections": [],
   "name": "Serie 4- Proba et Stat-Solution.ipynb",
   "private_outputs": true,
   "provenance": []
  },
  "kernelspec": {
   "display_name": "Python 3",
   "language": "python",
   "name": "python3"
  },
  "language_info": {
   "codemirror_mode": {
    "name": "ipython",
    "version": 3
   },
   "file_extension": ".py",
   "mimetype": "text/x-python",
   "name": "python",
   "nbconvert_exporter": "python",
   "pygments_lexer": "ipython3",
   "version": "3.8.5"
  },
  "toc": {
   "base_numbering": 1,
   "nav_menu": {},
   "number_sections": true,
   "sideBar": true,
   "skip_h1_title": false,
   "title_cell": "Table of Contents",
   "title_sidebar": "Contents",
   "toc_cell": false,
   "toc_position": {},
   "toc_section_display": true,
   "toc_window_display": false
  },
  "varInspector": {
   "cols": {
    "lenName": 16,
    "lenType": 16,
    "lenVar": 40
   },
   "kernels_config": {
    "python": {
     "delete_cmd_postfix": "",
     "delete_cmd_prefix": "del ",
     "library": "var_list.py",
     "varRefreshCmd": "print(var_dic_list())"
    },
    "r": {
     "delete_cmd_postfix": ") ",
     "delete_cmd_prefix": "rm(",
     "library": "var_list.r",
     "varRefreshCmd": "cat(var_dic_list()) "
    }
   },
   "types_to_exclude": [
    "module",
    "function",
    "builtin_function_or_method",
    "instance",
    "_Feature"
   ],
   "window_display": false
  }
 },
 "nbformat": 4,
 "nbformat_minor": 1
}
