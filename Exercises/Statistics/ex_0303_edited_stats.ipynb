{
  "cells": [
    {
      "cell_type": "markdown",
      "metadata": {
        "id": "LCDlKzlqJ51-"
      },
      "source": [
        "## Coding Exercise #0303"
      ]
    },
    {
      "cell_type": "markdown",
      "metadata": {
        "id": "31FIcdDJJ52B"
      },
      "source": [
        "### 1. Descriptive statistics:"
      ]
    },
    {
      "cell_type": "code",
      "execution_count": null,
      "metadata": {
        "ExecuteTime": {
          "end_time": "2021-07-18T23:04:35.402291Z",
          "start_time": "2021-07-18T23:04:22.335997Z"
        },
        "id": "axbw5LJbJ52C"
      },
      "outputs": [],
      "source": [
        "import pandas as pd\n",
        "import numpy as np\n",
        "import matplotlib.pyplot as plt\n",
        "import os\n",
        "%matplotlib inline"
      ]
    },
    {
      "cell_type": "code",
      "execution_count": null,
      "metadata": {
        "id": "bM5DsU24J52D"
      },
      "outputs": [],
      "source": []
    },
    {
      "cell_type": "code",
      "execution_count": null,
      "metadata": {
        "ExecuteTime": {
          "end_time": "2021-07-18T23:05:09.387372Z",
          "start_time": "2021-07-18T23:05:09.377391Z"
        },
        "id": "H3DY1PX5J52E"
      },
      "outputs": [],
      "source": [
        "# Read in the data.\n",
        "df = pd.read_csv('data_studentlist.csv', header='infer')"
      ]
    },
    {
      "cell_type": "markdown",
      "metadata": {
        "id": "LzyMx1LLJ52E"
      },
      "source": [
        "print the shape of df"
      ]
    },
    {
      "cell_type": "code",
      "execution_count": null,
      "metadata": {
        "id": "7GJ8v43TJ52F"
      },
      "outputs": [],
      "source": []
    },
    {
      "cell_type": "markdown",
      "metadata": {
        "id": "Lkit2cbsJ52F"
      },
      "source": [
        "display the first 5 lines of the data "
      ]
    },
    {
      "cell_type": "code",
      "execution_count": null,
      "metadata": {
        "id": "4cxiBEg_J52G"
      },
      "outputs": [],
      "source": []
    },
    {
      "cell_type": "markdown",
      "metadata": {
        "id": "_94J1EidJ52G"
      },
      "source": [
        "#### 1.1. Sample statistics:"
      ]
    },
    {
      "cell_type": "markdown",
      "metadata": {
        "id": "oZS6WmifJ52G"
      },
      "source": [
        "calculate the mean of height"
      ]
    },
    {
      "cell_type": "code",
      "execution_count": null,
      "metadata": {
        "id": "-2c3id9bJ52H"
      },
      "outputs": [],
      "source": []
    },
    {
      "cell_type": "markdown",
      "metadata": {
        "id": "y0IZlt09J52H"
      },
      "source": [
        "ge the unbiased estimator of the variance (i.e divided by $n-1$). (hint : read the documentation of ``var`` )"
      ]
    },
    {
      "cell_type": "code",
      "execution_count": null,
      "metadata": {
        "ExecuteTime": {
          "end_time": "2021-07-18T23:09:56.851989Z",
          "start_time": "2021-07-18T23:09:56.833998Z"
        },
        "id": "QeJ7LZ2GJ52I"
      },
      "outputs": [],
      "source": [
        "# Unbiased estimator of the variance.\n"
      ]
    },
    {
      "cell_type": "markdown",
      "metadata": {
        "id": "eNdjMBZ4J52I"
      },
      "source": [
        "same as the above but with std "
      ]
    },
    {
      "cell_type": "code",
      "execution_count": null,
      "metadata": {
        "ExecuteTime": {
          "end_time": "2021-07-18T23:10:00.721794Z",
          "start_time": "2021-07-18T23:10:00.713797Z"
        },
        "id": "Kh1ZP7tZJ52J"
      },
      "outputs": [],
      "source": [
        "# Unbiased estimator of the standard deviation.\n"
      ]
    },
    {
      "cell_type": "markdown",
      "metadata": {
        "id": "WsXMAOBFJ52J"
      },
      "source": [
        "calculate the : mean , median , min and max of the ``height`` column"
      ]
    },
    {
      "cell_type": "code",
      "execution_count": null,
      "metadata": {
        "id": "CRwACbHxJ52J"
      },
      "outputs": [],
      "source": [
        "# Median.\n"
      ]
    },
    {
      "cell_type": "markdown",
      "metadata": {
        "id": "09kDmEv9J52K"
      },
      "source": [
        "get the quantile at $alpha = 0.1$ (hint : read the documentation dataframe.quantile)"
      ]
    },
    {
      "cell_type": "code",
      "execution_count": null,
      "metadata": {
        "ExecuteTime": {
          "end_time": "2021-07-18T23:17:22.416139Z",
          "start_time": "2021-07-18T23:17:22.410139Z"
        },
        "id": "9PPBet5rJ52K"
      },
      "outputs": [],
      "source": [
        "# Quantile at alpha = 0.1\n"
      ]
    },
    {
      "cell_type": "code",
      "execution_count": null,
      "metadata": {
        "id": "vQzPTF8CJ52K"
      },
      "outputs": [],
      "source": []
    },
    {
      "cell_type": "markdown",
      "metadata": {
        "id": "4hDrhD7qJ52K"
      },
      "source": [
        "same as the above but with $alpha = 0.9$"
      ]
    },
    {
      "cell_type": "code",
      "execution_count": null,
      "metadata": {
        "ExecuteTime": {
          "end_time": "2021-07-18T23:17:50.567333Z",
          "start_time": "2021-07-18T23:17:50.551706Z"
        },
        "id": "WTNIWLztJ52K"
      },
      "outputs": [],
      "source": [
        "# Quantile at alpha = 0.9\n"
      ]
    },
    {
      "cell_type": "markdown",
      "metadata": {
        "id": "FY2lnwciJ52L"
      },
      "source": [
        "#### 1.2. Boxplot: "
      ]
    },
    {
      "cell_type": "markdown",
      "metadata": {
        "id": "D-EuCr9MJ52L"
      },
      "source": [
        "use what you've learned to calculate the inter quantile range using its forumla "
      ]
    },
    {
      "cell_type": "code",
      "execution_count": null,
      "metadata": {
        "ExecuteTime": {
          "end_time": "2021-07-18T23:19:29.501855Z",
          "start_time": "2021-07-18T23:19:29.498855Z"
        },
        "id": "3FPAeAkaJ52L"
      },
      "outputs": [],
      "source": [
        "# The Inter Quartile Range\n"
      ]
    },
    {
      "cell_type": "markdown",
      "metadata": {
        "id": "JFd59EVBJ52L"
      },
      "source": [
        "plot the box plot of ``height`` and ``weight`` using seaborn"
      ]
    },
    {
      "cell_type": "code",
      "execution_count": null,
      "metadata": {
        "ExecuteTime": {
          "end_time": "2021-07-18T23:20:45.616191Z",
          "start_time": "2021-07-18T23:20:45.603202Z"
        },
        "id": "9b-G5kX-J52M"
      },
      "outputs": [],
      "source": [
        "# Show a Boxplot for the height.\n"
      ]
    },
    {
      "cell_type": "code",
      "execution_count": null,
      "metadata": {
        "id": "5VD2qC6wJ52M"
      },
      "outputs": [],
      "source": []
    },
    {
      "cell_type": "markdown",
      "metadata": {
        "id": "cEFfI3W5J52M"
      },
      "source": [
        "#### 1.3. Covariance and Correlation:"
      ]
    },
    {
      "cell_type": "markdown",
      "metadata": {
        "id": "8jGknEMGJ52M"
      },
      "source": [
        "calculate the   covariance between  ``height`` and ``weight`` using ``cov`` function"
      ]
    },
    {
      "cell_type": "code",
      "execution_count": null,
      "metadata": {
        "ExecuteTime": {
          "end_time": "2021-07-18T23:23:32.138719Z",
          "start_time": "2021-07-18T23:23:32.121735Z"
        },
        "id": "KOBK-153J52M"
      },
      "outputs": [],
      "source": [
        "# Covariance.\n"
      ]
    },
    {
      "cell_type": "markdown",
      "metadata": {
        "id": "h8lt4uyqJ52N"
      },
      "source": [
        "calculate the   correlation between  ``height`` and ``weight``"
      ]
    },
    {
      "cell_type": "code",
      "execution_count": null,
      "metadata": {
        "ExecuteTime": {
          "end_time": "2021-07-18T23:23:48.387256Z",
          "start_time": "2021-07-18T23:23:48.369249Z"
        },
        "id": "xrW1dCJiJ52N"
      },
      "outputs": [],
      "source": [
        "# Correlation.\n"
      ]
    },
    {
      "cell_type": "markdown",
      "metadata": {
        "id": "le9RJhhxJ52N"
      },
      "source": [
        "calculate the correlation between ``height`` and ``weight`` using the covariance between the two"
      ]
    },
    {
      "cell_type": "code",
      "execution_count": null,
      "metadata": {
        "ExecuteTime": {
          "end_time": "2021-07-18T23:25:32.295937Z",
          "start_time": "2021-07-18T23:25:32.282945Z"
        },
        "id": "yvfiUb2WJ52N"
      },
      "outputs": [],
      "source": [
        "# Calculate the correlation using the covariance.\n"
      ]
    },
    {
      "cell_type": "markdown",
      "metadata": {
        "id": "2yM2NxHrJ52N"
      },
      "source": [
        "#### 1.4. Visualization:"
      ]
    },
    {
      "cell_type": "markdown",
      "metadata": {
        "id": "Ho8iRhoLJ52O"
      },
      "source": [
        "show the relationship between ``weight`` and ``height`` ( find the appropriate plot to showcase the correlation between two numerical variables)"
      ]
    },
    {
      "cell_type": "code",
      "execution_count": null,
      "metadata": {
        "ExecuteTime": {
          "end_time": "2021-07-18T23:27:03.856320Z",
          "start_time": "2021-07-18T23:27:03.844309Z"
        },
        "id": "ipwv8Kz6J52O"
      },
      "outputs": [],
      "source": [
        "# Visually inspect the relationship between X and Y.\n"
      ]
    },
    {
      "cell_type": "markdown",
      "metadata": {
        "id": "zmwLEa_8J52O"
      },
      "source": [
        "the goal of this last question is to seperate your dataset into male and female group. \n",
        "plot two overlapping scatter plots of these groups with different colors\n",
        "\n",
        "**remark** : \n",
        "\n",
        "if you run the following code , you will get two different plots , find a way to mitigate this problem"
      ]
    },
    {
      "cell_type": "code",
      "execution_count": null,
      "metadata": {
        "ExecuteTime": {
          "end_time": "2021-07-18T23:30:37.762455Z",
          "start_time": "2021-07-18T23:30:37.450680Z"
        },
        "id": "5t8lGzydJ52O",
        "outputId": "1ac3bbb0-fe07-4f98-f42c-7c3d3de4368b"
      },
      "outputs": [
        {
          "data": {
            "image/png": "[encoded data removed]",
            "text/plain": [
              "<Figure size 432x288 with 1 Axes>"
            ]
          },
          "metadata": {
            "needs_background": "light"
          },
          "output_type": "display_data"
        },
        {
          "data": {
            "image/png": "[encoded data removed]",
            "text/plain": [
              "<Figure size 432x288 with 1 Axes>"
            ]
          },
          "metadata": {
            "needs_background": "light"
          },
          "output_type": "display_data"
        }
      ],
      "source": [
        "# Visually inspect the relationship between X and Y.\n",
        "# Distinguish the gender by color.\n",
        "df[df.gender=='M'].plot.scatter(x='height', y='weight',color='blue',marker='o',s=20)\n",
        "df[df.gender=='F'].plot.scatter(x='height', y='weight',color='red',marker='o',s=20)\n",
        "plt.show()"
      ]
    },
    {
      "cell_type": "code",
      "execution_count": null,
      "metadata": {
        "id": "dWIAgOAZJ52P"
      },
      "outputs": [],
      "source": []
    }
  ],
  "metadata": {
    "kernelspec": {
      "display_name": "Python 3",
      "language": "python",
      "name": "python3"
    },
    "language_info": {
      "codemirror_mode": {
        "name": "ipython",
        "version": 3
      },
      "file_extension": ".py",
      "mimetype": "text/x-python",
      "name": "python",
      "nbconvert_exporter": "python",
      "pygments_lexer": "ipython3",
      "version": "3.7.0"
    },
    "toc": {
      "base_numbering": 1,
      "nav_menu": {},
      "number_sections": true,
      "sideBar": true,
      "skip_h1_title": false,
      "title_cell": "Table of Contents",
      "title_sidebar": "Contents",
      "toc_cell": false,
      "toc_position": {},
      "toc_section_display": true,
      "toc_window_display": false
    },
    "varInspector": {
      "cols": {
        "lenName": 16,
        "lenType": 16,
        "lenVar": 40
      },
      "kernels_config": {
        "python": {
          "delete_cmd_postfix": "",
          "delete_cmd_prefix": "del ",
          "library": "var_list.py",
          "varRefreshCmd": "print(var_dic_list())"
        },
        "r": {
          "delete_cmd_postfix": ") ",
          "delete_cmd_prefix": "rm(",
          "library": "var_list.r",
          "varRefreshCmd": "cat(var_dic_list()) "
        }
      },
      "types_to_exclude": [
        "module",
        "function",
        "builtin_function_or_method",
        "instance",
        "_Feature"
      ],
      "window_display": false
    },
    "colab": {
      "provenance": []
    }
  },
  "nbformat": 4,
  "nbformat_minor": 0
}