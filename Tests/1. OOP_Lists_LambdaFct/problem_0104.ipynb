{
  "cells": [
    {
      "cell_type": "markdown",
      "metadata": {
        "id": "UACfPOqrHr-T"
      },
      "source": [
        "## Quiz #0104 "
      ]
    },
    {
      "cell_type": "markdown",
      "metadata": {
        "id": "sAamdmhzHr-V"
      },
      "source": [
        "#### Code the class 'Aquarium' that outputs the result as shown. "
      ]
    },
    {
      "cell_type": "code",
      "execution_count": null,
      "metadata": {
        "id": "08IjLjE4Hr-W"
      },
      "outputs": [],
      "source": [
        "class Aquarium:\n",
        "\n",
        "    \n",
        "    \n",
        "    \n",
        "    \n",
        "    "
      ]
    },
    {
      "cell_type": "markdown",
      "metadata": {
        "id": "ppZ5-QkGHr-X"
      },
      "source": [
        "Test results:"
      ]
    },
    {
      "cell_type": "code",
      "execution_count": null,
      "metadata": {
        "id": "mGG_vg_XHr-X",
        "outputId": "b7679f3c-7165-4271-e75f-130486116a18"
      },
      "outputs": [
        {
          "name": "stdout",
          "output_type": "stream",
          "text": [
            "An Aquarium has opened!\n"
          ]
        }
      ],
      "source": [
        "my_aquarium = Aquarium()"
      ]
    },
    {
      "cell_type": "code",
      "execution_count": null,
      "metadata": {
        "id": "9Micy7CtHr-Y",
        "outputId": "40de3713-13f8-4404-94b7-c9c9343d2198"
      },
      "outputs": [
        {
          "name": "stdout",
          "output_type": "stream",
          "text": [
            "Turtle is a new member of our Aquarium!\n"
          ]
        }
      ],
      "source": [
        "my_aquarium.enters('Turtle')"
      ]
    },
    {
      "cell_type": "code",
      "execution_count": null,
      "metadata": {
        "id": "buRiT4zTHr-Y",
        "outputId": "b861fe73-13a0-4e5b-dd56-ce11c1694aca"
      },
      "outputs": [
        {
          "name": "stdout",
          "output_type": "stream",
          "text": [
            "We already have Turtle.\n"
          ]
        }
      ],
      "source": [
        "my_aquarium.enters('Turtle')"
      ]
    },
    {
      "cell_type": "code",
      "execution_count": null,
      "metadata": {
        "id": "2qjXpiYSHr-Z",
        "outputId": "e91184b0-fdbc-4525-8212-3a629ad56439"
      },
      "outputs": [
        {
          "name": "stdout",
          "output_type": "stream",
          "text": [
            "Dolphin is a new member of our Aquarium!\n"
          ]
        }
      ],
      "source": [
        "my_aquarium.enters('Dolphin')"
      ]
    },
    {
      "cell_type": "code",
      "execution_count": null,
      "metadata": {
        "id": "COKp0-hZHr-Z",
        "outputId": "e34ecf78-96c8-4f10-dd28-4fd728e09144"
      },
      "outputs": [
        {
          "name": "stdout",
          "output_type": "stream",
          "text": [
            "Sea Lion is a new member of our Aquarium!\n"
          ]
        }
      ],
      "source": [
        "my_aquarium.enters('Sea Lion')"
      ]
    },
    {
      "cell_type": "code",
      "execution_count": null,
      "metadata": {
        "id": "Z_uigPzVHr-a",
        "outputId": "179ace85-5711-48b0-fcc9-cd479359c78a"
      },
      "outputs": [
        {
          "name": "stdout",
          "output_type": "stream",
          "text": [
            "Shark is a new member of our Aquarium!\n"
          ]
        }
      ],
      "source": [
        "my_aquarium.enters('Shark')"
      ]
    },
    {
      "cell_type": "code",
      "execution_count": null,
      "metadata": {
        "id": "Tnp9vGVqHr-a",
        "outputId": "e9124974-92a6-4c74-a387-0ba25f6d4ee1"
      },
      "outputs": [
        {
          "name": "stdout",
          "output_type": "stream",
          "text": [
            "['Turtle', 'Dolphin', 'Sea Lion', 'Shark']\n"
          ]
        }
      ],
      "source": [
        "my_aquarium.show_all()"
      ]
    },
    {
      "cell_type": "code",
      "execution_count": null,
      "metadata": {
        "id": "yCJi0uL_Hr-a"
      },
      "outputs": [],
      "source": [
        "my_aquarium.leaves(\"Sea Lion\")"
      ]
    },
    {
      "cell_type": "code",
      "execution_count": null,
      "metadata": {
        "id": "BfODVjXWHr-b",
        "outputId": "f50f2999-8188-4187-e3c5-2aded2614d30"
      },
      "outputs": [
        {
          "name": "stdout",
          "output_type": "stream",
          "text": [
            "No such sea creature in the Aquarium!\n"
          ]
        }
      ],
      "source": [
        "my_aquarium.leaves(\"Killer Whale\")"
      ]
    },
    {
      "cell_type": "code",
      "execution_count": null,
      "metadata": {
        "id": "w1x80b8nHr-b",
        "outputId": "d10c62b0-44a7-4575-c31d-b680613a9578"
      },
      "outputs": [
        {
          "name": "stdout",
          "output_type": "stream",
          "text": [
            "['Turtle', 'Dolphin', 'Shark']\n"
          ]
        }
      ],
      "source": [
        "my_aquarium.show_all()"
      ]
    },
    {
      "cell_type": "code",
      "execution_count": null,
      "metadata": {
        "id": "Nv84bzXwHr-b"
      },
      "outputs": [],
      "source": [
        "my_aquarium.leaves(\"Turtle\")"
      ]
    },
    {
      "cell_type": "code",
      "execution_count": null,
      "metadata": {
        "id": "Z4s2d8-UHr-c",
        "outputId": "1d140d3e-7dd6-4c64-ab07-b45f7255c654"
      },
      "outputs": [
        {
          "name": "stdout",
          "output_type": "stream",
          "text": [
            "['Dolphin', 'Shark']\n"
          ]
        }
      ],
      "source": [
        "my_aquarium.show_all()"
      ]
    }
  ],
  "metadata": {
    "kernelspec": {
      "display_name": "Python 3",
      "language": "python",
      "name": "python3"
    },
    "language_info": {
      "codemirror_mode": {
        "name": "ipython",
        "version": 3
      },
      "file_extension": ".py",
      "mimetype": "text/x-python",
      "name": "python",
      "nbconvert_exporter": "python",
      "pygments_lexer": "ipython3",
      "version": "3.7.0"
    },
    "toc": {
      "base_numbering": 1,
      "nav_menu": {},
      "number_sections": true,
      "sideBar": true,
      "skip_h1_title": false,
      "title_cell": "Table of Contents",
      "title_sidebar": "Contents",
      "toc_cell": false,
      "toc_position": {},
      "toc_section_display": true,
      "toc_window_display": false
    },
    "varInspector": {
      "cols": {
        "lenName": 16,
        "lenType": 16,
        "lenVar": 40
      },
      "kernels_config": {
        "python": {
          "delete_cmd_postfix": "",
          "delete_cmd_prefix": "del ",
          "library": "var_list.py",
          "varRefreshCmd": "print(var_dic_list())"
        },
        "r": {
          "delete_cmd_postfix": ") ",
          "delete_cmd_prefix": "rm(",
          "library": "var_list.r",
          "varRefreshCmd": "cat(var_dic_list()) "
        }
      },
      "types_to_exclude": [
        "module",
        "function",
        "builtin_function_or_method",
        "instance",
        "_Feature"
      ],
      "window_display": false
    },
    "colab": {
      "provenance": []
    }
  },
  "nbformat": 4,
  "nbformat_minor": 0
}